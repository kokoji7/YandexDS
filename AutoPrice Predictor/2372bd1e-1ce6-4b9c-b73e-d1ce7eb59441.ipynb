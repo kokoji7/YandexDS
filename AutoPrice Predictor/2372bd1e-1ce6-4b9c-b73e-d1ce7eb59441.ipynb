{
 "cells": [
  {
   "cell_type": "markdown",
   "metadata": {},
   "source": [
    "# Определение стоимости автомобилей"
   ]
  },
  {
   "cell_type": "markdown",
   "metadata": {},
   "source": [
    "Сервис по продаже автомобилей с пробегом «Не бит, не крашен» разрабатывает приложение для привлечения новых клиентов. В нём можно быстро узнать рыночную стоимость своего автомобиля. В вашем распоряжении исторические данные: технические характеристики, комплектации и цены автомобилей. Вам нужно построить модель для определения стоимости. \n",
    "\n",
    "Заказчику важны:\n",
    "\n",
    "- качество предсказания;\n",
    "- скорость предсказания;\n",
    "- время обучения."
   ]
  },
  {
   "cell_type": "code",
   "execution_count": 1,
   "metadata": {},
   "outputs": [
    {
     "name": "stdout",
     "output_type": "stream",
     "text": [
      "Requirement already satisfied: lightgbm in c:\\users\\dinos\\anaconda3\\envs\\practicum\\lib\\site-packages (4.5.0)\n",
      "Requirement already satisfied: numpy>=1.17.0 in c:\\users\\dinos\\anaconda3\\envs\\practicum\\lib\\site-packages (from lightgbm) (1.24.4)\n",
      "Requirement already satisfied: scipy in c:\\users\\dinos\\anaconda3\\envs\\practicum\\lib\\site-packages (from lightgbm) (1.8.0)\n",
      "Requirement already satisfied: xgboost in c:\\users\\dinos\\anaconda3\\envs\\practicum\\lib\\site-packages (2.1.3)\n",
      "Requirement already satisfied: numpy in c:\\users\\dinos\\anaconda3\\envs\\practicum\\lib\\site-packages (from xgboost) (1.24.4)\n",
      "Requirement already satisfied: scipy in c:\\users\\dinos\\anaconda3\\envs\\practicum\\lib\\site-packages (from xgboost) (1.8.0)\n",
      "Requirement already satisfied: catboost in c:\\users\\dinos\\anaconda3\\envs\\practicum\\lib\\site-packages (1.2.7)\n",
      "Requirement already satisfied: graphviz in c:\\users\\dinos\\anaconda3\\envs\\practicum\\lib\\site-packages (from catboost) (0.20.3)\n",
      "Requirement already satisfied: matplotlib in c:\\users\\dinos\\anaconda3\\envs\\practicum\\lib\\site-packages (from catboost) (3.9.4)\n",
      "Requirement already satisfied: numpy<2.0,>=1.16.0 in c:\\users\\dinos\\anaconda3\\envs\\practicum\\lib\\site-packages (from catboost) (1.24.4)\n",
      "Requirement already satisfied: pandas>=0.24 in c:\\users\\dinos\\anaconda3\\envs\\practicum\\lib\\site-packages (from catboost) (2.2.3)\n",
      "Requirement already satisfied: scipy in c:\\users\\dinos\\anaconda3\\envs\\practicum\\lib\\site-packages (from catboost) (1.8.0)\n",
      "Requirement already satisfied: plotly in c:\\users\\dinos\\anaconda3\\envs\\practicum\\lib\\site-packages (from catboost) (5.4.0)\n",
      "Requirement already satisfied: six in c:\\users\\dinos\\anaconda3\\envs\\practicum\\lib\\site-packages (from catboost) (1.17.0)\n",
      "Requirement already satisfied: python-dateutil>=2.8.2 in c:\\users\\dinos\\anaconda3\\envs\\practicum\\lib\\site-packages (from pandas>=0.24->catboost) (2.9.0.post0)\n",
      "Requirement already satisfied: pytz>=2020.1 in c:\\users\\dinos\\anaconda3\\envs\\practicum\\lib\\site-packages (from pandas>=0.24->catboost) (2024.2)\n",
      "Requirement already satisfied: tzdata>=2022.7 in c:\\users\\dinos\\anaconda3\\envs\\practicum\\lib\\site-packages (from pandas>=0.24->catboost) (2024.2)\n",
      "Requirement already satisfied: contourpy>=1.0.1 in c:\\users\\dinos\\anaconda3\\envs\\practicum\\lib\\site-packages (from matplotlib->catboost) (1.3.0)\n",
      "Requirement already satisfied: cycler>=0.10 in c:\\users\\dinos\\anaconda3\\envs\\practicum\\lib\\site-packages (from matplotlib->catboost) (0.12.1)\n",
      "Requirement already satisfied: fonttools>=4.22.0 in c:\\users\\dinos\\anaconda3\\envs\\practicum\\lib\\site-packages (from matplotlib->catboost) (4.55.3)\n",
      "Requirement already satisfied: kiwisolver>=1.3.1 in c:\\users\\dinos\\anaconda3\\envs\\practicum\\lib\\site-packages (from matplotlib->catboost) (1.4.7)\n",
      "Requirement already satisfied: packaging>=20.0 in c:\\users\\dinos\\anaconda3\\envs\\practicum\\lib\\site-packages (from matplotlib->catboost) (24.2)\n",
      "Requirement already satisfied: pillow>=8 in c:\\users\\dinos\\anaconda3\\envs\\practicum\\lib\\site-packages (from matplotlib->catboost) (11.0.0)\n",
      "Requirement already satisfied: pyparsing>=2.3.1 in c:\\users\\dinos\\anaconda3\\envs\\practicum\\lib\\site-packages (from matplotlib->catboost) (3.2.0)\n",
      "Requirement already satisfied: importlib-resources>=3.2.0 in c:\\users\\dinos\\anaconda3\\envs\\practicum\\lib\\site-packages (from matplotlib->catboost) (6.4.5)\n",
      "Requirement already satisfied: tenacity>=6.2.0 in c:\\users\\dinos\\anaconda3\\envs\\practicum\\lib\\site-packages (from plotly->catboost) (9.0.0)\n",
      "Requirement already satisfied: zipp>=3.1.0 in c:\\users\\dinos\\anaconda3\\envs\\practicum\\lib\\site-packages (from importlib-resources>=3.2.0->matplotlib->catboost) (3.21.0)\n"
     ]
    }
   ],
   "source": [
    "!pip -q install phik\n",
    "!pip install scikit-learn==1.1.3 -q\n",
    "!pip install lightgbm\n",
    "!pip install xgboost\n",
    "!pip install catboost"
   ]
  },
  {
   "cell_type": "code",
   "execution_count": 2,
   "metadata": {},
   "outputs": [],
   "source": [
    "import pandas as pd\n",
    "import matplotlib.pyplot as plt\n",
    "import seaborn as sns\n",
    "import math\n",
    "import phik\n",
    "import lightgbm as lgb\n",
    "\n",
    "\n",
    "from random import randint\n",
    "from tqdm import tqdm_notebook\n",
    "from xgboost import XGBRegressor\n",
    "from lightgbm import LGBMRegressor\n",
    "from catboost import CatBoostRegressor\n",
    "from sklearn.linear_model import LinearRegression\n",
    "from sklearn.model_selection import GridSearchCV, KFold, train_test_split, cross_val_score\n",
    "from sklearn.preprocessing import OrdinalEncoder, StandardScaler, LabelEncoder, OneHotEncoder\n",
    "from sklearn.metrics import mean_squared_error, make_scorer\n",
    "from sklearn.compose import ColumnTransformer\n",
    "from sklearn.pipeline import Pipeline\n",
    "\n",
    "import time\n",
    "import numpy as np\n",
    "\n",
    "RANDOM_STATE = 100\n",
    "TEST_SIZE = 0.25\n"
   ]
  },
  {
   "cell_type": "markdown",
   "metadata": {},
   "source": [
    "## Подготовка данных"
   ]
  },
  {
   "cell_type": "code",
   "execution_count": 3,
   "metadata": {},
   "outputs": [],
   "source": [
    "try:\n",
    "    data= pd.read_csv(r'C:\\Users\\dinos\\Downloads\\autos.csv', sep=',')\n",
    "    \n",
    "except:\n",
    "    data= pd.read_csv('/datasets/autos.csv', sep=',')\n",
    "\n",
    "pd.set_option('display.max_columns', None)"
   ]
  },
  {
   "cell_type": "code",
   "execution_count": 4,
   "metadata": {},
   "outputs": [],
   "source": [
    "def info(df):\n",
    "    display(df.head(5))\n",
    "    display(df.info()) \n",
    "    print(f'Количество дубликатов: {df.duplicated().sum()}')\n",
    "    print(f'Количество пропусков: {df.isna().sum()}')"
   ]
  },
  {
   "cell_type": "code",
   "execution_count": 5,
   "metadata": {},
   "outputs": [
    {
     "data": {
      "text/html": [
       "<div>\n",
       "<style scoped>\n",
       "    .dataframe tbody tr th:only-of-type {\n",
       "        vertical-align: middle;\n",
       "    }\n",
       "\n",
       "    .dataframe tbody tr th {\n",
       "        vertical-align: top;\n",
       "    }\n",
       "\n",
       "    .dataframe thead th {\n",
       "        text-align: right;\n",
       "    }\n",
       "</style>\n",
       "<table border=\"1\" class=\"dataframe\">\n",
       "  <thead>\n",
       "    <tr style=\"text-align: right;\">\n",
       "      <th></th>\n",
       "      <th>DateCrawled</th>\n",
       "      <th>Price</th>\n",
       "      <th>VehicleType</th>\n",
       "      <th>RegistrationYear</th>\n",
       "      <th>Gearbox</th>\n",
       "      <th>Power</th>\n",
       "      <th>Model</th>\n",
       "      <th>Kilometer</th>\n",
       "      <th>RegistrationMonth</th>\n",
       "      <th>FuelType</th>\n",
       "      <th>Brand</th>\n",
       "      <th>Repaired</th>\n",
       "      <th>DateCreated</th>\n",
       "      <th>NumberOfPictures</th>\n",
       "      <th>PostalCode</th>\n",
       "      <th>LastSeen</th>\n",
       "    </tr>\n",
       "  </thead>\n",
       "  <tbody>\n",
       "    <tr>\n",
       "      <th>0</th>\n",
       "      <td>2016-03-24 11:52:17</td>\n",
       "      <td>480</td>\n",
       "      <td>NaN</td>\n",
       "      <td>1993</td>\n",
       "      <td>manual</td>\n",
       "      <td>0</td>\n",
       "      <td>golf</td>\n",
       "      <td>150000</td>\n",
       "      <td>0</td>\n",
       "      <td>petrol</td>\n",
       "      <td>volkswagen</td>\n",
       "      <td>NaN</td>\n",
       "      <td>2016-03-24 00:00:00</td>\n",
       "      <td>0</td>\n",
       "      <td>70435</td>\n",
       "      <td>2016-04-07 03:16:57</td>\n",
       "    </tr>\n",
       "    <tr>\n",
       "      <th>1</th>\n",
       "      <td>2016-03-24 10:58:45</td>\n",
       "      <td>18300</td>\n",
       "      <td>coupe</td>\n",
       "      <td>2011</td>\n",
       "      <td>manual</td>\n",
       "      <td>190</td>\n",
       "      <td>NaN</td>\n",
       "      <td>125000</td>\n",
       "      <td>5</td>\n",
       "      <td>gasoline</td>\n",
       "      <td>audi</td>\n",
       "      <td>yes</td>\n",
       "      <td>2016-03-24 00:00:00</td>\n",
       "      <td>0</td>\n",
       "      <td>66954</td>\n",
       "      <td>2016-04-07 01:46:50</td>\n",
       "    </tr>\n",
       "    <tr>\n",
       "      <th>2</th>\n",
       "      <td>2016-03-14 12:52:21</td>\n",
       "      <td>9800</td>\n",
       "      <td>suv</td>\n",
       "      <td>2004</td>\n",
       "      <td>auto</td>\n",
       "      <td>163</td>\n",
       "      <td>grand</td>\n",
       "      <td>125000</td>\n",
       "      <td>8</td>\n",
       "      <td>gasoline</td>\n",
       "      <td>jeep</td>\n",
       "      <td>NaN</td>\n",
       "      <td>2016-03-14 00:00:00</td>\n",
       "      <td>0</td>\n",
       "      <td>90480</td>\n",
       "      <td>2016-04-05 12:47:46</td>\n",
       "    </tr>\n",
       "    <tr>\n",
       "      <th>3</th>\n",
       "      <td>2016-03-17 16:54:04</td>\n",
       "      <td>1500</td>\n",
       "      <td>small</td>\n",
       "      <td>2001</td>\n",
       "      <td>manual</td>\n",
       "      <td>75</td>\n",
       "      <td>golf</td>\n",
       "      <td>150000</td>\n",
       "      <td>6</td>\n",
       "      <td>petrol</td>\n",
       "      <td>volkswagen</td>\n",
       "      <td>no</td>\n",
       "      <td>2016-03-17 00:00:00</td>\n",
       "      <td>0</td>\n",
       "      <td>91074</td>\n",
       "      <td>2016-03-17 17:40:17</td>\n",
       "    </tr>\n",
       "    <tr>\n",
       "      <th>4</th>\n",
       "      <td>2016-03-31 17:25:20</td>\n",
       "      <td>3600</td>\n",
       "      <td>small</td>\n",
       "      <td>2008</td>\n",
       "      <td>manual</td>\n",
       "      <td>69</td>\n",
       "      <td>fabia</td>\n",
       "      <td>90000</td>\n",
       "      <td>7</td>\n",
       "      <td>gasoline</td>\n",
       "      <td>skoda</td>\n",
       "      <td>no</td>\n",
       "      <td>2016-03-31 00:00:00</td>\n",
       "      <td>0</td>\n",
       "      <td>60437</td>\n",
       "      <td>2016-04-06 10:17:21</td>\n",
       "    </tr>\n",
       "  </tbody>\n",
       "</table>\n",
       "</div>"
      ],
      "text/plain": [
       "           DateCrawled  Price VehicleType  RegistrationYear Gearbox  Power  \\\n",
       "0  2016-03-24 11:52:17    480         NaN              1993  manual      0   \n",
       "1  2016-03-24 10:58:45  18300       coupe              2011  manual    190   \n",
       "2  2016-03-14 12:52:21   9800         suv              2004    auto    163   \n",
       "3  2016-03-17 16:54:04   1500       small              2001  manual     75   \n",
       "4  2016-03-31 17:25:20   3600       small              2008  manual     69   \n",
       "\n",
       "   Model  Kilometer  RegistrationMonth  FuelType       Brand Repaired  \\\n",
       "0   golf     150000                  0    petrol  volkswagen      NaN   \n",
       "1    NaN     125000                  5  gasoline        audi      yes   \n",
       "2  grand     125000                  8  gasoline        jeep      NaN   \n",
       "3   golf     150000                  6    petrol  volkswagen       no   \n",
       "4  fabia      90000                  7  gasoline       skoda       no   \n",
       "\n",
       "           DateCreated  NumberOfPictures  PostalCode             LastSeen  \n",
       "0  2016-03-24 00:00:00                 0       70435  2016-04-07 03:16:57  \n",
       "1  2016-03-24 00:00:00                 0       66954  2016-04-07 01:46:50  \n",
       "2  2016-03-14 00:00:00                 0       90480  2016-04-05 12:47:46  \n",
       "3  2016-03-17 00:00:00                 0       91074  2016-03-17 17:40:17  \n",
       "4  2016-03-31 00:00:00                 0       60437  2016-04-06 10:17:21  "
      ]
     },
     "metadata": {},
     "output_type": "display_data"
    },
    {
     "name": "stdout",
     "output_type": "stream",
     "text": [
      "<class 'pandas.core.frame.DataFrame'>\n",
      "RangeIndex: 354369 entries, 0 to 354368\n",
      "Data columns (total 16 columns):\n",
      " #   Column             Non-Null Count   Dtype \n",
      "---  ------             --------------   ----- \n",
      " 0   DateCrawled        354369 non-null  object\n",
      " 1   Price              354369 non-null  int64 \n",
      " 2   VehicleType        316879 non-null  object\n",
      " 3   RegistrationYear   354369 non-null  int64 \n",
      " 4   Gearbox            334536 non-null  object\n",
      " 5   Power              354369 non-null  int64 \n",
      " 6   Model              334664 non-null  object\n",
      " 7   Kilometer          354369 non-null  int64 \n",
      " 8   RegistrationMonth  354369 non-null  int64 \n",
      " 9   FuelType           321474 non-null  object\n",
      " 10  Brand              354369 non-null  object\n",
      " 11  Repaired           283215 non-null  object\n",
      " 12  DateCreated        354369 non-null  object\n",
      " 13  NumberOfPictures   354369 non-null  int64 \n",
      " 14  PostalCode         354369 non-null  int64 \n",
      " 15  LastSeen           354369 non-null  object\n",
      "dtypes: int64(7), object(9)\n",
      "memory usage: 43.3+ MB\n"
     ]
    },
    {
     "data": {
      "text/plain": [
       "None"
      ]
     },
     "metadata": {},
     "output_type": "display_data"
    },
    {
     "name": "stdout",
     "output_type": "stream",
     "text": [
      "Количество дубликатов: 4\n",
      "Количество пропусков: DateCrawled              0\n",
      "Price                    0\n",
      "VehicleType          37490\n",
      "RegistrationYear         0\n",
      "Gearbox              19833\n",
      "Power                    0\n",
      "Model                19705\n",
      "Kilometer                0\n",
      "RegistrationMonth        0\n",
      "FuelType             32895\n",
      "Brand                    0\n",
      "Repaired             71154\n",
      "DateCreated              0\n",
      "NumberOfPictures         0\n",
      "PostalCode               0\n",
      "LastSeen                 0\n",
      "dtype: int64\n"
     ]
    }
   ],
   "source": [
    "info(data)"
   ]
  },
  {
   "cell_type": "markdown",
   "metadata": {},
   "source": [
    "* В заголовках необходимо поменять стиль (например, NumberOfPictures - убрать заглавные и тп)\n",
    "* Имеются 4 дубликата\n",
    "* В VehicleType, Gearbox, Model, FuelType, Repaired Имеються пропуски"
   ]
  },
  {
   "cell_type": "markdown",
   "metadata": {},
   "source": [
    "### Предобработка данных"
   ]
  },
  {
   "cell_type": "code",
   "execution_count": 6,
   "metadata": {},
   "outputs": [],
   "source": [
    "#Удаление дупликатов\n",
    "data.drop_duplicates(inplace=True)"
   ]
  },
  {
   "cell_type": "code",
   "execution_count": 7,
   "metadata": {},
   "outputs": [
    {
     "data": {
      "text/plain": [
       "Index(['date_crawled', 'price', 'vehicle_type', 'registration_year', 'gearbox',\n",
       "       'power', 'model', 'kilometer', 'registration_month', 'fuel_type',\n",
       "       'brand', 'repaired', 'date_created', 'number_of_pictures',\n",
       "       'postal_code', 'last_seen'],\n",
       "      dtype='object')"
      ]
     },
     "execution_count": 7,
     "metadata": {},
     "output_type": "execute_result"
    }
   ],
   "source": [
    "#Смена стиля заголовков\n",
    "data.columns = data.columns.str.replace(r\"([A-Z])\", r\" \\1\", regex=True) \\\n",
    "                           .str.lower() \\\n",
    "                           .str.replace(' ', '_') \\\n",
    "                           .str.lstrip('_')\n",
    "data.columns"
   ]
  },
  {
   "cell_type": "markdown",
   "metadata": {},
   "source": [
    "#### Оброботка целевого признака"
   ]
  },
  {
   "cell_type": "code",
   "execution_count": 8,
   "metadata": {},
   "outputs": [
    {
     "data": {
      "image/png": "[encoded data removed]",
      "text/plain": [
       "<Figure size 1100x600 with 1 Axes>"
      ]
     },
     "metadata": {},
     "output_type": "display_data"
    },
    {
     "name": "stdout",
     "output_type": "stream",
     "text": [
      "count    354365.000000\n",
      "mean       4416.679830\n",
      "std        4514.176349\n",
      "min           0.000000\n",
      "25%        1050.000000\n",
      "50%        2700.000000\n",
      "75%        6400.000000\n",
      "max       20000.000000\n",
      "Name: price, dtype: float64\n"
     ]
    }
   ],
   "source": [
    "sns.set_style('whitegrid')\n",
    "plt.figure(figsize=(11, 6))\n",
    "plt.hist(data.price, color = 'green', edgecolor = 'black', bins = 40)\n",
    "plt.title(f\"Распределение признака {'Цена'}\")\n",
    "plt.ylabel(\"Количество\")\n",
    "plt.xlabel('Цена')\n",
    "plt.show()\n",
    "print(data.price.describe())"
   ]
  },
  {
   "cell_type": "code",
   "execution_count": 9,
   "metadata": {},
   "outputs": [
    {
     "data": {
      "image/png": "[encoded data removed]",
      "text/plain": [
       "<Figure size 1100x600 with 1 Axes>"
      ]
     },
     "metadata": {},
     "output_type": "display_data"
    },
    {
     "name": "stdout",
     "output_type": "stream",
     "text": [
      "count    343593.000000\n",
      "mean       4555.147363\n",
      "std        4515.076200\n",
      "min           1.000000\n",
      "25%        1200.000000\n",
      "50%        2890.000000\n",
      "75%        6500.000000\n",
      "max       20000.000000\n",
      "Name: price, dtype: float64\n"
     ]
    }
   ],
   "source": [
    "#удаляю 0 из целевого признака (цена не может быть 0)\n",
    "data = data.query('price > 0')\n",
    "\n",
    "sns.set_style('whitegrid')\n",
    "plt.figure(figsize=(11, 6))\n",
    "plt.hist(data.price, color = 'green', edgecolor = 'black', bins = 40)\n",
    "plt.title(f\"Распределение признака {'Цена'}\")\n",
    "plt.ylabel(\"Количество\")\n",
    "plt.xlabel('Цена')\n",
    "plt.show()\n",
    "print(data.price.describe())"
   ]
  },
  {
   "cell_type": "code",
   "execution_count": 10,
   "metadata": {},
   "outputs": [
    {
     "data": {
      "image/png": "[encoded data removed]",
      "text/plain": [
       "<Figure size 1000x300 with 1 Axes>"
      ]
     },
     "metadata": {},
     "output_type": "display_data"
    },
    {
     "data": {
      "text/plain": [
       "0.05      350.0\n",
       "0.95    14800.0\n",
       "Name: price, dtype: float64"
      ]
     },
     "execution_count": 10,
     "metadata": {},
     "output_type": "execute_result"
    }
   ],
   "source": [
    "plt.figure(figsize=(10,3))\n",
    "sns.boxplot(data=data.price, orient='h')\n",
    "plt.title(f\"Распределение признака {'Цена'}\")\n",
    "plt.xlabel('Цена')\n",
    "plt.show()\n",
    "data.price.quantile([.05, 0.95])"
   ]
  },
  {
   "cell_type": "markdown",
   "metadata": {},
   "source": [
    "Видим выбросы после 14800, отбросим данные до квантили 0.05 и после 0.95"
   ]
  },
  {
   "cell_type": "code",
   "execution_count": 11,
   "metadata": {},
   "outputs": [],
   "source": [
    "data = data.query('350 <= price <= 14800')"
   ]
  },
  {
   "cell_type": "code",
   "execution_count": 12,
   "metadata": {},
   "outputs": [
    {
     "data": {
      "text/html": [
       "<div>\n",
       "<style scoped>\n",
       "    .dataframe tbody tr th:only-of-type {\n",
       "        vertical-align: middle;\n",
       "    }\n",
       "\n",
       "    .dataframe tbody tr th {\n",
       "        vertical-align: top;\n",
       "    }\n",
       "\n",
       "    .dataframe thead th {\n",
       "        text-align: right;\n",
       "    }\n",
       "</style>\n",
       "<table border=\"1\" class=\"dataframe\">\n",
       "  <thead>\n",
       "    <tr style=\"text-align: right;\">\n",
       "      <th></th>\n",
       "      <th>date_crawled</th>\n",
       "      <th>price</th>\n",
       "      <th>vehicle_type</th>\n",
       "      <th>registration_year</th>\n",
       "      <th>gearbox</th>\n",
       "      <th>power</th>\n",
       "      <th>model</th>\n",
       "      <th>kilometer</th>\n",
       "      <th>registration_month</th>\n",
       "      <th>fuel_type</th>\n",
       "      <th>brand</th>\n",
       "      <th>repaired</th>\n",
       "      <th>date_created</th>\n",
       "      <th>number_of_pictures</th>\n",
       "      <th>postal_code</th>\n",
       "      <th>last_seen</th>\n",
       "    </tr>\n",
       "  </thead>\n",
       "  <tbody>\n",
       "    <tr>\n",
       "      <th>0</th>\n",
       "      <td>2016-03-24 11:52:17</td>\n",
       "      <td>480</td>\n",
       "      <td>NaN</td>\n",
       "      <td>1993</td>\n",
       "      <td>manual</td>\n",
       "      <td>0</td>\n",
       "      <td>golf</td>\n",
       "      <td>150000</td>\n",
       "      <td>0</td>\n",
       "      <td>petrol</td>\n",
       "      <td>volkswagen</td>\n",
       "      <td>NaN</td>\n",
       "      <td>2016-03-24 00:00:00</td>\n",
       "      <td>0</td>\n",
       "      <td>70435</td>\n",
       "      <td>2016-04-07 03:16:57</td>\n",
       "    </tr>\n",
       "    <tr>\n",
       "      <th>2</th>\n",
       "      <td>2016-03-14 12:52:21</td>\n",
       "      <td>9800</td>\n",
       "      <td>suv</td>\n",
       "      <td>2004</td>\n",
       "      <td>auto</td>\n",
       "      <td>163</td>\n",
       "      <td>grand</td>\n",
       "      <td>125000</td>\n",
       "      <td>8</td>\n",
       "      <td>gasoline</td>\n",
       "      <td>jeep</td>\n",
       "      <td>NaN</td>\n",
       "      <td>2016-03-14 00:00:00</td>\n",
       "      <td>0</td>\n",
       "      <td>90480</td>\n",
       "      <td>2016-04-05 12:47:46</td>\n",
       "    </tr>\n",
       "    <tr>\n",
       "      <th>3</th>\n",
       "      <td>2016-03-17 16:54:04</td>\n",
       "      <td>1500</td>\n",
       "      <td>small</td>\n",
       "      <td>2001</td>\n",
       "      <td>manual</td>\n",
       "      <td>75</td>\n",
       "      <td>golf</td>\n",
       "      <td>150000</td>\n",
       "      <td>6</td>\n",
       "      <td>petrol</td>\n",
       "      <td>volkswagen</td>\n",
       "      <td>no</td>\n",
       "      <td>2016-03-17 00:00:00</td>\n",
       "      <td>0</td>\n",
       "      <td>91074</td>\n",
       "      <td>2016-03-17 17:40:17</td>\n",
       "    </tr>\n",
       "    <tr>\n",
       "      <th>4</th>\n",
       "      <td>2016-03-31 17:25:20</td>\n",
       "      <td>3600</td>\n",
       "      <td>small</td>\n",
       "      <td>2008</td>\n",
       "      <td>manual</td>\n",
       "      <td>69</td>\n",
       "      <td>fabia</td>\n",
       "      <td>90000</td>\n",
       "      <td>7</td>\n",
       "      <td>gasoline</td>\n",
       "      <td>skoda</td>\n",
       "      <td>no</td>\n",
       "      <td>2016-03-31 00:00:00</td>\n",
       "      <td>0</td>\n",
       "      <td>60437</td>\n",
       "      <td>2016-04-06 10:17:21</td>\n",
       "    </tr>\n",
       "    <tr>\n",
       "      <th>5</th>\n",
       "      <td>2016-04-04 17:36:23</td>\n",
       "      <td>650</td>\n",
       "      <td>sedan</td>\n",
       "      <td>1995</td>\n",
       "      <td>manual</td>\n",
       "      <td>102</td>\n",
       "      <td>3er</td>\n",
       "      <td>150000</td>\n",
       "      <td>10</td>\n",
       "      <td>petrol</td>\n",
       "      <td>bmw</td>\n",
       "      <td>yes</td>\n",
       "      <td>2016-04-04 00:00:00</td>\n",
       "      <td>0</td>\n",
       "      <td>33775</td>\n",
       "      <td>2016-04-06 19:17:07</td>\n",
       "    </tr>\n",
       "    <tr>\n",
       "      <th>...</th>\n",
       "      <td>...</td>\n",
       "      <td>...</td>\n",
       "      <td>...</td>\n",
       "      <td>...</td>\n",
       "      <td>...</td>\n",
       "      <td>...</td>\n",
       "      <td>...</td>\n",
       "      <td>...</td>\n",
       "      <td>...</td>\n",
       "      <td>...</td>\n",
       "      <td>...</td>\n",
       "      <td>...</td>\n",
       "      <td>...</td>\n",
       "      <td>...</td>\n",
       "      <td>...</td>\n",
       "      <td>...</td>\n",
       "    </tr>\n",
       "    <tr>\n",
       "      <th>354363</th>\n",
       "      <td>2016-03-27 20:36:20</td>\n",
       "      <td>1150</td>\n",
       "      <td>bus</td>\n",
       "      <td>2000</td>\n",
       "      <td>manual</td>\n",
       "      <td>0</td>\n",
       "      <td>zafira</td>\n",
       "      <td>150000</td>\n",
       "      <td>3</td>\n",
       "      <td>petrol</td>\n",
       "      <td>opel</td>\n",
       "      <td>no</td>\n",
       "      <td>2016-03-27 00:00:00</td>\n",
       "      <td>0</td>\n",
       "      <td>26624</td>\n",
       "      <td>2016-03-29 10:17:23</td>\n",
       "    </tr>\n",
       "    <tr>\n",
       "      <th>354365</th>\n",
       "      <td>2016-03-14 17:48:27</td>\n",
       "      <td>2200</td>\n",
       "      <td>NaN</td>\n",
       "      <td>2005</td>\n",
       "      <td>NaN</td>\n",
       "      <td>0</td>\n",
       "      <td>NaN</td>\n",
       "      <td>20000</td>\n",
       "      <td>1</td>\n",
       "      <td>NaN</td>\n",
       "      <td>sonstige_autos</td>\n",
       "      <td>NaN</td>\n",
       "      <td>2016-03-14 00:00:00</td>\n",
       "      <td>0</td>\n",
       "      <td>39576</td>\n",
       "      <td>2016-04-06 00:46:52</td>\n",
       "    </tr>\n",
       "    <tr>\n",
       "      <th>354366</th>\n",
       "      <td>2016-03-05 19:56:21</td>\n",
       "      <td>1199</td>\n",
       "      <td>convertible</td>\n",
       "      <td>2000</td>\n",
       "      <td>auto</td>\n",
       "      <td>101</td>\n",
       "      <td>fortwo</td>\n",
       "      <td>125000</td>\n",
       "      <td>3</td>\n",
       "      <td>petrol</td>\n",
       "      <td>smart</td>\n",
       "      <td>no</td>\n",
       "      <td>2016-03-05 00:00:00</td>\n",
       "      <td>0</td>\n",
       "      <td>26135</td>\n",
       "      <td>2016-03-11 18:17:12</td>\n",
       "    </tr>\n",
       "    <tr>\n",
       "      <th>354367</th>\n",
       "      <td>2016-03-19 18:57:12</td>\n",
       "      <td>9200</td>\n",
       "      <td>bus</td>\n",
       "      <td>1996</td>\n",
       "      <td>manual</td>\n",
       "      <td>102</td>\n",
       "      <td>transporter</td>\n",
       "      <td>150000</td>\n",
       "      <td>3</td>\n",
       "      <td>gasoline</td>\n",
       "      <td>volkswagen</td>\n",
       "      <td>no</td>\n",
       "      <td>2016-03-19 00:00:00</td>\n",
       "      <td>0</td>\n",
       "      <td>87439</td>\n",
       "      <td>2016-04-07 07:15:26</td>\n",
       "    </tr>\n",
       "    <tr>\n",
       "      <th>354368</th>\n",
       "      <td>2016-03-20 19:41:08</td>\n",
       "      <td>3400</td>\n",
       "      <td>wagon</td>\n",
       "      <td>2002</td>\n",
       "      <td>manual</td>\n",
       "      <td>100</td>\n",
       "      <td>golf</td>\n",
       "      <td>150000</td>\n",
       "      <td>6</td>\n",
       "      <td>gasoline</td>\n",
       "      <td>volkswagen</td>\n",
       "      <td>NaN</td>\n",
       "      <td>2016-03-20 00:00:00</td>\n",
       "      <td>0</td>\n",
       "      <td>40764</td>\n",
       "      <td>2016-03-24 12:45:21</td>\n",
       "    </tr>\n",
       "  </tbody>\n",
       "</table>\n",
       "<p>310892 rows × 16 columns</p>\n",
       "</div>"
      ],
      "text/plain": [
       "               date_crawled  price vehicle_type  registration_year gearbox  \\\n",
       "0       2016-03-24 11:52:17    480          NaN               1993  manual   \n",
       "2       2016-03-14 12:52:21   9800          suv               2004    auto   \n",
       "3       2016-03-17 16:54:04   1500        small               2001  manual   \n",
       "4       2016-03-31 17:25:20   3600        small               2008  manual   \n",
       "5       2016-04-04 17:36:23    650        sedan               1995  manual   \n",
       "...                     ...    ...          ...                ...     ...   \n",
       "354363  2016-03-27 20:36:20   1150          bus               2000  manual   \n",
       "354365  2016-03-14 17:48:27   2200          NaN               2005     NaN   \n",
       "354366  2016-03-05 19:56:21   1199  convertible               2000    auto   \n",
       "354367  2016-03-19 18:57:12   9200          bus               1996  manual   \n",
       "354368  2016-03-20 19:41:08   3400        wagon               2002  manual   \n",
       "\n",
       "        power        model  kilometer  registration_month fuel_type  \\\n",
       "0           0         golf     150000                   0    petrol   \n",
       "2         163        grand     125000                   8  gasoline   \n",
       "3          75         golf     150000                   6    petrol   \n",
       "4          69        fabia      90000                   7  gasoline   \n",
       "5         102          3er     150000                  10    petrol   \n",
       "...       ...          ...        ...                 ...       ...   \n",
       "354363      0       zafira     150000                   3    petrol   \n",
       "354365      0          NaN      20000                   1       NaN   \n",
       "354366    101       fortwo     125000                   3    petrol   \n",
       "354367    102  transporter     150000                   3  gasoline   \n",
       "354368    100         golf     150000                   6  gasoline   \n",
       "\n",
       "                 brand repaired         date_created  number_of_pictures  \\\n",
       "0           volkswagen      NaN  2016-03-24 00:00:00                   0   \n",
       "2                 jeep      NaN  2016-03-14 00:00:00                   0   \n",
       "3           volkswagen       no  2016-03-17 00:00:00                   0   \n",
       "4                skoda       no  2016-03-31 00:00:00                   0   \n",
       "5                  bmw      yes  2016-04-04 00:00:00                   0   \n",
       "...                ...      ...                  ...                 ...   \n",
       "354363            opel       no  2016-03-27 00:00:00                   0   \n",
       "354365  sonstige_autos      NaN  2016-03-14 00:00:00                   0   \n",
       "354366           smart       no  2016-03-05 00:00:00                   0   \n",
       "354367      volkswagen       no  2016-03-19 00:00:00                   0   \n",
       "354368      volkswagen      NaN  2016-03-20 00:00:00                   0   \n",
       "\n",
       "        postal_code            last_seen  \n",
       "0             70435  2016-04-07 03:16:57  \n",
       "2             90480  2016-04-05 12:47:46  \n",
       "3             91074  2016-03-17 17:40:17  \n",
       "4             60437  2016-04-06 10:17:21  \n",
       "5             33775  2016-04-06 19:17:07  \n",
       "...             ...                  ...  \n",
       "354363        26624  2016-03-29 10:17:23  \n",
       "354365        39576  2016-04-06 00:46:52  \n",
       "354366        26135  2016-03-11 18:17:12  \n",
       "354367        87439  2016-04-07 07:15:26  \n",
       "354368        40764  2016-03-24 12:45:21  \n",
       "\n",
       "[310892 rows x 16 columns]"
      ]
     },
     "execution_count": 12,
     "metadata": {},
     "output_type": "execute_result"
    }
   ],
   "source": [
    "data"
   ]
  },
  {
   "cell_type": "markdown",
   "metadata": {},
   "source": [
    "#### Категориальные признаки"
   ]
  },
  {
   "cell_type": "code",
   "execution_count": 13,
   "metadata": {
    "scrolled": true
   },
   "outputs": [
    {
     "name": "stdout",
     "output_type": "stream",
     "text": [
      "[nan 'suv' 'small' 'sedan' 'convertible' 'bus' 'wagon' 'coupe' 'other']\n",
      "\n",
      "\n",
      "[1993 2004 2001 2008 1995 2014 1998 2005 1910 2007 2009 2002 2018 1997\n",
      " 1990 2017 1981 2003 2016 1991 1984 2006 1999 2012 2010 2000 1992 2013\n",
      " 1994 1996 1989 2011 1985 1982 1976 1973 2015 1969 1971 1987 1983 1988\n",
      " 1980 1970 1986 1965 1945 1925 1974 1979 1955 1978 1972 1968 1977 1961\n",
      " 1966 1975 1963 1964 1958 1967 3200 1960 1941 9999 8888 1500 4100 1962\n",
      " 1929 1957 2066 1949 1940 2019 1937 1951 1800 1959 1954 1234 5300 9000\n",
      " 2900 6000 1953 5911 1000 1400 5000 4000 1952 8500 1950 3700 3800 4800\n",
      " 1942 7000 1956 1935 1936 1923 2290 1930 1001 9450 1944 2500 1938 1934\n",
      " 1943 1928 5555 1600 1111 1932 1039 3000 2800 1931 1948 4500 1602 7800\n",
      " 7100 1300 8200 1946]\n",
      "\n",
      "\n",
      "['manual' 'auto' nan]\n",
      "\n",
      "\n",
      "['golf' 'grand' 'fabia' '3er' '2_reihe' 'c_max' '3_reihe' 'passat' 'ka'\n",
      " 'twingo' 'a_klasse' 'scirocco' '5er' 'meriva' 'arosa' 'other' 'c4'\n",
      " 'civic' 'transporter' 'punto' 'e_klasse' 'clio' 'kadett' 'kangoo' 'one'\n",
      " 'fortwo' '1er' 'b_klasse' 'signum' 'astra' 'a8' 'jetta' 'polo' 'fiesta'\n",
      " 'c_klasse' 'micra' 'vito' 'sprinter' nan 'escort' 'forester' 'xc_reihe'\n",
      " 'scenic' 'a4' 'a1' 'insignia' 'combo' 'focus' 'tt' 'corsa' 'a6' 'jazz'\n",
      " 'omega' 'slk' '7er' '80' '147' 'z_reihe' 'sportage' 'sorento' 'ibiza'\n",
      " 'eos' 'touran' 'getz' 'a3' 'almera' 'megane' 'lupo' 'r19' 'zafira'\n",
      " 'caddy' 'mondeo' 'cordoba' 'colt' 'impreza' 'vectra' 'berlingo' 'tiguan'\n",
      " 'i_reihe' 'espace' 'sharan' '6_reihe' 'panda' 'up' 'seicento' 'ceed'\n",
      " 'yeti' 'octavia' 'mii' 'rx_reihe' 'modus' 'fox' 'matiz' 'beetle' 'c1'\n",
      " 'rio' 'logan' 'spider' 'cuore' 's_max' 'a2' 'c3' '1_reihe' 'avensis'\n",
      " 'viano' 'roomster' 'sl' 'kaefer' 'santa' 'cooper' 'leon' '4_reihe' '500'\n",
      " 'laguna' 'ptcruiser' 'clk' 'primera' 's_klasse' 'galaxy' 'x_reihe' '159'\n",
      " 'transit' 'juke' 'qashqai' 'v40' 'carisma' 'accord' 'corolla' 'lanos'\n",
      " 'phaeton' 'verso' 'swift' 'rav' 'picanto' 'boxster' 'kalos' 'stilo'\n",
      " 'alhambra' 'touareg' 'roadster' 'galant' 'justy' '90' 'sirion'\n",
      " 'crossfire' 'agila' 'duster' 'cr_reihe' 'v50' 'mx_reihe' 'c_reihe'\n",
      " 'v_klasse' 'm_klasse' 'yaris' 'c5' 'aygo' 'cc' 'carnival' 'fusion' 'bora'\n",
      " 'forfour' 'a5' '100' 'cl' 'tigra' '156' '300c' 'spark' 'v70' '5_reihe'\n",
      " 'ducato' 's_type' 'x_trail' 'toledo' 'altea' 'voyager' 'bravo' 'antara'\n",
      " 'tucson' 'x_type' 'citigo' 'jimny' 'wrangler' 'lybra' 'q7' 'lancer'\n",
      " 'captiva' 'c2' 'discovery' 'freelander' 'sandero' 'note' 'kuga' 'navara'\n",
      " '900' 'cherokee' 'defender' '601' 'legacy' 'pajero' 'auris' 'cayenne'\n",
      " 'niva' 'exeo' 's60' 'clubman' 'm_reihe' 'nubira' 'vivaro' 'g_klasse'\n",
      " 'ypsilon' 'lodgy' 'superb' '850' 'serie_2' 'calibra' 'charade' 'croma'\n",
      " 'outlander' 'doblo' 'musa' '6er' '9000' 'v60' 'aveo' '200' '145' 'b_max'\n",
      " 'cx_reihe' 'mustang' 'range_rover_sport' 'terios' 'range_rover' 'move'\n",
      " '911' 'rangerover' 'q5' 'range_rover_evoque' 'materia' 'glk' 'kalina'\n",
      " 'amarok' 'elefantino' 'delta' 'i3' 'samara' 'kappa' 'serie_3' 'gl'\n",
      " 'serie_1' 'q3']\n",
      "\n",
      "\n",
      "['petrol' 'gasoline' nan 'lpg' 'other' 'hybrid' 'cng' 'electric']\n",
      "\n",
      "\n",
      "['volkswagen' 'jeep' 'skoda' 'bmw' 'peugeot' 'ford' 'mazda' 'renault'\n",
      " 'mercedes_benz' 'opel' 'seat' 'citroen' 'honda' 'fiat' 'mini' 'smart'\n",
      " 'hyundai' 'audi' 'nissan' 'subaru' 'volvo' 'mitsubishi' 'alfa_romeo'\n",
      " 'kia' 'suzuki' 'lancia' 'toyota' 'chevrolet' 'dacia' 'sonstige_autos'\n",
      " 'daihatsu' 'chrysler' 'jaguar' 'daewoo' 'rover' 'porsche' 'saab'\n",
      " 'trabant' 'land_rover' 'lada']\n",
      "\n",
      "\n",
      "[nan 'no' 'yes']\n",
      "\n",
      "\n"
     ]
    }
   ],
   "source": [
    "columns = ['vehicle_type', 'registration_year', 'gearbox', 'model', 'fuel_type', 'brand', 'repaired']\n",
    "\n",
    "for column in columns:\n",
    "    print(data[column].unique())\n",
    "    print('\\n')"
   ]
  },
  {
   "cell_type": "markdown",
   "metadata": {},
   "source": [
    "* заполню пропуски в vehicle_type на unknown\n",
    "* Странные даты лет, исключу лишнее\n",
    "* заполню пропуски в gearbox на unknown\n",
    "* заполню пропуски в model на unknown\n",
    "* заполню пропуски в fuel_type на unknown\n",
    "* заполню пропуски в repaired на unknown"
   ]
  },
  {
   "cell_type": "markdown",
   "metadata": {},
   "source": [
    "vehicle_type"
   ]
  },
  {
   "cell_type": "code",
   "execution_count": 14,
   "metadata": {},
   "outputs": [
    {
     "data": {
      "text/plain": [
       "vehicle_type\n",
       "sedan          82545\n",
       "small          71292\n",
       "wagon          58780\n",
       "unknown        28664\n",
       "bus            26480\n",
       "convertible    17528\n",
       "coupe          13328\n",
       "suv             9485\n",
       "other           2790\n",
       "Name: count, dtype: int64"
      ]
     },
     "execution_count": 14,
     "metadata": {},
     "output_type": "execute_result"
    }
   ],
   "source": [
    "data['vehicle_type'] = data['vehicle_type'].fillna(value='unknown')\n",
    "data['vehicle_type'].value_counts()"
   ]
  },
  {
   "cell_type": "markdown",
   "metadata": {},
   "source": [
    "registration_year"
   ]
  },
  {
   "cell_type": "code",
   "execution_count": 15,
   "metadata": {},
   "outputs": [
    {
     "data": {
      "image/png": "[encoded data removed]",
      "text/plain": [
       "<Figure size 1200x600 with 1 Axes>"
      ]
     },
     "metadata": {},
     "output_type": "display_data"
    }
   ],
   "source": [
    "pd.Series(list(data.registration_year.unique())).sort_values(ascending=False).plot(kind='hist', \n",
    "                                                                                   figsize=(12,6), \n",
    "                                                                                   grid=True, \n",
    "                                                                                   bins=50)\n",
    "plt.show()"
   ]
  },
  {
   "cell_type": "markdown",
   "metadata": {},
   "source": [
    "Я исключу данные об автомобилях, зарегистрированных после 2024 года и до 1980 года (другие машины могут иметь год выпуска раньше года регистрации, но это уже редкость, и их стоимость формируется иначе)."
   ]
  },
  {
   "cell_type": "code",
   "execution_count": 16,
   "metadata": {},
   "outputs": [
    {
     "data": {
      "text/plain": [
       "90713    2016-04-07 14:36:58\n",
       "Name: date_crawled, dtype: object"
      ]
     },
     "execution_count": 16,
     "metadata": {},
     "output_type": "execute_result"
    }
   ],
   "source": [
    "data['date_crawled'].sort_values().tail(1)"
   ]
  },
  {
   "cell_type": "code",
   "execution_count": 17,
   "metadata": {},
   "outputs": [],
   "source": [
    "data = data[(data['registration_year'] >= 1980) & (data['registration_year'] <= 2016)]"
   ]
  },
  {
   "cell_type": "markdown",
   "metadata": {},
   "source": [
    "gearbox"
   ]
  },
  {
   "cell_type": "code",
   "execution_count": 18,
   "metadata": {},
   "outputs": [
    {
     "data": {
      "text/plain": [
       "12115"
      ]
     },
     "execution_count": 18,
     "metadata": {},
     "output_type": "execute_result"
    }
   ],
   "source": [
    "data['gearbox'].isna().sum()"
   ]
  },
  {
   "cell_type": "code",
   "execution_count": 19,
   "metadata": {},
   "outputs": [
    {
     "name": "stderr",
     "output_type": "stream",
     "text": [
      "C:\\Users\\dinos\\AppData\\Local\\Temp\\ipykernel_36856\\4136663534.py:1: SettingWithCopyWarning: \n",
      "A value is trying to be set on a copy of a slice from a DataFrame.\n",
      "Try using .loc[row_indexer,col_indexer] = value instead\n",
      "\n",
      "See the caveats in the documentation: https://pandas.pydata.org/pandas-docs/stable/user_guide/indexing.html#returning-a-view-versus-a-copy\n",
      "  data['gearbox']=data['gearbox'].fillna('unknow');\n"
     ]
    }
   ],
   "source": [
    "data['gearbox']=data['gearbox'].fillna('unknow');"
   ]
  },
  {
   "cell_type": "markdown",
   "metadata": {},
   "source": [
    "model"
   ]
  },
  {
   "cell_type": "code",
   "execution_count": 20,
   "metadata": {},
   "outputs": [
    {
     "data": {
      "text/plain": [
       "12759"
      ]
     },
     "execution_count": 20,
     "metadata": {},
     "output_type": "execute_result"
    }
   ],
   "source": [
    "data['model'].isna().sum()"
   ]
  },
  {
   "cell_type": "code",
   "execution_count": 21,
   "metadata": {
    "scrolled": true
   },
   "outputs": [
    {
     "name": "stderr",
     "output_type": "stream",
     "text": [
      "C:\\Users\\dinos\\AppData\\Local\\Temp\\ipykernel_36856\\3043361496.py:1: SettingWithCopyWarning: \n",
      "A value is trying to be set on a copy of a slice from a DataFrame.\n",
      "Try using .loc[row_indexer,col_indexer] = value instead\n",
      "\n",
      "See the caveats in the documentation: https://pandas.pydata.org/pandas-docs/stable/user_guide/indexing.html#returning-a-view-versus-a-copy\n",
      "  data['model']=data['model'].fillna('unknow');\n"
     ]
    }
   ],
   "source": [
    "data['model']=data['model'].fillna('unknow');"
   ]
  },
  {
   "cell_type": "markdown",
   "metadata": {},
   "source": [
    "repaired"
   ]
  },
  {
   "cell_type": "code",
   "execution_count": 22,
   "metadata": {},
   "outputs": [
    {
     "data": {
      "text/plain": [
       "51074"
      ]
     },
     "execution_count": 22,
     "metadata": {},
     "output_type": "execute_result"
    }
   ],
   "source": [
    "data['repaired'].isna().sum()"
   ]
  },
  {
   "cell_type": "code",
   "execution_count": 23,
   "metadata": {},
   "outputs": [
    {
     "name": "stderr",
     "output_type": "stream",
     "text": [
      "C:\\Users\\dinos\\AppData\\Local\\Temp\\ipykernel_36856\\1173106547.py:1: SettingWithCopyWarning: \n",
      "A value is trying to be set on a copy of a slice from a DataFrame.\n",
      "Try using .loc[row_indexer,col_indexer] = value instead\n",
      "\n",
      "See the caveats in the documentation: https://pandas.pydata.org/pandas-docs/stable/user_guide/indexing.html#returning-a-view-versus-a-copy\n",
      "  data['repaired']=data['repaired'].fillna('unknow');\n"
     ]
    }
   ],
   "source": [
    "data['repaired']=data['repaired'].fillna('unknow');"
   ]
  },
  {
   "cell_type": "markdown",
   "metadata": {},
   "source": [
    "fuel_type"
   ]
  },
  {
   "cell_type": "code",
   "execution_count": 24,
   "metadata": {},
   "outputs": [
    {
     "data": {
      "text/plain": [
       "fuel_type\n",
       "petrol      184962\n",
       "gasoline     85265\n",
       "lpg           4832\n",
       "cng            513\n",
       "hybrid         169\n",
       "other          106\n",
       "electric        76\n",
       "Name: count, dtype: int64"
      ]
     },
     "execution_count": 24,
     "metadata": {},
     "output_type": "execute_result"
    }
   ],
   "source": [
    "data['fuel_type'].value_counts()"
   ]
  },
  {
   "cell_type": "code",
   "execution_count": 25,
   "metadata": {},
   "outputs": [
    {
     "data": {
      "text/plain": [
       "19316"
      ]
     },
     "execution_count": 25,
     "metadata": {},
     "output_type": "execute_result"
    }
   ],
   "source": [
    "data['fuel_type'].isna().sum()"
   ]
  },
  {
   "cell_type": "code",
   "execution_count": 26,
   "metadata": {},
   "outputs": [
    {
     "name": "stderr",
     "output_type": "stream",
     "text": [
      "C:\\Users\\dinos\\AppData\\Local\\Temp\\ipykernel_36856\\147754875.py:1: SettingWithCopyWarning: \n",
      "A value is trying to be set on a copy of a slice from a DataFrame.\n",
      "Try using .loc[row_indexer,col_indexer] = value instead\n",
      "\n",
      "See the caveats in the documentation: https://pandas.pydata.org/pandas-docs/stable/user_guide/indexing.html#returning-a-view-versus-a-copy\n",
      "  data['fuel_type']=data['fuel_type'].fillna('unknow');\n"
     ]
    }
   ],
   "source": [
    "data['fuel_type']=data['fuel_type'].fillna('unknow');"
   ]
  },
  {
   "cell_type": "markdown",
   "metadata": {},
   "source": [
    "#### Численные признаки"
   ]
  },
  {
   "cell_type": "code",
   "execution_count": 27,
   "metadata": {},
   "outputs": [],
   "source": [
    "num_col=['power', 'kilometer', 'registration_month', 'number_of_pictures']\n",
    "titles_num = ['Мощность', 'Километраж', 'Месяц регистрации', 'Кол-во картинок']"
   ]
  },
  {
   "cell_type": "code",
   "execution_count": 28,
   "metadata": {},
   "outputs": [
    {
     "data": {
      "image/png": "[encoded data removed]",
      "text/plain": [
       "<Figure size 1500x600 with 1 Axes>"
      ]
     },
     "metadata": {},
     "output_type": "display_data"
    },
    {
     "name": "stdout",
     "output_type": "stream",
     "text": [
      "count    295239.000000\n",
      "mean        111.109339\n",
      "std         184.742237\n",
      "min           0.000000\n",
      "25%          75.000000\n",
      "50%         105.000000\n",
      "75%         140.000000\n",
      "max       20000.000000\n",
      "Name: power, dtype: float64\n"
     ]
    },
    {
     "data": {
      "image/png": "[encoded data removed]",
      "text/plain": [
       "<Figure size 1500x600 with 1 Axes>"
      ]
     },
     "metadata": {},
     "output_type": "display_data"
    },
    {
     "name": "stdout",
     "output_type": "stream",
     "text": [
      "count    295239.000000\n",
      "mean     130492.787200\n",
      "std       35168.663232\n",
      "min        5000.000000\n",
      "25%      125000.000000\n",
      "50%      150000.000000\n",
      "75%      150000.000000\n",
      "max      150000.000000\n",
      "Name: kilometer, dtype: float64\n"
     ]
    },
    {
     "data": {
      "image/png": "[encoded data removed]",
      "text/plain": [
       "<Figure size 1500x600 with 1 Axes>"
      ]
     },
     "metadata": {},
     "output_type": "display_data"
    },
    {
     "name": "stdout",
     "output_type": "stream",
     "text": [
      "count    295239.000000\n",
      "mean          5.904532\n",
      "std           3.651624\n",
      "min           0.000000\n",
      "25%           3.000000\n",
      "50%           6.000000\n",
      "75%           9.000000\n",
      "max          12.000000\n",
      "Name: registration_month, dtype: float64\n"
     ]
    },
    {
     "data": {
      "image/png": "[encoded data removed]",
      "text/plain": [
       "<Figure size 1500x600 with 1 Axes>"
      ]
     },
     "metadata": {},
     "output_type": "display_data"
    },
    {
     "name": "stdout",
     "output_type": "stream",
     "text": [
      "count    295239.0\n",
      "mean          0.0\n",
      "std           0.0\n",
      "min           0.0\n",
      "25%           0.0\n",
      "50%           0.0\n",
      "75%           0.0\n",
      "max           0.0\n",
      "Name: number_of_pictures, dtype: float64\n"
     ]
    }
   ],
   "source": [
    "for i in range(len(num_col)):\n",
    "    sns.set_style('whitegrid')\n",
    "    plt.figure(figsize=(15, 6))\n",
    "    plt.hist(data[num_col[i]], color = 'green', edgecolor = 'black', bins = 50)\n",
    "    plt.title(f\"Распределение признака {titles_num[i]}\")\n",
    "    plt.ylabel(\"Количество\")\n",
    "    plt.xlabel(titles_num[i])\n",
    "    plt.show()\n",
    "    print(data[num_col[i]].describe())"
   ]
  },
  {
   "cell_type": "markdown",
   "metadata": {},
   "source": [
    "Имеется 0 месяц в registration_month\n",
    "\n",
    "0 мог появиться по разным причинам. Например, раньше 0 месяц мог обозначать январь, но впоследствии его заменили на 1, а старые данные с 0 остались неизменными. Либо месяц регистрации просто не указывался, и вместо nan использовали 0. В любом случае данных с 0 слишком много, чтобы менять их на 1 месяц или вовсе удалять их, поэтому оставим как есть."
   ]
  },
  {
   "cell_type": "markdown",
   "metadata": {},
   "source": [
    "Невозможно, чтобы мощность двигателя была равна 0 или 20000 л.с., так как таких автомобилей не существует. По этой причине я удалю эти данные. Согласно информации, найденной в интернете, самая мощные машины в мире на данный момент имеют около 2000 л.с., поэтому я удалю все значения, превышающие этот показатель. Также выяснил, что у старых автомобилей минимальная мощность — 9 л.с."
   ]
  },
  {
   "cell_type": "code",
   "execution_count": 29,
   "metadata": {},
   "outputs": [],
   "source": [
    "data = data.query('9 <= power <= 2000')"
   ]
  },
  {
   "cell_type": "markdown",
   "metadata": {},
   "source": [
    "Удалим столбцы date_crawled и number_of_pictures, так как они не влияют на целевой признак"
   ]
  },
  {
   "cell_type": "code",
   "execution_count": 30,
   "metadata": {},
   "outputs": [],
   "source": [
    "data = data.drop(['date_crawled', 'number_of_pictures'], axis=1)"
   ]
  },
  {
   "cell_type": "markdown",
   "metadata": {},
   "source": [
    "### Корреляция данных"
   ]
  },
  {
   "cell_type": "code",
   "execution_count": 31,
   "metadata": {},
   "outputs": [
    {
     "data": {
      "text/plain": [
       "Index(['price', 'vehicle_type', 'registration_year', 'gearbox', 'power',\n",
       "       'model', 'kilometer', 'registration_month', 'fuel_type', 'brand',\n",
       "       'repaired', 'date_created', 'postal_code', 'last_seen'],\n",
       "      dtype='object')"
      ]
     },
     "execution_count": 31,
     "metadata": {},
     "output_type": "execute_result"
    }
   ],
   "source": [
    "data.columns"
   ]
  },
  {
   "cell_type": "code",
   "execution_count": 32,
   "metadata": {},
   "outputs": [
    {
     "data": {
      "text/html": [
       "<div>\n",
       "<style scoped>\n",
       "    .dataframe tbody tr th:only-of-type {\n",
       "        vertical-align: middle;\n",
       "    }\n",
       "\n",
       "    .dataframe tbody tr th {\n",
       "        vertical-align: top;\n",
       "    }\n",
       "\n",
       "    .dataframe thead th {\n",
       "        text-align: right;\n",
       "    }\n",
       "</style>\n",
       "<table border=\"1\" class=\"dataframe\">\n",
       "  <thead>\n",
       "    <tr style=\"text-align: right;\">\n",
       "      <th></th>\n",
       "      <th>price</th>\n",
       "      <th>registration_year</th>\n",
       "      <th>power</th>\n",
       "      <th>kilometer</th>\n",
       "      <th>registration_month</th>\n",
       "      <th>postal_code</th>\n",
       "    </tr>\n",
       "  </thead>\n",
       "  <tbody>\n",
       "    <tr>\n",
       "      <th>price</th>\n",
       "      <td>1.000000</td>\n",
       "      <td>0.551982</td>\n",
       "      <td>0.376691</td>\n",
       "      <td>-0.338565</td>\n",
       "      <td>0.064449</td>\n",
       "      <td>0.050932</td>\n",
       "    </tr>\n",
       "    <tr>\n",
       "      <th>registration_year</th>\n",
       "      <td>0.551982</td>\n",
       "      <td>1.000000</td>\n",
       "      <td>0.060957</td>\n",
       "      <td>-0.328418</td>\n",
       "      <td>0.033824</td>\n",
       "      <td>0.022191</td>\n",
       "    </tr>\n",
       "    <tr>\n",
       "      <th>power</th>\n",
       "      <td>0.376691</td>\n",
       "      <td>0.060957</td>\n",
       "      <td>1.000000</td>\n",
       "      <td>0.133557</td>\n",
       "      <td>0.023929</td>\n",
       "      <td>0.034472</td>\n",
       "    </tr>\n",
       "    <tr>\n",
       "      <th>kilometer</th>\n",
       "      <td>-0.338565</td>\n",
       "      <td>-0.328418</td>\n",
       "      <td>0.133557</td>\n",
       "      <td>1.000000</td>\n",
       "      <td>-0.013060</td>\n",
       "      <td>-0.001408</td>\n",
       "    </tr>\n",
       "    <tr>\n",
       "      <th>registration_month</th>\n",
       "      <td>0.064449</td>\n",
       "      <td>0.033824</td>\n",
       "      <td>0.023929</td>\n",
       "      <td>-0.013060</td>\n",
       "      <td>1.000000</td>\n",
       "      <td>0.000364</td>\n",
       "    </tr>\n",
       "    <tr>\n",
       "      <th>postal_code</th>\n",
       "      <td>0.050932</td>\n",
       "      <td>0.022191</td>\n",
       "      <td>0.034472</td>\n",
       "      <td>-0.001408</td>\n",
       "      <td>0.000364</td>\n",
       "      <td>1.000000</td>\n",
       "    </tr>\n",
       "  </tbody>\n",
       "</table>\n",
       "</div>"
      ],
      "text/plain": [
       "                       price  registration_year     power  kilometer  \\\n",
       "price               1.000000           0.551982  0.376691  -0.338565   \n",
       "registration_year   0.551982           1.000000  0.060957  -0.328418   \n",
       "power               0.376691           0.060957  1.000000   0.133557   \n",
       "kilometer          -0.338565          -0.328418  0.133557   1.000000   \n",
       "registration_month  0.064449           0.033824  0.023929  -0.013060   \n",
       "postal_code         0.050932           0.022191  0.034472  -0.001408   \n",
       "\n",
       "                    registration_month  postal_code  \n",
       "price                         0.064449     0.050932  \n",
       "registration_year             0.033824     0.022191  \n",
       "power                         0.023929     0.034472  \n",
       "kilometer                    -0.013060    -0.001408  \n",
       "registration_month            1.000000     0.000364  \n",
       "postal_code                   0.000364     1.000000  "
      ]
     },
     "execution_count": 32,
     "metadata": {},
     "output_type": "execute_result"
    }
   ],
   "source": [
    "int_data = data.drop(['vehicle_type', 'gearbox', 'model', 'fuel_type', 'brand', 'repaired','date_created','last_seen'], axis=1)\n",
    "int_data.corr()"
   ]
  },
  {
   "cell_type": "markdown",
   "metadata": {},
   "source": [
    "Столбцы date_created, last_seen, postal_code не связаны с целевым признаком, поэтому удлим их"
   ]
  },
  {
   "cell_type": "code",
   "execution_count": 33,
   "metadata": {},
   "outputs": [],
   "source": [
    "data= data.drop(['date_created', 'last_seen', 'postal_code'], axis=1)"
   ]
  },
  {
   "cell_type": "code",
   "execution_count": 34,
   "metadata": {},
   "outputs": [
    {
     "data": {
      "image/png": "[encoded data removed]",
      "text/plain": [
       "<Figure size 1000x1000 with 2 Axes>"
      ]
     },
     "metadata": {},
     "output_type": "display_data"
    }
   ],
   "source": [
    "interval_cols = ['price', 'power']\n",
    "\n",
    "corr_matrix = data.phik_matrix(interval_cols=interval_cols)\n",
    "\n",
    "plt.figure(figsize=(10, 10))\n",
    "sns.heatmap(corr_matrix, annot=True, cmap='rocket')\n",
    "plt.title('Матрица корреляции phik')\n",
    "plt.show()"
   ]
  },
  {
   "cell_type": "markdown",
   "metadata": {},
   "source": [
    "На основе корреляционной матрицы можно сделать следующие выводы о том, как различные признаки связаны с целевым признаком price:\n",
    "\n",
    "Самая сильная корреляция с price:\n",
    "\n",
    "model (0.550) — Модель автомобиля демонстрирует наибольшую корреляцию с ценой.\n",
    "\n",
    "Умеренная корреляция:\n",
    "\n",
    "* power (0.287) — Мощность двигателя также оказывает влияние на цену. Чем больше мощность, тем дороже автомобиль.\n",
    "* gearbox (0.273) — Тип коробки передач связан с ценой. Автомобили с автоматической коробкой часто дороже, что, возможно, и отражено в корреляции.\n",
    "* kilometer (0.278) — Пробег автомобиля имеет умеренную отрицательную корреляцию с ценой: чем больше пробег, тем ниже цена.\n",
    "* brand (0.333) — Бренд автомобиля также оказывает влияние на цену, что логично: разные бренды занимают разные ниши на рынке.\n",
    "* repaired (0.301) — Наличие/отсутствие ремонта связано с ценой, возможно, отремонтированные автомобили дешевле."
   ]
  },
  {
   "cell_type": "markdown",
   "metadata": {},
   "source": [
    "## Обучение моделей"
   ]
  },
  {
   "cell_type": "markdown",
   "metadata": {},
   "source": [
    "Замена категориальных переменных на числовые"
   ]
  },
  {
   "cell_type": "code",
   "execution_count": 35,
   "metadata": {},
   "outputs": [],
   "source": [
    "# Разделение данных на признаки и целевую переменную\n",
    "X = data.drop('price', axis=1)\n",
    "y = data['price']\n",
    "\n",
    "# Разделение на тренировочную и тестовую выборки\n",
    "X_train, X_test, y_train, y_test = train_test_split(X, y, test_size=0.2, random_state=42)\n",
    "\n",
    "# Определение числовых и категориальных признаков\n",
    "numerical_cols = ['registration_year', 'power', 'kilometer', 'registration_month']\n",
    "categorical_cols = ['vehicle_type', 'gearbox', 'model', 'fuel_type', 'brand', 'repaired']\n",
    "\n",
    "# Предобработка для линейной модели (OneHotEncoder и масштабирование)\n",
    "preprocessor_linear = ColumnTransformer(transformers=[\n",
    "    ('num', StandardScaler(), numerical_cols),\n",
    "    ('cat', OneHotEncoder(handle_unknown='ignore', drop='first'), categorical_cols)\n",
    "])"
   ]
  },
  {
   "cell_type": "code",
   "execution_count": 36,
   "metadata": {},
   "outputs": [],
   "source": [
    "# Предобработка для остальных моделей (OrdinalEncoder без масштабирования)\n",
    "preprocessor_other = ColumnTransformer(transformers=[\n",
    "    ('num', 'passthrough', numerical_cols),\n",
    "    ('cat', OrdinalEncoder(handle_unknown='use_encoded_value', unknown_value=-1), categorical_cols)\n",
    "])"
   ]
  },
  {
   "cell_type": "code",
   "execution_count": 37,
   "metadata": {},
   "outputs": [
    {
     "name": "stderr",
     "output_type": "stream",
     "text": [
      "C:\\Users\\dinos\\anaconda3\\envs\\practicum\\lib\\site-packages\\sklearn\\preprocessing\\_encoders.py:188: UserWarning: Found unknown categories in columns [2] during transform. These unknown categories will be encoded as all zeros\n",
      "  warnings.warn(\n",
      "C:\\Users\\dinos\\anaconda3\\envs\\practicum\\lib\\site-packages\\sklearn\\preprocessing\\_encoders.py:188: UserWarning: Found unknown categories in columns [2] during transform. These unknown categories will be encoded as all zeros\n",
      "  warnings.warn(\n"
     ]
    },
    {
     "name": "stdout",
     "output_type": "stream",
     "text": [
      "RMSE на кросс-валидации для Linear Regression: 2037.94\n",
      "Время обучения Linear Regression: 2.80 секунд\n",
      "Время предсказания на тренировочной выборке для Linear Regression: 0.27 секунд\n"
     ]
    }
   ],
   "source": [
    "pipeline_linear = Pipeline(steps=[\n",
    "    ('preprocessor', preprocessor_linear),\n",
    "    ('model', LinearRegression())\n",
    "]);\n",
    "\n",
    "# Определяем метрику RMSE для оценки\n",
    "rmse_scorer = make_scorer(mean_squared_error, squared=False)\n",
    "\n",
    "# Время обучения для Linear Regression\n",
    "start_time = time.time()\n",
    "pipeline_linear.fit(X_train, y_train)\n",
    "end_time = time.time()\n",
    "training_time_lr = end_time - start_time\n",
    "\n",
    "# Кросс-валидация с 5 фолдами для RMSE\n",
    "cv_scores_lr = cross_val_score(pipeline_linear, X_train, y_train, cv=5, scoring=rmse_scorer)\n",
    "rmse_lr = cv_scores_lr.mean()\n",
    "\n",
    "# Время предсказания на тренировочной выборке\n",
    "start_time = time.time()\n",
    "y_pred_lr_train = pipeline_linear.predict(X_train)\n",
    "end_time = time.time()\n",
    "prediction_time_lr_train = end_time - start_time\n",
    "\n",
    "print(f\"RMSE на кросс-валидации для Linear Regression: {rmse_lr:.2f}\")\n",
    "print(f\"Время обучения Linear Regression: {training_time_lr:.2f} секунд\")\n",
    "print(f\"Время предсказания на тренировочной выборке для Linear Regression: {prediction_time_lr_train:.2f} секунд\")\n"
   ]
  },
  {
   "cell_type": "code",
   "execution_count": 38,
   "metadata": {},
   "outputs": [
    {
     "name": "stdout",
     "output_type": "stream",
     "text": [
      "RMSE на кросс-валидации для CatBoostRegressor: 1309.96\n",
      "Время обучения CatBoostRegressor: 8.86 секунд\n",
      "Время предсказания на тренировочной выборке для CatBoostRegressor: 0.56 секунд\n"
     ]
    }
   ],
   "source": [
    "pipeline_catboost = Pipeline(steps=[\n",
    "    ('preprocessor', preprocessor_other),\n",
    "    ('model', CatBoostRegressor(\n",
    "        iterations=1000,\n",
    "        learning_rate=0.1,\n",
    "        depth=6,\n",
    "        loss_function='RMSE',\n",
    "        random_state=42,\n",
    "        verbose=0\n",
    "    ))\n",
    "])\n",
    "\n",
    "# Время обучения для CatBoost\n",
    "start_time = time.time()\n",
    "pipeline_catboost.fit(X_train, y_train)\n",
    "end_time = time.time()\n",
    "training_time_catboost = end_time - start_time\n",
    "\n",
    "# Кросс-валидация для RMSE CatBoost\n",
    "cv_scores_catboost = cross_val_score(pipeline_catboost, X_train, y_train, cv=5, scoring=rmse_scorer)\n",
    "rmse_catboost = cv_scores_catboost.mean()\n",
    "\n",
    "# Время предсказания на тренировочной выборке\n",
    "start_time = time.time()\n",
    "y_pred_catboost_train = pipeline_catboost.predict(X_train)\n",
    "end_time = time.time()\n",
    "prediction_time_catboost_train = end_time - start_time\n",
    "\n",
    "print(f\"RMSE на кросс-валидации для CatBoostRegressor: {rmse_catboost:.2f}\")\n",
    "print(f\"Время обучения CatBoostRegressor: {training_time_catboost:.2f} секунд\")\n",
    "print(f\"Время предсказания на тренировочной выборке для CatBoostRegressor: {prediction_time_catboost_train:.2f} секунд\")\n"
   ]
  },
  {
   "cell_type": "code",
   "execution_count": 39,
   "metadata": {},
   "outputs": [
    {
     "name": "stdout",
     "output_type": "stream",
     "text": [
      "RMSE на кросс-валидации для XGBRegressor: 1498.89\n",
      "Время обучения XGBRegressor: 0.53 секунд\n",
      "Время предсказания на тренировочной выборке для XGBRegressor: 0.27 секунд\n"
     ]
    }
   ],
   "source": [
    "pipeline_xgb = Pipeline(steps=[\n",
    "    ('preprocessor', preprocessor_other),\n",
    "    ('model', XGBRegressor(\n",
    "        n_estimators=100,\n",
    "        learning_rate=0.05,\n",
    "        max_depth=5,\n",
    "        subsample=1,\n",
    "        colsample_bytree=1,\n",
    "        random_state=42,\n",
    "        verbosity=0,\n",
    "        n_jobs=-1\n",
    "    ))\n",
    "])\n",
    "\n",
    "# Время обучения для XGB\n",
    "start_time = time.time()\n",
    "pipeline_xgb.fit(X_train, y_train)\n",
    "end_time = time.time()\n",
    "training_time_xgb = end_time - start_time\n",
    "\n",
    "# Кросс-валидация для RMSE XGB\n",
    "cv_scores_xgb = cross_val_score(pipeline_xgb, X_train, y_train, cv=5, scoring=rmse_scorer)\n",
    "rmse_xgb = cv_scores_xgb.mean()\n",
    "\n",
    "# Время предсказания на тренировочной выборке\n",
    "start_time = time.time()\n",
    "y_pred_xgb_train = pipeline_xgb.predict(X_train)\n",
    "end_time = time.time()\n",
    "prediction_time_xgb_train = end_time - start_time\n",
    "\n",
    "print(f\"RMSE на кросс-валидации для XGBRegressor: {rmse_xgb:.2f}\")\n",
    "print(f\"Время обучения XGBRegressor: {training_time_xgb:.2f} секунд\")\n",
    "print(f\"Время предсказания на тренировочной выборке для XGBRegressor: {prediction_time_xgb_train:.2f} секунд\")\n"
   ]
  },
  {
   "cell_type": "code",
   "execution_count": 40,
   "metadata": {
    "scrolled": true
   },
   "outputs": [
    {
     "name": "stdout",
     "output_type": "stream",
     "text": [
      "Fitting 5 folds for each of 4 candidates, totalling 20 fits\n",
      "[LightGBM] [Warning] feature_fraction is set=0.9, colsample_bytree=1.0 will be ignored. Current value: feature_fraction=0.9\n",
      "[LightGBM] [Warning] bagging_fraction is set=0.8, subsample=1.0 will be ignored. Current value: bagging_fraction=0.8\n",
      "[LightGBM] [Warning] bagging_freq is set=5, subsample_freq=0 will be ignored. Current value: bagging_freq=5\n",
      "[LightGBM] [Warning] feature_fraction is set=0.9, colsample_bytree=1.0 will be ignored. Current value: feature_fraction=0.9\n",
      "[LightGBM] [Warning] bagging_fraction is set=0.8, subsample=1.0 will be ignored. Current value: bagging_fraction=0.8\n",
      "[LightGBM] [Warning] bagging_freq is set=5, subsample_freq=0 will be ignored. Current value: bagging_freq=5\n",
      "[LightGBM] [Info] Auto-choosing row-wise multi-threading, the overhead of testing was 0.003836 seconds.\n",
      "You can set `force_row_wise=true` to remove the overhead.\n",
      "And if memory is not enough, you can set `force_col_wise=true`.\n",
      "[LightGBM] [Info] Total Bins 623\n",
      "[LightGBM] [Info] Number of data points in the train set: 214671, number of used features: 10\n",
      "[LightGBM] [Info] Start training from score 4262.290873\n",
      "[LightGBM] [Warning] feature_fraction is set=0.9, colsample_bytree=1.0 will be ignored. Current value: feature_fraction=0.9\n",
      "[LightGBM] [Warning] bagging_fraction is set=0.8, subsample=1.0 will be ignored. Current value: bagging_fraction=0.8\n",
      "[LightGBM] [Warning] bagging_freq is set=5, subsample_freq=0 will be ignored. Current value: bagging_freq=5\n",
      "Лучшие параметры: {'model__learning_rate': 0.1, 'model__num_leaves': 70}\n",
      "Лучший RMSE на кросс-валидации: 1333.70\n",
      "RMSE на тренировочной выборке с оптимизированной моделью: 1296.36\n",
      "Время предсказания на тренировочной выборке для LightGBM: 0.45 секунд\n"
     ]
    }
   ],
   "source": [
    "# Параметры для GridSearch\n",
    "param_grid = {\n",
    "    'model__num_leaves': [50, 70],\n",
    "    'model__learning_rate': [ 0.05, 0.1]\n",
    "}\n",
    "\n",
    "# Создаем пайплайн для LightGBM\n",
    "pipeline_lgb = Pipeline(steps=[\n",
    "    ('preprocessor', preprocessor_other),  # предполагаю, что preprocessor_other определен ранее\n",
    "    ('model', lgb.LGBMRegressor(\n",
    "        boosting_type='gbdt',\n",
    "        objective='regression',\n",
    "        metric='rmse',\n",
    "        feature_fraction=0.9,\n",
    "        bagging_fraction=0.8,\n",
    "        bagging_freq=5,\n",
    "        random_state=42\n",
    "    ))\n",
    "])\n",
    "\n",
    "# Используем GridSearchCV для подбора гиперпараметров\n",
    "grid_search = GridSearchCV(estimator=pipeline_lgb, param_grid=param_grid, \n",
    "                           cv=5, scoring='neg_mean_squared_error', n_jobs=-1, verbose=1)\n",
    "\n",
    "# Время оптимизации гиперпараметров\n",
    "start_time = time.time()\n",
    "grid_search.fit(X_train, y_train)\n",
    "end_time = time.time()\n",
    "optimization_time = end_time - start_time\n",
    "\n",
    "# Лучшие параметры и результат\n",
    "best_params = grid_search.best_params_\n",
    "best_rmse = (-grid_search.best_score_)**0.5  # конвертируем обратно из отрицательного MSE в RMSE\n",
    "\n",
    "# Время предсказания на тренировочной выборке\n",
    "start_time = time.time()\n",
    "y_pred_lgb_train = grid_search.predict(X_train)\n",
    "end_time = time.time()\n",
    "prediction_time_lgb_train = end_time - start_time\n",
    "\n",
    "# Вычисление RMSE на тренировочной выборке\n",
    "rmse_train = mean_squared_error(y_train, y_pred_lgb_train, squared=False)\n",
    "\n",
    "# Вывод результатов\n",
    "print(f\"Лучшие параметры: {best_params}\")\n",
    "print(f\"Лучший RMSE на кросс-валидации: {best_rmse:.2f}\")\n",
    "print(f\"RMSE на тренировочной выборке с оптимизированной моделью: {rmse_train:.2f}\")\n",
    "print(f\"Время предсказания на тренировочной выборке для LightGBM: {prediction_time_lgb_train:.2f} секунд\")\n"
   ]
  },
  {
   "cell_type": "markdown",
   "metadata": {},
   "source": [
    "## Анализ моделей"
   ]
  },
  {
   "cell_type": "code",
   "execution_count": 41,
   "metadata": {},
   "outputs": [
    {
     "data": {
      "text/html": [
       "<div>\n",
       "<style scoped>\n",
       "    .dataframe tbody tr th:only-of-type {\n",
       "        vertical-align: middle;\n",
       "    }\n",
       "\n",
       "    .dataframe tbody tr th {\n",
       "        vertical-align: top;\n",
       "    }\n",
       "\n",
       "    .dataframe thead th {\n",
       "        text-align: right;\n",
       "    }\n",
       "</style>\n",
       "<table border=\"1\" class=\"dataframe\">\n",
       "  <thead>\n",
       "    <tr style=\"text-align: right;\">\n",
       "      <th></th>\n",
       "      <th>Модель</th>\n",
       "      <th>RMSE на кросс-валидации</th>\n",
       "      <th>Время обучения (sec)</th>\n",
       "      <th>Время предсказания (sec)</th>\n",
       "    </tr>\n",
       "  </thead>\n",
       "  <tbody>\n",
       "    <tr>\n",
       "      <th>0</th>\n",
       "      <td>Linear Regression</td>\n",
       "      <td>2037.939517</td>\n",
       "      <td>2.804922</td>\n",
       "      <td>0.268358</td>\n",
       "    </tr>\n",
       "    <tr>\n",
       "      <th>1</th>\n",
       "      <td>CatBoostRegressor</td>\n",
       "      <td>1309.960284</td>\n",
       "      <td>8.864983</td>\n",
       "      <td>0.559504</td>\n",
       "    </tr>\n",
       "    <tr>\n",
       "      <th>2</th>\n",
       "      <td>XGBRegressor</td>\n",
       "      <td>1498.890101</td>\n",
       "      <td>0.526160</td>\n",
       "      <td>0.267262</td>\n",
       "    </tr>\n",
       "    <tr>\n",
       "      <th>3</th>\n",
       "      <td>LightGBM</td>\n",
       "      <td>1333.696603</td>\n",
       "      <td>16.929737</td>\n",
       "      <td>0.448137</td>\n",
       "    </tr>\n",
       "  </tbody>\n",
       "</table>\n",
       "</div>"
      ],
      "text/plain": [
       "              Модель  RMSE на кросс-валидации  Время обучения (sec)  \\\n",
       "0  Linear Regression              2037.939517              2.804922   \n",
       "1  CatBoostRegressor              1309.960284              8.864983   \n",
       "2       XGBRegressor              1498.890101              0.526160   \n",
       "3           LightGBM              1333.696603             16.929737   \n",
       "\n",
       "   Время предсказания (sec)  \n",
       "0                  0.268358  \n",
       "1                  0.559504  \n",
       "2                  0.267262  \n",
       "3                  0.448137  "
      ]
     },
     "execution_count": 41,
     "metadata": {},
     "output_type": "execute_result"
    }
   ],
   "source": [
    "# Сравнение моделей по RMSE на кросс-валидации\n",
    "results_cv = pd.DataFrame({\n",
    "    'Модель': ['Linear Regression', 'CatBoostRegressor', 'XGBRegressor', 'LightGBM'],\n",
    "    'RMSE на кросс-валидации': [rmse_lr, rmse_catboost, rmse_xgb, best_rmse],\n",
    "    'Время обучения (sec)': [training_time_lr, training_time_catboost, training_time_xgb  , optimization_time],\n",
    "    'Время предсказания (sec)': [prediction_time_lr_train, \n",
    "                                 prediction_time_catboost_train, \n",
    "                                 prediction_time_xgb_train, \n",
    "                                 prediction_time_lgb_train]\n",
    "})\n",
    "results_cv"
   ]
  },
  {
   "cell_type": "code",
   "execution_count": 42,
   "metadata": {},
   "outputs": [
    {
     "name": "stdout",
     "output_type": "stream",
     "text": [
      "Лучшая модель: CatBoostRegressor\n",
      "RMSE на тестовой выборке для лучшей модели: 1304.24\n"
     ]
    }
   ],
   "source": [
    "best_model_name = results_cv.loc[results_cv['RMSE на кросс-валидации'].idxmin(), 'Модель']\n",
    "\n",
    "# Оценка лучшей модели на тестовой выборке (для примера возьмем модель CatBoost)\n",
    "if best_model_name == 'CatBoostRegressor':\n",
    "    y_pred_test = pipeline_catboost.predict(X_test)\n",
    "elif best_model_name == 'XGBRegressor':\n",
    "    y_pred_test = pipeline_xgb.predict(X_test)\n",
    "elif best_model_name == 'LightGBM':\n",
    "    y_pred_test = pipeline_lgb.predict(X_test)\n",
    "else:\n",
    "    y_pred_test = pipeline_linear.predict(X_test)\n",
    "\n",
    "rmse_test = mean_squared_error(y_test, y_pred_test, squared=False)\n",
    "\n",
    "print(f\"Лучшая модель: {best_model_name}\")\n",
    "print(f\"RMSE на тестовой выборке для лучшей модели: {rmse_test:.2f}\")"
   ]
  },
  {
   "cell_type": "markdown",
   "metadata": {},
   "source": [
    "### Вывод:\n",
    "\n",
    "В разделе \"Анализ моделей\" были выполнены следующие задачи:\n",
    "\n",
    "* Создана таблица для сравнения метрик моделей.\n",
    "* На основе критериев заказчика выбрана наилучшая модель, и ее качество проверено на тестовой выборке.\n",
    "\n",
    "Результаты выполнения задач этого раздела показали следующее:\n",
    "\n",
    "Лучшая модель градиентного бустинга CatBoostRegressor на тестовой выборке имеет значение метрики RMSE = 1304.24 и скорость обучения в 31 секунду. Для всех моделей значение метрики RMSE не превышает 2500, что соответствует первоначальному требованию, указанному в задаче проекта."
   ]
  }
 ],
 "metadata": {
  "ExecuteTimeLog": [
   {
    "duration": 16411,
    "start_time": "2024-09-19T08:14:57.981Z"
   },
   {
    "duration": 2071,
    "start_time": "2024-09-19T08:15:14.395Z"
   },
   {
    "duration": 3023,
    "start_time": "2024-09-19T08:15:57.156Z"
   },
   {
    "duration": 3,
    "start_time": "2024-09-19T08:16:27.084Z"
   },
   {
    "duration": 764,
    "start_time": "2024-09-19T08:16:27.328Z"
   },
   {
    "duration": 25,
    "start_time": "2024-09-19T08:18:08.152Z"
   },
   {
    "duration": 13,
    "start_time": "2024-09-19T08:18:38.215Z"
   },
   {
    "duration": 159,
    "start_time": "2024-09-19T08:19:32.532Z"
   },
   {
    "duration": 128,
    "start_time": "2024-09-19T08:24:28.675Z"
   },
   {
    "duration": 60,
    "start_time": "2024-09-19T08:35:17.633Z"
   },
   {
    "duration": 56,
    "start_time": "2024-09-19T08:35:31.197Z"
   },
   {
    "duration": 57,
    "start_time": "2024-09-19T08:35:33.088Z"
   },
   {
    "duration": 8,
    "start_time": "2024-09-19T08:35:56.431Z"
   },
   {
    "duration": 8,
    "start_time": "2024-09-19T08:36:05.751Z"
   },
   {
    "duration": 8,
    "start_time": "2024-09-19T08:36:30.679Z"
   },
   {
    "duration": 54,
    "start_time": "2024-09-19T08:37:43.239Z"
   },
   {
    "duration": 19,
    "start_time": "2024-09-19T08:37:47.812Z"
   },
   {
    "duration": 148,
    "start_time": "2024-09-19T08:39:01.420Z"
   },
   {
    "duration": 2029,
    "start_time": "2024-09-19T08:47:41.245Z"
   },
   {
    "duration": 2197,
    "start_time": "2024-09-19T08:48:36.387Z"
   },
   {
    "duration": 2212,
    "start_time": "2024-09-19T08:48:47.771Z"
   },
   {
    "duration": 7824,
    "start_time": "2024-09-19T12:17:01.167Z"
   },
   {
    "duration": 8,
    "start_time": "2024-09-19T12:17:08.994Z"
   },
   {
    "duration": 965,
    "start_time": "2024-09-19T12:17:09.004Z"
   },
   {
    "duration": 4,
    "start_time": "2024-09-19T12:17:09.971Z"
   },
   {
    "duration": 845,
    "start_time": "2024-09-19T12:17:09.977Z"
   },
   {
    "duration": 132,
    "start_time": "2024-09-19T12:17:10.823Z"
   },
   {
    "duration": 69,
    "start_time": "2024-09-19T12:17:10.957Z"
   },
   {
    "duration": 7,
    "start_time": "2024-09-19T12:17:11.028Z"
   },
   {
    "duration": 166,
    "start_time": "2024-09-19T12:17:11.037Z"
   },
   {
    "duration": 18,
    "start_time": "2024-09-19T12:17:11.205Z"
   },
   {
    "duration": 2176,
    "start_time": "2024-09-19T12:17:11.225Z"
   },
   {
    "duration": 385,
    "start_time": "2024-09-19T12:24:55.129Z"
   },
   {
    "duration": 494,
    "start_time": "2024-09-19T12:25:19.965Z"
   },
   {
    "duration": 324,
    "start_time": "2024-09-19T12:25:37.946Z"
   },
   {
    "duration": 945,
    "start_time": "2024-09-19T12:26:46.583Z"
   },
   {
    "duration": 4,
    "start_time": "2024-09-19T12:26:47.531Z"
   },
   {
    "duration": 774,
    "start_time": "2024-09-19T12:26:47.536Z"
   },
   {
    "duration": 139,
    "start_time": "2024-09-19T12:26:48.312Z"
   },
   {
    "duration": 74,
    "start_time": "2024-09-19T12:26:48.880Z"
   },
   {
    "duration": 10,
    "start_time": "2024-09-19T12:26:55.811Z"
   },
   {
    "duration": 342,
    "start_time": "2024-09-19T12:26:57.872Z"
   },
   {
    "duration": 278,
    "start_time": "2024-09-19T12:26:59.411Z"
   },
   {
    "duration": 960,
    "start_time": "2024-09-19T12:31:20.299Z"
   },
   {
    "duration": 3,
    "start_time": "2024-09-19T12:31:21.261Z"
   },
   {
    "duration": 774,
    "start_time": "2024-09-19T12:31:21.266Z"
   },
   {
    "duration": 136,
    "start_time": "2024-09-19T12:31:22.042Z"
   },
   {
    "duration": 67,
    "start_time": "2024-09-19T12:31:22.180Z"
   },
   {
    "duration": 7,
    "start_time": "2024-09-19T12:31:22.249Z"
   },
   {
    "duration": 318,
    "start_time": "2024-09-19T12:31:22.257Z"
   },
   {
    "duration": 281,
    "start_time": "2024-09-19T12:31:22.576Z"
   },
   {
    "duration": 70,
    "start_time": "2024-09-19T12:32:31.981Z"
   },
   {
    "duration": 1131,
    "start_time": "2024-09-19T12:32:37.659Z"
   },
   {
    "duration": 161,
    "start_time": "2024-09-19T12:32:55.060Z"
   },
   {
    "duration": 946,
    "start_time": "2024-09-19T12:34:00.594Z"
   },
   {
    "duration": 3,
    "start_time": "2024-09-19T12:34:01.542Z"
   },
   {
    "duration": 827,
    "start_time": "2024-09-19T12:34:01.547Z"
   },
   {
    "duration": 144,
    "start_time": "2024-09-19T12:34:02.376Z"
   },
   {
    "duration": 77,
    "start_time": "2024-09-19T12:34:02.523Z"
   },
   {
    "duration": 26,
    "start_time": "2024-09-19T12:34:02.602Z"
   },
   {
    "duration": 63,
    "start_time": "2024-09-19T12:34:02.630Z"
   },
   {
    "duration": 29,
    "start_time": "2024-09-19T12:34:02.694Z"
   },
   {
    "duration": 8,
    "start_time": "2024-09-19T12:34:17.108Z"
   },
   {
    "duration": 19,
    "start_time": "2024-09-19T12:34:17.869Z"
   },
   {
    "duration": 8,
    "start_time": "2024-09-19T12:34:36.946Z"
   },
   {
    "duration": 8,
    "start_time": "2024-09-19T12:35:00.196Z"
   },
   {
    "duration": 152,
    "start_time": "2024-09-19T12:35:39.017Z"
   },
   {
    "duration": 2295,
    "start_time": "2024-09-19T12:35:56.304Z"
   },
   {
    "duration": 2061,
    "start_time": "2024-09-19T12:37:55.980Z"
   },
   {
    "duration": 2245,
    "start_time": "2024-09-19T12:38:02.238Z"
   },
   {
    "duration": 18,
    "start_time": "2024-09-19T12:39:34.549Z"
   },
   {
    "duration": 186,
    "start_time": "2024-09-19T12:41:22.384Z"
   },
   {
    "duration": 260,
    "start_time": "2024-09-19T12:42:08.601Z"
   },
   {
    "duration": 40,
    "start_time": "2024-09-19T12:42:18.212Z"
   },
   {
    "duration": 57,
    "start_time": "2024-09-19T12:46:13.226Z"
   },
   {
    "duration": 43,
    "start_time": "2024-09-19T12:47:13.263Z"
   },
   {
    "duration": 85,
    "start_time": "2024-09-19T12:48:35.387Z"
   },
   {
    "duration": 1046,
    "start_time": "2024-09-19T12:48:48.159Z"
   },
   {
    "duration": 4,
    "start_time": "2024-09-19T12:48:49.207Z"
   },
   {
    "duration": 889,
    "start_time": "2024-09-19T12:48:49.212Z"
   },
   {
    "duration": 152,
    "start_time": "2024-09-19T12:48:50.103Z"
   },
   {
    "duration": 73,
    "start_time": "2024-09-19T12:48:50.258Z"
   },
   {
    "duration": 14,
    "start_time": "2024-09-19T12:48:50.333Z"
   },
   {
    "duration": 48,
    "start_time": "2024-09-19T12:48:50.349Z"
   },
   {
    "duration": 143,
    "start_time": "2024-09-19T12:48:50.421Z"
   },
   {
    "duration": 13,
    "start_time": "2024-09-19T12:48:50.566Z"
   },
   {
    "duration": 67,
    "start_time": "2024-09-19T12:48:50.580Z"
   },
   {
    "duration": 91,
    "start_time": "2024-09-19T12:48:50.649Z"
   },
   {
    "duration": 26,
    "start_time": "2024-09-19T12:48:50.742Z"
   },
   {
    "duration": 53,
    "start_time": "2024-09-19T12:50:39.050Z"
   },
   {
    "duration": 42,
    "start_time": "2024-09-19T12:50:48.581Z"
   },
   {
    "duration": 51,
    "start_time": "2024-09-19T12:51:11.019Z"
   },
   {
    "duration": 8,
    "start_time": "2024-09-19T12:52:21.642Z"
   },
   {
    "duration": 1028,
    "start_time": "2024-09-19T13:05:24.511Z"
   },
   {
    "duration": 4,
    "start_time": "2024-09-19T13:05:25.541Z"
   },
   {
    "duration": 895,
    "start_time": "2024-09-19T13:05:25.546Z"
   },
   {
    "duration": 135,
    "start_time": "2024-09-19T13:05:26.443Z"
   },
   {
    "duration": 75,
    "start_time": "2024-09-19T13:05:26.580Z"
   },
   {
    "duration": 8,
    "start_time": "2024-09-19T13:05:26.657Z"
   },
   {
    "duration": 109,
    "start_time": "2024-09-19T13:05:26.666Z"
   },
   {
    "duration": 138,
    "start_time": "2024-09-19T13:05:26.776Z"
   },
   {
    "duration": 21,
    "start_time": "2024-09-19T13:05:26.916Z"
   },
   {
    "duration": 50,
    "start_time": "2024-09-19T13:05:26.939Z"
   },
   {
    "duration": 68,
    "start_time": "2024-09-19T13:05:26.991Z"
   },
   {
    "duration": 25,
    "start_time": "2024-09-19T13:05:27.061Z"
   },
   {
    "duration": 76,
    "start_time": "2024-09-19T13:05:27.088Z"
   },
   {
    "duration": 7,
    "start_time": "2024-09-19T13:05:27.166Z"
   },
   {
    "duration": 14,
    "start_time": "2024-09-19T13:05:27.175Z"
   },
   {
    "duration": 177,
    "start_time": "2024-09-19T13:05:27.191Z"
   },
   {
    "duration": 1004,
    "start_time": "2024-09-19T13:05:48.267Z"
   },
   {
    "duration": 3,
    "start_time": "2024-09-19T13:05:49.273Z"
   },
   {
    "duration": 835,
    "start_time": "2024-09-19T13:05:49.278Z"
   },
   {
    "duration": 151,
    "start_time": "2024-09-19T13:05:50.115Z"
   },
   {
    "duration": 72,
    "start_time": "2024-09-19T13:05:50.268Z"
   },
   {
    "duration": 7,
    "start_time": "2024-09-19T13:05:50.341Z"
   },
   {
    "duration": 85,
    "start_time": "2024-09-19T13:05:50.350Z"
   },
   {
    "duration": 139,
    "start_time": "2024-09-19T13:05:50.437Z"
   },
   {
    "duration": 13,
    "start_time": "2024-09-19T13:05:50.577Z"
   },
   {
    "duration": 73,
    "start_time": "2024-09-19T13:05:50.592Z"
   },
   {
    "duration": 123,
    "start_time": "2024-09-19T13:05:50.666Z"
   },
   {
    "duration": 26,
    "start_time": "2024-09-19T13:05:50.790Z"
   },
   {
    "duration": 53,
    "start_time": "2024-09-19T13:05:50.818Z"
   },
   {
    "duration": 18,
    "start_time": "2024-09-19T13:05:50.874Z"
   },
   {
    "duration": 172,
    "start_time": "2024-09-19T13:05:50.894Z"
   },
   {
    "duration": 40,
    "start_time": "2024-09-19T13:06:00.346Z"
   },
   {
    "duration": 42,
    "start_time": "2024-09-19T13:06:21.717Z"
   },
   {
    "duration": 8,
    "start_time": "2024-09-19T13:06:21.855Z"
   },
   {
    "duration": 23,
    "start_time": "2024-09-19T13:06:33.900Z"
   },
   {
    "duration": 15,
    "start_time": "2024-09-19T13:06:40.260Z"
   },
   {
    "duration": 57,
    "start_time": "2024-09-20T09:00:28.862Z"
   },
   {
    "duration": 14574,
    "start_time": "2024-09-20T09:00:36.991Z"
   },
   {
    "duration": 1983,
    "start_time": "2024-09-20T09:00:51.567Z"
   },
   {
    "duration": 1277,
    "start_time": "2024-09-20T09:01:05.657Z"
   },
   {
    "duration": 4,
    "start_time": "2024-09-20T09:01:06.936Z"
   },
   {
    "duration": 996,
    "start_time": "2024-09-20T09:01:06.941Z"
   },
   {
    "duration": 140,
    "start_time": "2024-09-20T09:01:07.938Z"
   },
   {
    "duration": 70,
    "start_time": "2024-09-20T09:01:08.080Z"
   },
   {
    "duration": 8,
    "start_time": "2024-09-20T09:01:08.151Z"
   },
   {
    "duration": 78,
    "start_time": "2024-09-20T09:01:08.161Z"
   },
   {
    "duration": 148,
    "start_time": "2024-09-20T09:01:08.241Z"
   },
   {
    "duration": 17,
    "start_time": "2024-09-20T09:01:08.391Z"
   },
   {
    "duration": 68,
    "start_time": "2024-09-20T09:01:08.410Z"
   },
   {
    "duration": 69,
    "start_time": "2024-09-20T09:01:08.480Z"
   },
   {
    "duration": 24,
    "start_time": "2024-09-20T09:01:08.551Z"
   },
   {
    "duration": 62,
    "start_time": "2024-09-20T09:01:08.577Z"
   },
   {
    "duration": 36,
    "start_time": "2024-09-20T09:01:08.642Z"
   },
   {
    "duration": 148,
    "start_time": "2024-09-20T09:01:08.680Z"
   },
   {
    "duration": 15,
    "start_time": "2024-09-20T09:01:08.830Z"
   },
   {
    "duration": 195,
    "start_time": "2024-09-20T09:01:08.847Z"
   },
   {
    "duration": 262,
    "start_time": "2024-09-20T09:01:32.902Z"
   },
   {
    "duration": 180,
    "start_time": "2024-09-20T09:01:35.388Z"
   },
   {
    "duration": 160,
    "start_time": "2024-09-20T09:04:07.087Z"
   },
   {
    "duration": 7,
    "start_time": "2024-09-20T09:04:27.833Z"
   },
   {
    "duration": 924,
    "start_time": "2024-09-20T09:04:43.952Z"
   },
   {
    "duration": 8,
    "start_time": "2024-09-20T09:04:44.878Z"
   },
   {
    "duration": 898,
    "start_time": "2024-09-20T09:05:01.113Z"
   },
   {
    "duration": 2,
    "start_time": "2024-09-20T09:05:02.013Z"
   },
   {
    "duration": 734,
    "start_time": "2024-09-20T09:05:02.017Z"
   },
   {
    "duration": 145,
    "start_time": "2024-09-20T09:05:02.753Z"
   },
   {
    "duration": 60,
    "start_time": "2024-09-20T09:05:02.900Z"
   },
   {
    "duration": 9,
    "start_time": "2024-09-20T09:05:02.962Z"
   },
   {
    "duration": 189,
    "start_time": "2024-09-20T09:05:02.973Z"
   },
   {
    "duration": 147,
    "start_time": "2024-09-20T09:05:03.164Z"
   },
   {
    "duration": 14,
    "start_time": "2024-09-20T09:05:03.313Z"
   },
   {
    "duration": 92,
    "start_time": "2024-09-20T09:05:03.328Z"
   },
   {
    "duration": 209,
    "start_time": "2024-09-20T09:05:03.421Z"
   },
   {
    "duration": 123,
    "start_time": "2024-09-20T09:05:03.631Z"
   },
   {
    "duration": 89,
    "start_time": "2024-09-20T09:05:03.755Z"
   },
   {
    "duration": 104,
    "start_time": "2024-09-20T09:05:03.847Z"
   },
   {
    "duration": 146,
    "start_time": "2024-09-20T09:05:03.953Z"
   },
   {
    "duration": 15,
    "start_time": "2024-09-20T09:05:04.101Z"
   },
   {
    "duration": 170,
    "start_time": "2024-09-20T09:05:04.117Z"
   },
   {
    "duration": 12,
    "start_time": "2024-09-20T09:05:04.289Z"
   },
   {
    "duration": 184,
    "start_time": "2024-09-20T09:06:43.795Z"
   },
   {
    "duration": 4,
    "start_time": "2024-09-20T09:16:50.872Z"
   },
   {
    "duration": 250,
    "start_time": "2024-09-20T09:17:09.286Z"
   },
   {
    "duration": 1619,
    "start_time": "2024-09-20T09:17:23.199Z"
   },
   {
    "duration": 1781,
    "start_time": "2024-09-20T09:17:57.681Z"
   },
   {
    "duration": 1693,
    "start_time": "2024-09-20T09:18:06.543Z"
   },
   {
    "duration": 7,
    "start_time": "2024-09-20T09:18:50.999Z"
   },
   {
    "duration": 32,
    "start_time": "2024-09-20T09:19:00.410Z"
   },
   {
    "duration": 24,
    "start_time": "2024-09-20T09:19:32.602Z"
   },
   {
    "duration": 21,
    "start_time": "2024-09-20T09:19:38.746Z"
   },
   {
    "duration": 25,
    "start_time": "2024-09-20T09:19:44.981Z"
   },
   {
    "duration": 21,
    "start_time": "2024-09-20T09:19:49.990Z"
   },
   {
    "duration": 51,
    "start_time": "2024-09-20T09:20:48.564Z"
   },
   {
    "duration": 23,
    "start_time": "2024-09-20T09:20:55.000Z"
   },
   {
    "duration": 21,
    "start_time": "2024-09-20T09:21:24.470Z"
   },
   {
    "duration": 26,
    "start_time": "2024-09-20T09:21:31.488Z"
   },
   {
    "duration": 12,
    "start_time": "2024-09-20T09:25:19.771Z"
   },
   {
    "duration": 9,
    "start_time": "2024-09-20T09:25:26.177Z"
   },
   {
    "duration": 22,
    "start_time": "2024-09-20T09:25:45.389Z"
   },
   {
    "duration": 59,
    "start_time": "2024-09-20T09:26:25.925Z"
   },
   {
    "duration": 32,
    "start_time": "2024-09-20T09:26:59.604Z"
   },
   {
    "duration": 16,
    "start_time": "2024-09-20T09:27:42.281Z"
   },
   {
    "duration": 57,
    "start_time": "2024-09-20T09:28:08.986Z"
   },
   {
    "duration": 66,
    "start_time": "2024-09-20T09:28:15.200Z"
   },
   {
    "duration": 1707,
    "start_time": "2024-09-20T09:30:26.508Z"
   },
   {
    "duration": 35,
    "start_time": "2024-09-20T11:57:48.163Z"
   },
   {
    "duration": 65,
    "start_time": "2024-09-22T11:46:01.475Z"
   },
   {
    "duration": 14645,
    "start_time": "2024-09-22T11:46:10.550Z"
   },
   {
    "duration": 2072,
    "start_time": "2024-09-22T11:46:25.199Z"
   },
   {
    "duration": 3202,
    "start_time": "2024-09-22T11:46:37.140Z"
   },
   {
    "duration": 3,
    "start_time": "2024-09-22T11:46:40.344Z"
   },
   {
    "duration": 875,
    "start_time": "2024-09-22T11:46:40.348Z"
   },
   {
    "duration": 167,
    "start_time": "2024-09-22T11:46:41.224Z"
   },
   {
    "duration": 100,
    "start_time": "2024-09-22T11:46:41.394Z"
   },
   {
    "duration": 8,
    "start_time": "2024-09-22T11:46:41.497Z"
   },
   {
    "duration": 87,
    "start_time": "2024-09-22T11:46:41.507Z"
   },
   {
    "duration": 156,
    "start_time": "2024-09-22T11:46:41.596Z"
   },
   {
    "duration": 13,
    "start_time": "2024-09-22T11:46:41.755Z"
   },
   {
    "duration": 76,
    "start_time": "2024-09-22T11:46:41.770Z"
   },
   {
    "duration": 58,
    "start_time": "2024-09-22T11:46:41.848Z"
   },
   {
    "duration": 44,
    "start_time": "2024-09-22T11:46:41.907Z"
   },
   {
    "duration": 64,
    "start_time": "2024-09-22T11:46:41.953Z"
   },
   {
    "duration": 13,
    "start_time": "2024-09-22T11:46:42.047Z"
   },
   {
    "duration": 152,
    "start_time": "2024-09-22T11:46:42.062Z"
   },
   {
    "duration": 33,
    "start_time": "2024-09-22T11:46:42.216Z"
   },
   {
    "duration": 229,
    "start_time": "2024-09-22T11:46:42.255Z"
   },
   {
    "duration": 3,
    "start_time": "2024-09-22T11:46:42.486Z"
   },
   {
    "duration": 1794,
    "start_time": "2024-09-22T11:46:42.491Z"
   },
   {
    "duration": 9,
    "start_time": "2024-09-22T11:46:44.286Z"
   },
   {
    "duration": 61,
    "start_time": "2024-09-22T11:46:44.297Z"
   },
   {
    "duration": 64,
    "start_time": "2024-09-22T11:46:44.361Z"
   },
   {
    "duration": 45,
    "start_time": "2024-09-22T11:46:44.426Z"
   },
   {
    "duration": 10,
    "start_time": "2024-09-22T11:46:44.473Z"
   },
   {
    "duration": 8,
    "start_time": "2024-09-22T11:46:58.456Z"
   },
   {
    "duration": 935,
    "start_time": "2024-09-22T11:47:30.528Z"
   },
   {
    "duration": 3,
    "start_time": "2024-09-22T11:47:31.466Z"
   },
   {
    "duration": 780,
    "start_time": "2024-09-22T11:47:31.471Z"
   },
   {
    "duration": 137,
    "start_time": "2024-09-22T11:47:32.253Z"
   },
   {
    "duration": 71,
    "start_time": "2024-09-22T11:47:32.392Z"
   },
   {
    "duration": 8,
    "start_time": "2024-09-22T11:47:32.465Z"
   },
   {
    "duration": 53,
    "start_time": "2024-09-22T11:47:32.475Z"
   },
   {
    "duration": 155,
    "start_time": "2024-09-22T11:47:32.530Z"
   },
   {
    "duration": 13,
    "start_time": "2024-09-22T11:47:32.686Z"
   },
   {
    "duration": 57,
    "start_time": "2024-09-22T11:47:32.702Z"
   },
   {
    "duration": 60,
    "start_time": "2024-09-22T11:47:32.761Z"
   },
   {
    "duration": 43,
    "start_time": "2024-09-22T11:47:32.823Z"
   },
   {
    "duration": 43,
    "start_time": "2024-09-22T11:47:32.868Z"
   },
   {
    "duration": 11,
    "start_time": "2024-09-22T11:47:32.913Z"
   },
   {
    "duration": 157,
    "start_time": "2024-09-22T11:47:32.926Z"
   },
   {
    "duration": 16,
    "start_time": "2024-09-22T11:47:33.085Z"
   },
   {
    "duration": 234,
    "start_time": "2024-09-22T11:47:33.103Z"
   },
   {
    "duration": 8,
    "start_time": "2024-09-22T11:47:33.339Z"
   },
   {
    "duration": 1748,
    "start_time": "2024-09-22T11:47:33.349Z"
   },
   {
    "duration": 8,
    "start_time": "2024-09-22T11:47:35.099Z"
   },
   {
    "duration": 52,
    "start_time": "2024-09-22T11:47:35.109Z"
   },
   {
    "duration": 64,
    "start_time": "2024-09-22T11:47:35.162Z"
   },
   {
    "duration": 50,
    "start_time": "2024-09-22T11:47:35.228Z"
   },
   {
    "duration": 37,
    "start_time": "2024-09-22T11:47:35.280Z"
   },
   {
    "duration": 13,
    "start_time": "2024-09-22T14:30:54.397Z"
   },
   {
    "duration": 970,
    "start_time": "2024-09-22T15:00:58.281Z"
   },
   {
    "duration": 3,
    "start_time": "2024-09-22T15:00:59.253Z"
   },
   {
    "duration": 737,
    "start_time": "2024-09-22T15:00:59.258Z"
   },
   {
    "duration": 481,
    "start_time": "2024-09-22T15:00:59.997Z"
   },
   {
    "duration": 7,
    "start_time": "2024-09-22T15:01:50.731Z"
   },
   {
    "duration": 755,
    "start_time": "2024-09-22T15:08:00.018Z"
   },
   {
    "duration": 60,
    "start_time": "2024-09-22T15:08:01.639Z"
   },
   {
    "duration": 649,
    "start_time": "2024-09-22T15:08:07.548Z"
   },
   {
    "duration": 392,
    "start_time": "2024-09-22T15:08:18.935Z"
   },
   {
    "duration": 182,
    "start_time": "2024-09-22T15:08:35.825Z"
   },
   {
    "duration": 187,
    "start_time": "2024-09-22T15:08:59.269Z"
   },
   {
    "duration": 940,
    "start_time": "2024-09-22T15:11:30.762Z"
   },
   {
    "duration": 4,
    "start_time": "2024-09-22T15:11:31.704Z"
   },
   {
    "duration": 772,
    "start_time": "2024-09-22T15:11:31.710Z"
   },
   {
    "duration": 452,
    "start_time": "2024-09-22T15:11:32.483Z"
   },
   {
    "duration": 9,
    "start_time": "2024-09-22T15:11:32.937Z"
   },
   {
    "duration": 682,
    "start_time": "2024-09-22T15:11:32.948Z"
   },
   {
    "duration": 382,
    "start_time": "2024-09-22T15:11:33.632Z"
   },
   {
    "duration": 216,
    "start_time": "2024-09-22T15:11:34.015Z"
   },
   {
    "duration": 53,
    "start_time": "2024-09-22T15:11:34.233Z"
   },
   {
    "duration": 1412,
    "start_time": "2024-09-22T15:11:34.287Z"
   },
   {
    "duration": 5,
    "start_time": "2024-09-22T15:11:53.126Z"
   },
   {
    "duration": 112,
    "start_time": "2024-09-22T15:12:52.997Z"
   },
   {
    "duration": 213,
    "start_time": "2024-09-22T15:13:37.285Z"
   },
   {
    "duration": 65,
    "start_time": "2024-09-22T15:14:09.702Z"
   },
   {
    "duration": 49,
    "start_time": "2024-09-22T15:14:17.885Z"
   },
   {
    "duration": 53,
    "start_time": "2024-09-22T15:14:31.968Z"
   },
   {
    "duration": 217,
    "start_time": "2024-09-22T15:14:56.753Z"
   },
   {
    "duration": 1233,
    "start_time": "2024-09-22T15:20:06.333Z"
   },
   {
    "duration": 53,
    "start_time": "2024-09-22T15:20:31.788Z"
   },
   {
    "duration": 220,
    "start_time": "2024-09-22T15:20:34.770Z"
   },
   {
    "duration": 31,
    "start_time": "2024-09-22T15:20:37.097Z"
   },
   {
    "duration": 1194,
    "start_time": "2024-09-22T15:25:03.026Z"
   },
   {
    "duration": 14,
    "start_time": "2024-09-22T15:25:11.367Z"
   },
   {
    "duration": 29,
    "start_time": "2024-09-22T15:25:23.241Z"
   },
   {
    "duration": 20,
    "start_time": "2024-09-22T15:26:11.195Z"
   },
   {
    "duration": 18,
    "start_time": "2024-09-22T15:26:52.871Z"
   },
   {
    "duration": 23,
    "start_time": "2024-09-22T15:57:32.747Z"
   },
   {
    "duration": 1176,
    "start_time": "2024-09-22T15:57:52.242Z"
   },
   {
    "duration": 24,
    "start_time": "2024-09-22T16:00:01.993Z"
   },
   {
    "duration": 19,
    "start_time": "2024-09-22T16:00:06.640Z"
   },
   {
    "duration": 14,
    "start_time": "2024-09-22T16:01:13.560Z"
   },
   {
    "duration": 3,
    "start_time": "2024-09-22T16:01:13.726Z"
   },
   {
    "duration": 1304,
    "start_time": "2024-09-22T16:01:15.116Z"
   },
   {
    "duration": 3,
    "start_time": "2024-09-22T16:02:27.056Z"
   },
   {
    "duration": 1191,
    "start_time": "2024-09-22T16:02:27.223Z"
   },
   {
    "duration": 35,
    "start_time": "2024-09-22T16:06:10.876Z"
   },
   {
    "duration": 18,
    "start_time": "2024-09-22T16:07:02.994Z"
   },
   {
    "duration": 33,
    "start_time": "2024-09-22T16:07:56.030Z"
   },
   {
    "duration": 18,
    "start_time": "2024-09-22T16:07:56.817Z"
   },
   {
    "duration": 20,
    "start_time": "2024-09-22T16:08:00.562Z"
   },
   {
    "duration": 18,
    "start_time": "2024-09-22T16:09:22.881Z"
   },
   {
    "duration": 28,
    "start_time": "2024-09-22T16:09:44.904Z"
   },
   {
    "duration": 23,
    "start_time": "2024-09-22T16:10:31.154Z"
   },
   {
    "duration": 21,
    "start_time": "2024-09-22T16:10:42.193Z"
   },
   {
    "duration": 63,
    "start_time": "2024-09-22T16:11:59.289Z"
   },
   {
    "duration": 61,
    "start_time": "2024-09-22T16:18:11.454Z"
   },
   {
    "duration": 14,
    "start_time": "2024-09-22T16:18:18.614Z"
   },
   {
    "duration": 0,
    "start_time": "2024-09-22T16:18:18.630Z"
   },
   {
    "duration": 0,
    "start_time": "2024-09-22T16:18:18.632Z"
   },
   {
    "duration": 0,
    "start_time": "2024-09-22T16:18:18.633Z"
   },
   {
    "duration": 0,
    "start_time": "2024-09-22T16:18:18.634Z"
   },
   {
    "duration": 0,
    "start_time": "2024-09-22T16:18:18.636Z"
   },
   {
    "duration": 0,
    "start_time": "2024-09-22T16:18:18.637Z"
   },
   {
    "duration": 0,
    "start_time": "2024-09-22T16:18:18.638Z"
   },
   {
    "duration": 0,
    "start_time": "2024-09-22T16:18:18.640Z"
   },
   {
    "duration": 0,
    "start_time": "2024-09-22T16:18:18.644Z"
   },
   {
    "duration": 0,
    "start_time": "2024-09-22T16:18:18.646Z"
   },
   {
    "duration": 0,
    "start_time": "2024-09-22T16:18:18.647Z"
   },
   {
    "duration": 0,
    "start_time": "2024-09-22T16:18:18.648Z"
   },
   {
    "duration": 0,
    "start_time": "2024-09-22T16:18:18.650Z"
   },
   {
    "duration": 0,
    "start_time": "2024-09-22T16:18:18.652Z"
   },
   {
    "duration": 0,
    "start_time": "2024-09-22T16:18:18.653Z"
   },
   {
    "duration": 0,
    "start_time": "2024-09-22T16:18:18.654Z"
   },
   {
    "duration": 57,
    "start_time": "2024-09-22T16:18:18.657Z"
   },
   {
    "duration": 0,
    "start_time": "2024-09-22T16:18:18.716Z"
   },
   {
    "duration": 0,
    "start_time": "2024-09-22T16:18:18.717Z"
   },
   {
    "duration": 0,
    "start_time": "2024-09-22T16:18:18.719Z"
   },
   {
    "duration": 0,
    "start_time": "2024-09-22T16:18:18.720Z"
   },
   {
    "duration": 0,
    "start_time": "2024-09-22T16:18:18.721Z"
   },
   {
    "duration": 1,
    "start_time": "2024-09-22T16:18:18.722Z"
   },
   {
    "duration": 0,
    "start_time": "2024-09-22T16:18:18.724Z"
   },
   {
    "duration": 0,
    "start_time": "2024-09-22T16:18:18.725Z"
   },
   {
    "duration": 0,
    "start_time": "2024-09-22T16:18:18.727Z"
   },
   {
    "duration": 0,
    "start_time": "2024-09-22T16:18:18.728Z"
   },
   {
    "duration": 0,
    "start_time": "2024-09-22T16:18:18.730Z"
   },
   {
    "duration": 0,
    "start_time": "2024-09-22T16:18:18.731Z"
   },
   {
    "duration": 7715,
    "start_time": "2024-09-22T16:18:23.981Z"
   },
   {
    "duration": 2803,
    "start_time": "2024-09-22T16:18:31.699Z"
   },
   {
    "duration": 3143,
    "start_time": "2024-09-22T16:18:37.626Z"
   },
   {
    "duration": 3,
    "start_time": "2024-09-22T16:18:40.771Z"
   },
   {
    "duration": 844,
    "start_time": "2024-09-22T16:18:40.776Z"
   },
   {
    "duration": 532,
    "start_time": "2024-09-22T16:18:41.622Z"
   },
   {
    "duration": 7,
    "start_time": "2024-09-22T16:18:42.156Z"
   },
   {
    "duration": 575,
    "start_time": "2024-09-22T16:18:42.164Z"
   },
   {
    "duration": 402,
    "start_time": "2024-09-22T16:18:42.741Z"
   },
   {
    "duration": 177,
    "start_time": "2024-09-22T16:18:43.146Z"
   },
   {
    "duration": 69,
    "start_time": "2024-09-22T16:18:43.325Z"
   },
   {
    "duration": 119,
    "start_time": "2024-09-22T16:18:43.395Z"
   },
   {
    "duration": 63,
    "start_time": "2024-09-22T16:18:43.516Z"
   },
   {
    "duration": 298,
    "start_time": "2024-09-22T16:18:43.580Z"
   },
   {
    "duration": 39,
    "start_time": "2024-09-22T16:18:43.880Z"
   },
   {
    "duration": 25,
    "start_time": "2024-09-22T16:18:43.922Z"
   },
   {
    "duration": 17,
    "start_time": "2024-09-22T16:18:43.949Z"
   },
   {
    "duration": 22,
    "start_time": "2024-09-22T16:18:43.968Z"
   },
   {
    "duration": 17,
    "start_time": "2024-09-22T16:18:43.992Z"
   },
   {
    "duration": 48,
    "start_time": "2024-09-22T16:18:44.011Z"
   },
   {
    "duration": 0,
    "start_time": "2024-09-22T16:18:44.061Z"
   },
   {
    "duration": 0,
    "start_time": "2024-09-22T16:18:44.062Z"
   },
   {
    "duration": 0,
    "start_time": "2024-09-22T16:18:44.063Z"
   },
   {
    "duration": 0,
    "start_time": "2024-09-22T16:18:44.064Z"
   },
   {
    "duration": 0,
    "start_time": "2024-09-22T16:18:44.064Z"
   },
   {
    "duration": 0,
    "start_time": "2024-09-22T16:18:44.066Z"
   },
   {
    "duration": 0,
    "start_time": "2024-09-22T16:18:44.067Z"
   },
   {
    "duration": 0,
    "start_time": "2024-09-22T16:18:44.068Z"
   },
   {
    "duration": 0,
    "start_time": "2024-09-22T16:18:44.069Z"
   },
   {
    "duration": 0,
    "start_time": "2024-09-22T16:18:44.070Z"
   },
   {
    "duration": 0,
    "start_time": "2024-09-22T16:18:44.071Z"
   },
   {
    "duration": 0,
    "start_time": "2024-09-22T16:18:44.072Z"
   },
   {
    "duration": 0,
    "start_time": "2024-09-22T16:18:44.073Z"
   },
   {
    "duration": 33,
    "start_time": "2024-09-22T16:18:54.786Z"
   },
   {
    "duration": 31,
    "start_time": "2024-09-22T16:18:54.968Z"
   },
   {
    "duration": 22,
    "start_time": "2024-09-22T16:18:55.149Z"
   },
   {
    "duration": 14,
    "start_time": "2024-09-22T16:18:55.510Z"
   },
   {
    "duration": 4,
    "start_time": "2024-09-22T16:18:55.693Z"
   },
   {
    "duration": 1087,
    "start_time": "2024-09-22T16:18:55.892Z"
   },
   {
    "duration": 40,
    "start_time": "2024-09-22T16:18:56.981Z"
   },
   {
    "duration": 33,
    "start_time": "2024-09-22T16:18:59.021Z"
   },
   {
    "duration": 27,
    "start_time": "2024-09-22T16:18:59.466Z"
   },
   {
    "duration": 19,
    "start_time": "2024-09-22T16:18:59.819Z"
   },
   {
    "duration": 39,
    "start_time": "2024-09-22T16:19:00.202Z"
   },
   {
    "duration": 47,
    "start_time": "2024-09-22T16:19:01.512Z"
   },
   {
    "duration": 7640,
    "start_time": "2024-09-22T16:21:07.236Z"
   },
   {
    "duration": 1736,
    "start_time": "2024-09-22T16:21:14.882Z"
   },
   {
    "duration": 941,
    "start_time": "2024-09-22T16:21:24.582Z"
   },
   {
    "duration": 4,
    "start_time": "2024-09-22T16:21:25.525Z"
   },
   {
    "duration": 848,
    "start_time": "2024-09-22T16:21:25.530Z"
   },
   {
    "duration": 594,
    "start_time": "2024-09-22T16:21:26.380Z"
   },
   {
    "duration": 6,
    "start_time": "2024-09-22T16:21:26.976Z"
   },
   {
    "duration": 596,
    "start_time": "2024-09-22T16:21:26.984Z"
   },
   {
    "duration": 377,
    "start_time": "2024-09-22T16:21:27.582Z"
   },
   {
    "duration": 172,
    "start_time": "2024-09-22T16:21:27.960Z"
   },
   {
    "duration": 60,
    "start_time": "2024-09-22T16:21:28.133Z"
   },
   {
    "duration": 126,
    "start_time": "2024-09-22T16:21:28.195Z"
   },
   {
    "duration": 60,
    "start_time": "2024-09-22T16:21:28.323Z"
   },
   {
    "duration": 383,
    "start_time": "2024-09-22T16:21:28.385Z"
   },
   {
    "duration": 37,
    "start_time": "2024-09-22T16:21:28.769Z"
   },
   {
    "duration": 14,
    "start_time": "2024-09-22T16:21:28.809Z"
   },
   {
    "duration": 64,
    "start_time": "2024-09-22T16:21:28.824Z"
   },
   {
    "duration": 26,
    "start_time": "2024-09-22T16:21:28.890Z"
   },
   {
    "duration": 23,
    "start_time": "2024-09-22T16:21:28.918Z"
   },
   {
    "duration": 21,
    "start_time": "2024-09-22T16:21:28.943Z"
   },
   {
    "duration": 27,
    "start_time": "2024-09-22T16:21:28.965Z"
   },
   {
    "duration": 37,
    "start_time": "2024-09-22T16:21:28.994Z"
   },
   {
    "duration": 34,
    "start_time": "2024-09-22T16:21:29.033Z"
   },
   {
    "duration": 9,
    "start_time": "2024-09-22T16:21:29.068Z"
   },
   {
    "duration": 1080,
    "start_time": "2024-09-22T16:21:29.078Z"
   },
   {
    "duration": 31,
    "start_time": "2024-09-22T16:21:30.159Z"
   },
   {
    "duration": 51,
    "start_time": "2024-09-22T16:21:30.192Z"
   },
   {
    "duration": 68,
    "start_time": "2024-09-22T16:21:30.245Z"
   },
   {
    "duration": 40,
    "start_time": "2024-09-22T16:21:30.315Z"
   },
   {
    "duration": 74,
    "start_time": "2024-09-22T16:21:30.356Z"
   },
   {
    "duration": 108,
    "start_time": "2024-09-22T16:21:30.432Z"
   },
   {
    "duration": 27,
    "start_time": "2024-09-22T16:22:07.046Z"
   },
   {
    "duration": 18,
    "start_time": "2024-09-22T16:22:11.696Z"
   },
   {
    "duration": 14,
    "start_time": "2024-09-22T16:23:00.693Z"
   },
   {
    "duration": 6652,
    "start_time": "2024-09-22T16:23:08.271Z"
   },
   {
    "duration": 116,
    "start_time": "2024-09-23T08:20:02.913Z"
   },
   {
    "duration": 13986,
    "start_time": "2024-09-23T08:20:53.983Z"
   },
   {
    "duration": 1939,
    "start_time": "2024-09-23T08:21:10.392Z"
   },
   {
    "duration": 1349,
    "start_time": "2024-09-23T08:21:16.303Z"
   },
   {
    "duration": 3,
    "start_time": "2024-09-23T08:21:17.654Z"
   },
   {
    "duration": 797,
    "start_time": "2024-09-23T08:21:17.659Z"
   },
   {
    "duration": 519,
    "start_time": "2024-09-23T08:21:18.458Z"
   },
   {
    "duration": 6,
    "start_time": "2024-09-23T08:21:18.979Z"
   },
   {
    "duration": 556,
    "start_time": "2024-09-23T08:21:18.986Z"
   },
   {
    "duration": 363,
    "start_time": "2024-09-23T08:21:19.544Z"
   },
   {
    "duration": 278,
    "start_time": "2024-09-23T08:21:19.908Z"
   },
   {
    "duration": 63,
    "start_time": "2024-09-23T08:21:20.188Z"
   },
   {
    "duration": 125,
    "start_time": "2024-09-23T08:21:20.252Z"
   },
   {
    "duration": 61,
    "start_time": "2024-09-23T08:21:20.379Z"
   },
   {
    "duration": 203,
    "start_time": "2024-09-23T08:21:20.442Z"
   },
   {
    "duration": 40,
    "start_time": "2024-09-23T08:21:20.647Z"
   },
   {
    "duration": 27,
    "start_time": "2024-09-23T08:21:20.689Z"
   },
   {
    "duration": 19,
    "start_time": "2024-09-23T08:21:20.718Z"
   },
   {
    "duration": 20,
    "start_time": "2024-09-23T08:21:20.738Z"
   },
   {
    "duration": 32,
    "start_time": "2024-09-23T08:21:20.759Z"
   },
   {
    "duration": 27,
    "start_time": "2024-09-23T08:21:20.793Z"
   },
   {
    "duration": 75,
    "start_time": "2024-09-23T08:21:20.822Z"
   },
   {
    "duration": 45,
    "start_time": "2024-09-23T08:21:20.898Z"
   },
   {
    "duration": 29,
    "start_time": "2024-09-23T08:21:20.944Z"
   },
   {
    "duration": 23,
    "start_time": "2024-09-23T08:21:20.974Z"
   },
   {
    "duration": 1085,
    "start_time": "2024-09-23T08:21:20.999Z"
   },
   {
    "duration": 43,
    "start_time": "2024-09-23T08:21:22.086Z"
   },
   {
    "duration": 34,
    "start_time": "2024-09-23T08:21:22.130Z"
   },
   {
    "duration": 27,
    "start_time": "2024-09-23T08:21:22.167Z"
   },
   {
    "duration": 41,
    "start_time": "2024-09-23T08:21:22.196Z"
   },
   {
    "duration": 39,
    "start_time": "2024-09-23T08:21:22.239Z"
   },
   {
    "duration": 63,
    "start_time": "2024-09-23T08:21:22.280Z"
   },
   {
    "duration": 15,
    "start_time": "2024-09-23T08:21:22.345Z"
   },
   {
    "duration": 6531,
    "start_time": "2024-09-23T08:21:22.361Z"
   },
   {
    "duration": 145,
    "start_time": "2024-09-23T08:21:28.893Z"
   },
   {
    "duration": 13,
    "start_time": "2024-09-23T08:23:10.859Z"
   },
   {
    "duration": 10,
    "start_time": "2024-09-23T08:23:16.212Z"
   },
   {
    "duration": 20,
    "start_time": "2024-09-23T08:23:32.668Z"
   },
   {
    "duration": 32,
    "start_time": "2024-09-23T08:23:40.880Z"
   },
   {
    "duration": 16,
    "start_time": "2024-09-23T08:23:41.504Z"
   },
   {
    "duration": 4,
    "start_time": "2024-09-23T08:23:59.740Z"
   },
   {
    "duration": 567,
    "start_time": "2024-09-23T08:24:38.741Z"
   },
   {
    "duration": 73,
    "start_time": "2024-09-23T08:25:17.426Z"
   },
   {
    "duration": 4,
    "start_time": "2024-09-23T08:25:25.882Z"
   },
   {
    "duration": 15,
    "start_time": "2024-09-23T08:26:20.221Z"
   },
   {
    "duration": 499,
    "start_time": "2024-09-23T08:27:02.850Z"
   },
   {
    "duration": 18,
    "start_time": "2024-09-23T08:27:58.164Z"
   },
   {
    "duration": 6275,
    "start_time": "2024-09-23T08:28:02.278Z"
   },
   {
    "duration": 4,
    "start_time": "2024-09-23T08:28:11.947Z"
   },
   {
    "duration": 15,
    "start_time": "2024-09-23T08:28:24.466Z"
   },
   {
    "duration": 522,
    "start_time": "2024-09-23T08:28:30.324Z"
   },
   {
    "duration": 44,
    "start_time": "2024-09-23T08:28:34.878Z"
   },
   {
    "duration": 4,
    "start_time": "2024-09-23T08:28:36.010Z"
   },
   {
    "duration": 474,
    "start_time": "2024-09-23T08:28:37.342Z"
   },
   {
    "duration": 4,
    "start_time": "2024-09-23T08:31:37.526Z"
   },
   {
    "duration": 19,
    "start_time": "2024-09-23T08:31:44.252Z"
   },
   {
    "duration": 17,
    "start_time": "2024-09-23T08:32:00.559Z"
   },
   {
    "duration": 77,
    "start_time": "2024-09-23T08:32:58.253Z"
   },
   {
    "duration": 19,
    "start_time": "2024-09-23T08:33:30.815Z"
   },
   {
    "duration": 870,
    "start_time": "2024-09-23T08:33:37.936Z"
   },
   {
    "duration": 8,
    "start_time": "2024-09-23T08:33:38.808Z"
   },
   {
    "duration": 785,
    "start_time": "2024-09-23T08:33:38.817Z"
   },
   {
    "duration": 488,
    "start_time": "2024-09-23T08:33:39.603Z"
   },
   {
    "duration": 6,
    "start_time": "2024-09-23T08:33:40.093Z"
   },
   {
    "duration": 560,
    "start_time": "2024-09-23T08:33:40.100Z"
   },
   {
    "duration": 502,
    "start_time": "2024-09-23T08:33:40.661Z"
   },
   {
    "duration": 207,
    "start_time": "2024-09-23T08:33:41.164Z"
   },
   {
    "duration": 55,
    "start_time": "2024-09-23T08:33:41.372Z"
   },
   {
    "duration": 120,
    "start_time": "2024-09-23T08:33:41.429Z"
   },
   {
    "duration": 54,
    "start_time": "2024-09-23T08:33:41.550Z"
   },
   {
    "duration": 225,
    "start_time": "2024-09-23T08:33:41.615Z"
   },
   {
    "duration": 43,
    "start_time": "2024-09-23T08:33:41.842Z"
   },
   {
    "duration": 50,
    "start_time": "2024-09-23T08:33:41.888Z"
   },
   {
    "duration": 18,
    "start_time": "2024-09-23T08:33:41.939Z"
   },
   {
    "duration": 21,
    "start_time": "2024-09-23T08:33:41.959Z"
   },
   {
    "duration": 18,
    "start_time": "2024-09-23T08:33:41.982Z"
   },
   {
    "duration": 28,
    "start_time": "2024-09-23T08:33:42.001Z"
   },
   {
    "duration": 20,
    "start_time": "2024-09-23T08:33:42.031Z"
   },
   {
    "duration": 22,
    "start_time": "2024-09-23T08:33:42.052Z"
   },
   {
    "duration": 13,
    "start_time": "2024-09-23T08:33:42.076Z"
   },
   {
    "duration": 3,
    "start_time": "2024-09-23T08:33:42.091Z"
   },
   {
    "duration": 1125,
    "start_time": "2024-09-23T08:33:42.116Z"
   },
   {
    "duration": 41,
    "start_time": "2024-09-23T08:33:43.242Z"
   },
   {
    "duration": 46,
    "start_time": "2024-09-23T08:33:43.284Z"
   },
   {
    "duration": 20,
    "start_time": "2024-09-23T08:33:43.332Z"
   },
   {
    "duration": 22,
    "start_time": "2024-09-23T08:33:43.353Z"
   },
   {
    "duration": 57,
    "start_time": "2024-09-23T08:33:43.377Z"
   },
   {
    "duration": 47,
    "start_time": "2024-09-23T08:33:43.435Z"
   },
   {
    "duration": 32,
    "start_time": "2024-09-23T08:33:43.484Z"
   },
   {
    "duration": 6363,
    "start_time": "2024-09-23T08:33:43.517Z"
   },
   {
    "duration": 82,
    "start_time": "2024-09-23T08:33:49.882Z"
   },
   {
    "duration": 76,
    "start_time": "2024-09-23T08:33:52.199Z"
   },
   {
    "duration": 25,
    "start_time": "2024-09-23T08:33:54.004Z"
   },
   {
    "duration": 483,
    "start_time": "2024-09-23T08:33:55.624Z"
   },
   {
    "duration": 502,
    "start_time": "2024-09-23T09:06:10.108Z"
   },
   {
    "duration": 44,
    "start_time": "2024-09-23T09:06:10.611Z"
   },
   {
    "duration": 3,
    "start_time": "2024-09-23T09:06:12.391Z"
   },
   {
    "duration": 20,
    "start_time": "2024-09-23T09:06:13.285Z"
   },
   {
    "duration": 87,
    "start_time": "2024-09-23T09:10:29.095Z"
   },
   {
    "duration": 9,
    "start_time": "2024-09-23T09:11:05.967Z"
   },
   {
    "duration": 906,
    "start_time": "2024-09-23T09:13:06.174Z"
   },
   {
    "duration": 4,
    "start_time": "2024-09-23T09:13:07.082Z"
   },
   {
    "duration": 864,
    "start_time": "2024-09-23T09:13:07.087Z"
   },
   {
    "duration": 506,
    "start_time": "2024-09-23T09:13:07.952Z"
   },
   {
    "duration": 7,
    "start_time": "2024-09-23T09:13:08.460Z"
   },
   {
    "duration": 585,
    "start_time": "2024-09-23T09:13:08.469Z"
   },
   {
    "duration": 380,
    "start_time": "2024-09-23T09:13:09.056Z"
   },
   {
    "duration": 195,
    "start_time": "2024-09-23T09:13:09.438Z"
   },
   {
    "duration": 54,
    "start_time": "2024-09-23T09:13:09.635Z"
   },
   {
    "duration": 143,
    "start_time": "2024-09-23T09:13:09.690Z"
   },
   {
    "duration": 51,
    "start_time": "2024-09-23T09:13:09.834Z"
   },
   {
    "duration": 224,
    "start_time": "2024-09-23T09:13:09.887Z"
   },
   {
    "duration": 41,
    "start_time": "2024-09-23T09:13:10.116Z"
   },
   {
    "duration": 14,
    "start_time": "2024-09-23T09:13:10.161Z"
   },
   {
    "duration": 20,
    "start_time": "2024-09-23T09:13:10.176Z"
   },
   {
    "duration": 20,
    "start_time": "2024-09-23T09:13:10.216Z"
   },
   {
    "duration": 24,
    "start_time": "2024-09-23T09:13:10.238Z"
   },
   {
    "duration": 32,
    "start_time": "2024-09-23T09:13:10.263Z"
   },
   {
    "duration": 21,
    "start_time": "2024-09-23T09:13:10.297Z"
   },
   {
    "duration": 24,
    "start_time": "2024-09-23T09:13:10.319Z"
   },
   {
    "duration": 15,
    "start_time": "2024-09-23T09:13:10.344Z"
   },
   {
    "duration": 5,
    "start_time": "2024-09-23T09:13:10.360Z"
   },
   {
    "duration": 1225,
    "start_time": "2024-09-23T09:13:10.366Z"
   },
   {
    "duration": 44,
    "start_time": "2024-09-23T09:13:11.593Z"
   },
   {
    "duration": 31,
    "start_time": "2024-09-23T09:13:11.639Z"
   },
   {
    "duration": 22,
    "start_time": "2024-09-23T09:13:11.672Z"
   },
   {
    "duration": 30,
    "start_time": "2024-09-23T09:13:11.695Z"
   },
   {
    "duration": 29,
    "start_time": "2024-09-23T09:13:11.727Z"
   },
   {
    "duration": 58,
    "start_time": "2024-09-23T09:13:11.757Z"
   },
   {
    "duration": 43,
    "start_time": "2024-09-23T09:13:11.817Z"
   },
   {
    "duration": 6254,
    "start_time": "2024-09-23T09:13:11.861Z"
   },
   {
    "duration": 77,
    "start_time": "2024-09-23T09:13:18.117Z"
   },
   {
    "duration": 36,
    "start_time": "2024-09-23T09:13:18.196Z"
   },
   {
    "duration": 512,
    "start_time": "2024-09-23T09:13:18.234Z"
   },
   {
    "duration": 42,
    "start_time": "2024-09-23T09:13:18.747Z"
   },
   {
    "duration": 3,
    "start_time": "2024-09-23T09:13:18.791Z"
   },
   {
    "duration": 4,
    "start_time": "2024-09-23T09:13:20.960Z"
   },
   {
    "duration": 9,
    "start_time": "2024-09-23T09:13:21.702Z"
   },
   {
    "duration": 3,
    "start_time": "2024-09-23T09:13:54.049Z"
   },
   {
    "duration": 21,
    "start_time": "2024-09-23T09:13:58.809Z"
   },
   {
    "duration": 18,
    "start_time": "2024-09-23T09:14:33.483Z"
   },
   {
    "duration": 20,
    "start_time": "2024-09-23T09:16:38.459Z"
   },
   {
    "duration": 922,
    "start_time": "2024-09-23T12:19:36.403Z"
   },
   {
    "duration": 5,
    "start_time": "2024-09-23T12:19:37.328Z"
   },
   {
    "duration": 793,
    "start_time": "2024-09-23T12:19:37.334Z"
   },
   {
    "duration": 498,
    "start_time": "2024-09-23T12:19:38.129Z"
   },
   {
    "duration": 6,
    "start_time": "2024-09-23T12:19:38.629Z"
   },
   {
    "duration": 793,
    "start_time": "2024-09-23T12:19:38.637Z"
   },
   {
    "duration": 390,
    "start_time": "2024-09-23T12:19:39.432Z"
   },
   {
    "duration": 209,
    "start_time": "2024-09-23T12:19:39.824Z"
   },
   {
    "duration": 47,
    "start_time": "2024-09-23T12:19:40.035Z"
   },
   {
    "duration": 137,
    "start_time": "2024-09-23T12:19:40.085Z"
   },
   {
    "duration": 54,
    "start_time": "2024-09-23T12:19:40.224Z"
   },
   {
    "duration": 275,
    "start_time": "2024-09-23T12:19:40.280Z"
   },
   {
    "duration": 39,
    "start_time": "2024-09-23T12:19:40.557Z"
   },
   {
    "duration": 30,
    "start_time": "2024-09-23T12:19:40.598Z"
   },
   {
    "duration": 29,
    "start_time": "2024-09-23T12:19:40.629Z"
   },
   {
    "duration": 37,
    "start_time": "2024-09-23T12:19:40.660Z"
   },
   {
    "duration": 17,
    "start_time": "2024-09-23T12:19:40.700Z"
   },
   {
    "duration": 58,
    "start_time": "2024-09-23T12:19:40.719Z"
   },
   {
    "duration": 20,
    "start_time": "2024-09-23T12:19:40.779Z"
   },
   {
    "duration": 114,
    "start_time": "2024-09-23T12:19:40.800Z"
   },
   {
    "duration": 19,
    "start_time": "2024-09-23T12:19:40.916Z"
   },
   {
    "duration": 40,
    "start_time": "2024-09-23T12:19:40.937Z"
   },
   {
    "duration": 1104,
    "start_time": "2024-09-23T12:19:40.979Z"
   },
   {
    "duration": 53,
    "start_time": "2024-09-23T12:19:42.085Z"
   },
   {
    "duration": 34,
    "start_time": "2024-09-23T12:19:42.140Z"
   },
   {
    "duration": 16,
    "start_time": "2024-09-23T12:19:42.176Z"
   },
   {
    "duration": 38,
    "start_time": "2024-09-23T12:19:42.194Z"
   },
   {
    "duration": 27,
    "start_time": "2024-09-23T12:19:42.235Z"
   },
   {
    "duration": 65,
    "start_time": "2024-09-23T12:19:42.264Z"
   },
   {
    "duration": 18,
    "start_time": "2024-09-23T12:19:42.331Z"
   },
   {
    "duration": 6644,
    "start_time": "2024-09-23T12:19:42.351Z"
   },
   {
    "duration": 101,
    "start_time": "2024-09-23T12:19:48.997Z"
   },
   {
    "duration": 44,
    "start_time": "2024-09-23T12:19:49.100Z"
   },
   {
    "duration": 16,
    "start_time": "2024-09-23T12:20:04.547Z"
   },
   {
    "duration": 116,
    "start_time": "2024-09-23T12:20:05.455Z"
   },
   {
    "duration": 14,
    "start_time": "2024-09-23T12:20:52.521Z"
   },
   {
    "duration": 351,
    "start_time": "2024-09-23T12:21:17.841Z"
   },
   {
    "duration": 34,
    "start_time": "2024-09-23T12:21:30.329Z"
   },
   {
    "duration": 36,
    "start_time": "2024-09-23T12:21:34.604Z"
   },
   {
    "duration": 144,
    "start_time": "2024-09-23T12:22:04.272Z"
   },
   {
    "duration": 10,
    "start_time": "2024-09-23T12:22:07.797Z"
   },
   {
    "duration": 52,
    "start_time": "2024-09-23T12:22:08.424Z"
   },
   {
    "duration": 68617,
    "start_time": "2024-09-23T12:22:09.008Z"
   },
   {
    "duration": 57285,
    "start_time": "2024-09-23T12:24:59.350Z"
   },
   {
    "duration": 27042,
    "start_time": "2024-09-23T12:26:13.140Z"
   },
   {
    "duration": 233108,
    "start_time": "2024-09-23T12:27:42.521Z"
   },
   {
    "duration": 99,
    "start_time": "2024-09-23T12:31:35.631Z"
   },
   {
    "duration": 12189,
    "start_time": "2024-09-23T12:31:35.732Z"
   },
   {
    "duration": 101,
    "start_time": "2024-09-23T12:31:47.924Z"
   },
   {
    "duration": 1410,
    "start_time": "2024-09-23T12:31:48.027Z"
   },
   {
    "duration": 12375,
    "start_time": "2024-09-23T12:36:39.442Z"
   },
   {
    "duration": 68,
    "start_time": "2024-09-23T12:39:41.286Z"
   },
   {
    "duration": 13,
    "start_time": "2024-09-23T12:40:02.443Z"
   },
   {
    "duration": 11,
    "start_time": "2024-09-23T12:42:17.384Z"
   },
   {
    "duration": 13,
    "start_time": "2024-09-23T12:42:34.200Z"
   },
   {
    "duration": 5107,
    "start_time": "2024-09-23T13:19:01.336Z"
   },
   {
    "duration": 5,
    "start_time": "2024-09-23T13:19:06.446Z"
   },
   {
    "duration": 20,
    "start_time": "2024-09-23T13:19:06.453Z"
   },
   {
    "duration": 959,
    "start_time": "2024-09-23T13:19:06.475Z"
   },
   {
    "duration": 3,
    "start_time": "2024-09-23T13:19:07.437Z"
   },
   {
    "duration": 5063,
    "start_time": "2024-09-23T13:19:09.524Z"
   },
   {
    "duration": 1598,
    "start_time": "2024-09-23T13:19:14.590Z"
   },
   {
    "duration": 4,
    "start_time": "2024-09-23T13:19:16.190Z"
   },
   {
    "duration": 989,
    "start_time": "2024-09-23T13:19:16.195Z"
   },
   {
    "duration": 3,
    "start_time": "2024-09-23T13:19:17.186Z"
   },
   {
    "duration": 886,
    "start_time": "2024-09-23T13:19:17.190Z"
   },
   {
    "duration": 572,
    "start_time": "2024-09-23T13:19:18.077Z"
   },
   {
    "duration": 6,
    "start_time": "2024-09-23T13:19:18.650Z"
   },
   {
    "duration": 633,
    "start_time": "2024-09-23T13:19:18.657Z"
   },
   {
    "duration": 377,
    "start_time": "2024-09-23T13:19:19.292Z"
   },
   {
    "duration": 177,
    "start_time": "2024-09-23T13:19:19.671Z"
   },
   {
    "duration": 74,
    "start_time": "2024-09-23T13:19:19.850Z"
   },
   {
    "duration": 123,
    "start_time": "2024-09-23T13:19:19.926Z"
   },
   {
    "duration": 70,
    "start_time": "2024-09-23T13:19:20.052Z"
   },
   {
    "duration": 194,
    "start_time": "2024-09-23T13:19:20.123Z"
   },
   {
    "duration": 39,
    "start_time": "2024-09-23T13:19:20.319Z"
   },
   {
    "duration": 14,
    "start_time": "2024-09-23T13:19:20.360Z"
   },
   {
    "duration": 47,
    "start_time": "2024-09-23T13:19:20.376Z"
   },
   {
    "duration": 24,
    "start_time": "2024-09-23T13:19:20.425Z"
   },
   {
    "duration": 21,
    "start_time": "2024-09-23T13:19:20.450Z"
   },
   {
    "duration": 45,
    "start_time": "2024-09-23T13:19:20.472Z"
   },
   {
    "duration": 20,
    "start_time": "2024-09-23T13:19:20.518Z"
   },
   {
    "duration": 24,
    "start_time": "2024-09-23T13:19:20.539Z"
   },
   {
    "duration": 19,
    "start_time": "2024-09-23T13:19:20.565Z"
   },
   {
    "duration": 4,
    "start_time": "2024-09-23T13:19:20.585Z"
   },
   {
    "duration": 1207,
    "start_time": "2024-09-23T13:19:20.590Z"
   },
   {
    "duration": 44,
    "start_time": "2024-09-23T13:19:21.799Z"
   },
   {
    "duration": 34,
    "start_time": "2024-09-23T13:19:21.845Z"
   },
   {
    "duration": 26,
    "start_time": "2024-09-23T13:19:21.880Z"
   },
   {
    "duration": 25,
    "start_time": "2024-09-23T13:19:21.908Z"
   },
   {
    "duration": 88,
    "start_time": "2024-09-23T13:19:21.935Z"
   },
   {
    "duration": 45,
    "start_time": "2024-09-23T13:19:22.025Z"
   },
   {
    "duration": 18,
    "start_time": "2024-09-23T13:19:22.072Z"
   },
   {
    "duration": 6525,
    "start_time": "2024-09-23T13:19:22.091Z"
   },
   {
    "duration": 86,
    "start_time": "2024-09-23T13:19:28.617Z"
   },
   {
    "duration": 154,
    "start_time": "2024-09-23T13:19:28.705Z"
   },
   {
    "duration": 8,
    "start_time": "2024-09-23T13:19:28.861Z"
   },
   {
    "duration": 62,
    "start_time": "2024-09-23T13:19:28.870Z"
   },
   {
    "duration": 58,
    "start_time": "2024-09-23T13:19:28.933Z"
   },
   {
    "duration": 12031,
    "start_time": "2024-09-23T13:19:28.992Z"
   },
   {
    "duration": 26363,
    "start_time": "2024-09-23T13:19:41.117Z"
   },
   {
    "duration": 4942,
    "start_time": "2024-09-23T13:22:36.664Z"
   },
   {
    "duration": 1507,
    "start_time": "2024-09-23T13:22:41.609Z"
   },
   {
    "duration": 923,
    "start_time": "2024-09-23T13:22:43.118Z"
   },
   {
    "duration": 3,
    "start_time": "2024-09-23T13:22:44.043Z"
   },
   {
    "duration": 768,
    "start_time": "2024-09-23T13:22:44.048Z"
   },
   {
    "duration": 545,
    "start_time": "2024-09-23T13:22:44.817Z"
   },
   {
    "duration": 7,
    "start_time": "2024-09-23T13:22:45.364Z"
   },
   {
    "duration": 648,
    "start_time": "2024-09-23T13:22:45.373Z"
   },
   {
    "duration": 373,
    "start_time": "2024-09-23T13:22:46.023Z"
   },
   {
    "duration": 169,
    "start_time": "2024-09-23T13:22:46.397Z"
   },
   {
    "duration": 68,
    "start_time": "2024-09-23T13:22:46.567Z"
   },
   {
    "duration": 119,
    "start_time": "2024-09-23T13:22:46.636Z"
   },
   {
    "duration": 62,
    "start_time": "2024-09-23T13:22:46.757Z"
   },
   {
    "duration": 199,
    "start_time": "2024-09-23T13:22:46.823Z"
   },
   {
    "duration": 39,
    "start_time": "2024-09-23T13:22:47.024Z"
   },
   {
    "duration": 14,
    "start_time": "2024-09-23T13:22:47.065Z"
   },
   {
    "duration": 39,
    "start_time": "2024-09-23T13:22:47.081Z"
   },
   {
    "duration": 25,
    "start_time": "2024-09-23T13:22:47.122Z"
   },
   {
    "duration": 71,
    "start_time": "2024-09-23T13:22:47.149Z"
   },
   {
    "duration": 20,
    "start_time": "2024-09-23T13:22:47.222Z"
   },
   {
    "duration": 31,
    "start_time": "2024-09-23T13:22:47.243Z"
   },
   {
    "duration": 44,
    "start_time": "2024-09-23T13:22:47.276Z"
   },
   {
    "duration": 28,
    "start_time": "2024-09-23T13:22:47.324Z"
   },
   {
    "duration": 14,
    "start_time": "2024-09-23T13:22:47.353Z"
   },
   {
    "duration": 1224,
    "start_time": "2024-09-23T13:22:47.369Z"
   },
   {
    "duration": 44,
    "start_time": "2024-09-23T13:22:48.595Z"
   },
   {
    "duration": 31,
    "start_time": "2024-09-23T13:22:48.641Z"
   },
   {
    "duration": 42,
    "start_time": "2024-09-23T13:22:48.674Z"
   },
   {
    "duration": 35,
    "start_time": "2024-09-23T13:22:48.717Z"
   },
   {
    "duration": 75,
    "start_time": "2024-09-23T13:22:48.754Z"
   },
   {
    "duration": 61,
    "start_time": "2024-09-23T13:22:48.831Z"
   },
   {
    "duration": 18,
    "start_time": "2024-09-23T13:22:48.893Z"
   },
   {
    "duration": 6247,
    "start_time": "2024-09-23T13:22:48.913Z"
   },
   {
    "duration": 75,
    "start_time": "2024-09-23T13:22:55.162Z"
   },
   {
    "duration": 134,
    "start_time": "2024-09-23T13:22:55.239Z"
   },
   {
    "duration": 8,
    "start_time": "2024-09-23T13:22:55.374Z"
   },
   {
    "duration": 62,
    "start_time": "2024-09-23T13:22:55.383Z"
   },
   {
    "duration": 68,
    "start_time": "2024-09-23T13:22:55.447Z"
   },
   {
    "duration": 12804,
    "start_time": "2024-09-23T13:22:55.517Z"
   },
   {
    "duration": 26528,
    "start_time": "2024-09-23T13:23:08.326Z"
   },
   {
    "duration": 241273,
    "start_time": "2024-09-23T13:23:34.858Z"
   },
   {
    "duration": 192,
    "start_time": "2024-09-23T13:27:36.133Z"
   },
   {
    "duration": 0,
    "start_time": "2024-09-23T13:27:36.327Z"
   },
   {
    "duration": 0,
    "start_time": "2024-09-23T13:27:36.329Z"
   },
   {
    "duration": 0,
    "start_time": "2024-09-23T13:27:36.330Z"
   },
   {
    "duration": 6,
    "start_time": "2024-09-23T13:28:04.458Z"
   },
   {
    "duration": 6,
    "start_time": "2024-09-23T13:28:29.275Z"
   },
   {
    "duration": 5,
    "start_time": "2024-09-23T13:28:50.101Z"
   },
   {
    "duration": 13,
    "start_time": "2024-09-23T13:29:10.285Z"
   },
   {
    "duration": 4,
    "start_time": "2024-09-23T13:29:35.007Z"
   },
   {
    "duration": 57184,
    "start_time": "2024-09-23T13:29:40.943Z"
   },
   {
    "duration": 11,
    "start_time": "2024-09-23T13:30:38.129Z"
   },
   {
    "duration": 1384,
    "start_time": "2024-09-23T13:30:38.142Z"
   },
   {
    "duration": 10,
    "start_time": "2024-09-23T13:42:35.181Z"
   },
   {
    "duration": 8,
    "start_time": "2024-09-23T13:44:30.125Z"
   },
   {
    "duration": 7,
    "start_time": "2024-09-23T13:45:24.366Z"
   },
   {
    "duration": 5033,
    "start_time": "2024-09-23T13:45:55.588Z"
   },
   {
    "duration": 6,
    "start_time": "2024-09-23T13:46:00.624Z"
   },
   {
    "duration": 936,
    "start_time": "2024-09-23T13:46:00.632Z"
   },
   {
    "duration": 3,
    "start_time": "2024-09-23T13:46:01.570Z"
   },
   {
    "duration": 775,
    "start_time": "2024-09-23T13:46:01.575Z"
   },
   {
    "duration": 479,
    "start_time": "2024-09-23T13:46:02.352Z"
   },
   {
    "duration": 6,
    "start_time": "2024-09-23T13:46:02.833Z"
   },
   {
    "duration": 602,
    "start_time": "2024-09-23T13:46:02.841Z"
   },
   {
    "duration": 385,
    "start_time": "2024-09-23T13:46:03.445Z"
   },
   {
    "duration": 327,
    "start_time": "2024-09-23T13:46:03.831Z"
   },
   {
    "duration": 56,
    "start_time": "2024-09-23T13:46:04.159Z"
   },
   {
    "duration": 125,
    "start_time": "2024-09-23T13:46:04.217Z"
   },
   {
    "duration": 51,
    "start_time": "2024-09-23T13:46:04.343Z"
   },
   {
    "duration": 243,
    "start_time": "2024-09-23T13:46:04.397Z"
   },
   {
    "duration": 41,
    "start_time": "2024-09-23T13:46:04.642Z"
   },
   {
    "duration": 30,
    "start_time": "2024-09-23T13:46:04.685Z"
   },
   {
    "duration": 27,
    "start_time": "2024-09-23T13:46:04.717Z"
   },
   {
    "duration": 34,
    "start_time": "2024-09-23T13:46:04.746Z"
   },
   {
    "duration": 23,
    "start_time": "2024-09-23T13:46:04.781Z"
   },
   {
    "duration": 75,
    "start_time": "2024-09-23T13:46:04.806Z"
   },
   {
    "duration": 24,
    "start_time": "2024-09-23T13:46:04.882Z"
   },
   {
    "duration": 57,
    "start_time": "2024-09-23T13:46:04.907Z"
   },
   {
    "duration": 46,
    "start_time": "2024-09-23T13:46:04.966Z"
   },
   {
    "duration": 34,
    "start_time": "2024-09-23T13:46:05.014Z"
   },
   {
    "duration": 34,
    "start_time": "2024-09-23T13:46:05.050Z"
   },
   {
    "duration": 36,
    "start_time": "2024-09-23T14:00:17.588Z"
   },
   {
    "duration": 5011,
    "start_time": "2024-09-23T14:06:12.221Z"
   },
   {
    "duration": 6,
    "start_time": "2024-09-23T14:06:17.234Z"
   },
   {
    "duration": 964,
    "start_time": "2024-09-23T14:06:17.241Z"
   },
   {
    "duration": 4,
    "start_time": "2024-09-23T14:06:18.206Z"
   },
   {
    "duration": 777,
    "start_time": "2024-09-23T14:06:18.214Z"
   },
   {
    "duration": 486,
    "start_time": "2024-09-23T14:06:18.993Z"
   },
   {
    "duration": 6,
    "start_time": "2024-09-23T14:06:19.481Z"
   },
   {
    "duration": 590,
    "start_time": "2024-09-23T14:06:19.489Z"
   },
   {
    "duration": 380,
    "start_time": "2024-09-23T14:06:20.081Z"
   },
   {
    "duration": 196,
    "start_time": "2024-09-23T14:06:20.463Z"
   },
   {
    "duration": 43,
    "start_time": "2024-09-23T14:06:20.661Z"
   },
   {
    "duration": 111,
    "start_time": "2024-09-23T14:06:20.715Z"
   },
   {
    "duration": 50,
    "start_time": "2024-09-23T14:06:20.827Z"
   },
   {
    "duration": 222,
    "start_time": "2024-09-23T14:06:20.880Z"
   },
   {
    "duration": 43,
    "start_time": "2024-09-23T14:06:21.104Z"
   },
   {
    "duration": 19,
    "start_time": "2024-09-23T14:06:21.149Z"
   },
   {
    "duration": 31,
    "start_time": "2024-09-23T14:06:21.169Z"
   },
   {
    "duration": 35,
    "start_time": "2024-09-23T14:06:21.202Z"
   },
   {
    "duration": 53,
    "start_time": "2024-09-23T14:06:21.239Z"
   },
   {
    "duration": 28,
    "start_time": "2024-09-23T14:06:21.294Z"
   },
   {
    "duration": 49,
    "start_time": "2024-09-23T14:06:21.324Z"
   },
   {
    "duration": 96,
    "start_time": "2024-09-23T14:06:21.375Z"
   },
   {
    "duration": 37,
    "start_time": "2024-09-23T14:06:21.472Z"
   },
   {
    "duration": 33,
    "start_time": "2024-09-23T14:06:21.511Z"
   },
   {
    "duration": 24,
    "start_time": "2024-09-23T14:06:21.546Z"
   },
   {
    "duration": 1250,
    "start_time": "2024-09-23T14:06:21.571Z"
   },
   {
    "duration": 44,
    "start_time": "2024-09-23T14:06:22.823Z"
   },
   {
    "duration": 47,
    "start_time": "2024-09-23T14:06:22.868Z"
   },
   {
    "duration": 65,
    "start_time": "2024-09-23T14:06:22.917Z"
   },
   {
    "duration": 23,
    "start_time": "2024-09-23T14:06:22.984Z"
   },
   {
    "duration": 6272,
    "start_time": "2024-09-23T14:06:23.009Z"
   },
   {
    "duration": 138,
    "start_time": "2024-09-23T14:06:29.283Z"
   },
   {
    "duration": 8,
    "start_time": "2024-09-23T14:06:29.423Z"
   },
   {
    "duration": 53,
    "start_time": "2024-09-23T14:06:29.432Z"
   },
   {
    "duration": 73,
    "start_time": "2024-09-23T14:06:29.487Z"
   },
   {
    "duration": 12073,
    "start_time": "2024-09-23T14:06:29.561Z"
   },
   {
    "duration": 91,
    "start_time": "2024-09-23T14:06:41.636Z"
   },
   {
    "duration": 12,
    "start_time": "2024-09-23T14:06:41.817Z"
   },
   {
    "duration": 26325,
    "start_time": "2024-09-23T14:08:25.403Z"
   },
   {
    "duration": 62,
    "start_time": "2024-09-23T14:08:51.730Z"
   },
   {
    "duration": 54,
    "start_time": "2024-09-23T14:08:51.794Z"
   },
   {
    "duration": 253691,
    "start_time": "2024-09-23T14:08:51.850Z"
   },
   {
    "duration": 1291,
    "start_time": "2024-09-23T14:13:05.542Z"
   },
   {
    "duration": 1098,
    "start_time": "2024-09-23T14:13:06.835Z"
   },
   {
    "duration": 49181,
    "start_time": "2024-09-23T14:13:07.935Z"
   },
   {
    "duration": 6125,
    "start_time": "2024-09-23T14:13:57.118Z"
   },
   {
    "duration": 4970,
    "start_time": "2024-09-23T14:14:03.245Z"
   },
   {
    "duration": 5012,
    "start_time": "2024-09-23T14:19:10.609Z"
   },
   {
    "duration": 1548,
    "start_time": "2024-09-23T14:19:15.623Z"
   },
   {
    "duration": 996,
    "start_time": "2024-09-23T14:19:17.173Z"
   },
   {
    "duration": 3,
    "start_time": "2024-09-23T14:19:18.171Z"
   },
   {
    "duration": 852,
    "start_time": "2024-09-23T14:19:18.176Z"
   },
   {
    "duration": 566,
    "start_time": "2024-09-23T14:19:19.030Z"
   },
   {
    "duration": 6,
    "start_time": "2024-09-23T14:19:19.598Z"
   },
   {
    "duration": 644,
    "start_time": "2024-09-23T14:19:19.606Z"
   },
   {
    "duration": 366,
    "start_time": "2024-09-23T14:19:20.252Z"
   },
   {
    "duration": 178,
    "start_time": "2024-09-23T14:19:20.620Z"
   },
   {
    "duration": 67,
    "start_time": "2024-09-23T14:19:20.800Z"
   },
   {
    "duration": 119,
    "start_time": "2024-09-23T14:19:20.869Z"
   },
   {
    "duration": 60,
    "start_time": "2024-09-23T14:19:20.989Z"
   },
   {
    "duration": 190,
    "start_time": "2024-09-23T14:19:21.050Z"
   },
   {
    "duration": 39,
    "start_time": "2024-09-23T14:19:21.241Z"
   },
   {
    "duration": 17,
    "start_time": "2024-09-23T14:19:21.281Z"
   },
   {
    "duration": 40,
    "start_time": "2024-09-23T14:19:21.316Z"
   },
   {
    "duration": 42,
    "start_time": "2024-09-23T14:19:21.358Z"
   },
   {
    "duration": 33,
    "start_time": "2024-09-23T14:19:21.401Z"
   },
   {
    "duration": 78,
    "start_time": "2024-09-23T14:19:21.436Z"
   },
   {
    "duration": 36,
    "start_time": "2024-09-23T14:19:21.515Z"
   },
   {
    "duration": 49,
    "start_time": "2024-09-23T14:19:21.553Z"
   },
   {
    "duration": 41,
    "start_time": "2024-09-23T14:19:21.604Z"
   },
   {
    "duration": 36,
    "start_time": "2024-09-23T14:19:21.646Z"
   },
   {
    "duration": 10,
    "start_time": "2024-09-23T14:19:21.684Z"
   },
   {
    "duration": 1242,
    "start_time": "2024-09-23T14:19:21.695Z"
   },
   {
    "duration": 43,
    "start_time": "2024-09-23T14:19:22.939Z"
   },
   {
    "duration": 47,
    "start_time": "2024-09-23T14:19:22.986Z"
   },
   {
    "duration": 45,
    "start_time": "2024-09-23T14:19:23.035Z"
   },
   {
    "duration": 43,
    "start_time": "2024-09-23T14:19:23.082Z"
   },
   {
    "duration": 6225,
    "start_time": "2024-09-23T14:19:23.127Z"
   },
   {
    "duration": 125,
    "start_time": "2024-09-23T14:19:29.354Z"
   },
   {
    "duration": 7,
    "start_time": "2024-09-23T14:19:29.481Z"
   },
   {
    "duration": 54,
    "start_time": "2024-09-23T14:19:29.490Z"
   },
   {
    "duration": 55,
    "start_time": "2024-09-23T14:19:29.546Z"
   },
   {
    "duration": 11812,
    "start_time": "2024-09-23T14:19:29.603Z"
   },
   {
    "duration": 102,
    "start_time": "2024-09-23T14:19:41.417Z"
   },
   {
    "duration": 94,
    "start_time": "2024-09-23T14:19:41.525Z"
   },
   {
    "duration": 25877,
    "start_time": "2024-09-23T14:19:41.621Z"
   },
   {
    "duration": 62,
    "start_time": "2024-09-23T14:20:07.499Z"
   },
   {
    "duration": 62,
    "start_time": "2024-09-23T14:20:07.563Z"
   },
   {
    "duration": 341844,
    "start_time": "2024-09-23T14:20:07.627Z"
   },
   {
    "duration": 1345,
    "start_time": "2024-09-23T14:25:49.473Z"
   },
   {
    "duration": 1101,
    "start_time": "2024-09-23T14:25:50.820Z"
   },
   {
    "duration": 47197,
    "start_time": "2024-09-23T14:25:51.923Z"
   },
   {
    "duration": 5408,
    "start_time": "2024-09-23T14:26:39.122Z"
   },
   {
    "duration": 4407,
    "start_time": "2024-09-23T14:26:44.532Z"
   },
   {
    "duration": 83,
    "start_time": "2024-09-23T14:26:48.940Z"
   },
   {
    "duration": 1304,
    "start_time": "2024-09-23T14:26:49.025Z"
   },
   {
    "duration": 59,
    "start_time": "2024-09-23T14:33:12.113Z"
   },
   {
    "duration": 168,
    "start_time": "2024-09-23T17:20:22.716Z"
   },
   {
    "duration": 10,
    "start_time": "2024-09-23T17:21:09.761Z"
   },
   {
    "duration": 15,
    "start_time": "2024-09-23T17:21:18.557Z"
   },
   {
    "duration": 281,
    "start_time": "2024-09-23T17:21:37.548Z"
   },
   {
    "duration": 2847,
    "start_time": "2024-09-23T17:22:00.447Z"
   },
   {
    "duration": 267,
    "start_time": "2024-09-23T17:22:12.755Z"
   },
   {
    "duration": 260,
    "start_time": "2024-09-23T17:24:07.802Z"
   },
   {
    "duration": 5323,
    "start_time": "2024-09-24T16:45:11.452Z"
   },
   {
    "duration": 1481,
    "start_time": "2024-09-24T16:45:16.777Z"
   },
   {
    "duration": 788,
    "start_time": "2024-09-24T16:45:18.259Z"
   },
   {
    "duration": 2,
    "start_time": "2024-09-24T16:45:19.049Z"
   },
   {
    "duration": 656,
    "start_time": "2024-09-24T16:45:19.053Z"
   },
   {
    "duration": 454,
    "start_time": "2024-09-24T16:45:19.710Z"
   },
   {
    "duration": 5,
    "start_time": "2024-09-24T16:45:20.165Z"
   },
   {
    "duration": 228,
    "start_time": "2024-09-24T16:45:20.171Z"
   },
   {
    "duration": 274,
    "start_time": "2024-09-24T16:45:20.400Z"
   },
   {
    "duration": 257,
    "start_time": "2024-09-24T16:45:20.676Z"
   },
   {
    "duration": 73,
    "start_time": "2024-09-24T16:45:20.934Z"
   },
   {
    "duration": 114,
    "start_time": "2024-09-24T16:45:21.009Z"
   },
   {
    "duration": 39,
    "start_time": "2024-09-24T16:45:21.125Z"
   },
   {
    "duration": 208,
    "start_time": "2024-09-24T16:45:21.166Z"
   },
   {
    "duration": 44,
    "start_time": "2024-09-24T16:45:21.376Z"
   },
   {
    "duration": 13,
    "start_time": "2024-09-24T16:45:21.422Z"
   },
   {
    "duration": 26,
    "start_time": "2024-09-24T16:45:21.436Z"
   },
   {
    "duration": 24,
    "start_time": "2024-09-24T16:45:21.463Z"
   },
   {
    "duration": 27,
    "start_time": "2024-09-24T16:45:21.488Z"
   },
   {
    "duration": 14,
    "start_time": "2024-09-24T16:45:21.516Z"
   },
   {
    "duration": 37,
    "start_time": "2024-09-24T16:45:21.531Z"
   },
   {
    "duration": 27,
    "start_time": "2024-09-24T16:45:21.569Z"
   },
   {
    "duration": 42,
    "start_time": "2024-09-24T16:45:21.597Z"
   },
   {
    "duration": 18,
    "start_time": "2024-09-24T16:45:21.641Z"
   },
   {
    "duration": 17,
    "start_time": "2024-09-24T16:45:21.660Z"
   },
   {
    "duration": 951,
    "start_time": "2024-09-24T16:45:21.679Z"
   },
   {
    "duration": 56,
    "start_time": "2024-09-24T16:45:22.632Z"
   },
   {
    "duration": 30,
    "start_time": "2024-09-24T16:45:22.707Z"
   },
   {
    "duration": 78,
    "start_time": "2024-09-24T16:45:22.739Z"
   },
   {
    "duration": 20,
    "start_time": "2024-09-24T16:45:22.819Z"
   },
   {
    "duration": 5444,
    "start_time": "2024-09-24T16:45:22.841Z"
   },
   {
    "duration": 138,
    "start_time": "2024-09-24T16:45:28.286Z"
   },
   {
    "duration": 8,
    "start_time": "2024-09-24T16:45:28.426Z"
   },
   {
    "duration": 37,
    "start_time": "2024-09-24T16:45:28.436Z"
   },
   {
    "duration": 3,
    "start_time": "2024-09-24T16:45:28.475Z"
   },
   {
    "duration": 11727,
    "start_time": "2024-09-24T16:45:28.480Z"
   },
   {
    "duration": 98,
    "start_time": "2024-09-24T16:45:40.209Z"
   },
   {
    "duration": 6,
    "start_time": "2024-09-24T16:45:40.309Z"
   },
   {
    "duration": 26359,
    "start_time": "2024-09-24T16:45:40.318Z"
   },
   {
    "duration": 3,
    "start_time": "2024-09-24T16:46:06.679Z"
   },
   {
    "duration": 84,
    "start_time": "2024-09-24T16:46:06.683Z"
   },
   {
    "duration": 46,
    "start_time": "2024-09-24T16:46:06.768Z"
   },
   {
    "duration": 24,
    "start_time": "2024-09-24T16:46:06.815Z"
   },
   {
    "duration": 400697,
    "start_time": "2024-09-24T16:46:06.841Z"
   },
   {
    "duration": 1268,
    "start_time": "2024-09-24T16:52:47.540Z"
   },
   {
    "duration": 1002,
    "start_time": "2024-09-24T16:52:48.810Z"
   },
   {
    "duration": 4,
    "start_time": "2024-09-24T16:52:49.815Z"
   },
   {
    "duration": 86787,
    "start_time": "2024-09-24T16:52:49.820Z"
   },
   {
    "duration": 4620,
    "start_time": "2024-09-24T16:54:16.609Z"
   },
   {
    "duration": 3782,
    "start_time": "2024-09-24T16:54:21.231Z"
   },
   {
    "duration": 9,
    "start_time": "2024-09-24T16:54:25.015Z"
   },
   {
    "duration": 1286,
    "start_time": "2024-09-24T16:54:25.025Z"
   },
   {
    "duration": 3487,
    "start_time": "2024-09-24T17:06:06.173Z"
   },
   {
    "duration": 1261,
    "start_time": "2024-09-24T17:06:39.189Z"
   },
   {
    "duration": 5242,
    "start_time": "2024-09-24T17:07:09.032Z"
   },
   {
    "duration": 7,
    "start_time": "2024-09-24T17:07:14.276Z"
   },
   {
    "duration": 746,
    "start_time": "2024-09-24T17:07:14.284Z"
   },
   {
    "duration": 3,
    "start_time": "2024-09-24T17:07:15.031Z"
   },
   {
    "duration": 675,
    "start_time": "2024-09-24T17:07:15.036Z"
   },
   {
    "duration": 382,
    "start_time": "2024-09-24T17:07:15.713Z"
   },
   {
    "duration": 5,
    "start_time": "2024-09-24T17:07:16.096Z"
   },
   {
    "duration": 317,
    "start_time": "2024-09-24T17:07:16.107Z"
   },
   {
    "duration": 269,
    "start_time": "2024-09-24T17:07:16.426Z"
   },
   {
    "duration": 194,
    "start_time": "2024-09-24T17:07:16.697Z"
   },
   {
    "duration": 47,
    "start_time": "2024-09-24T17:07:16.892Z"
   },
   {
    "duration": 164,
    "start_time": "2024-09-24T17:08:22.601Z"
   },
   {
    "duration": 163,
    "start_time": "2024-09-24T17:08:36.322Z"
   },
   {
    "duration": 19,
    "start_time": "2024-09-24T17:09:47.631Z"
   },
   {
    "duration": 448,
    "start_time": "2024-09-24T17:10:14.831Z"
   },
   {
    "duration": 87651,
    "start_time": "2024-09-24T17:12:21.733Z"
   },
   {
    "duration": 5189,
    "start_time": "2024-09-24T17:13:55.962Z"
   },
   {
    "duration": 5,
    "start_time": "2024-09-24T17:14:01.153Z"
   },
   {
    "duration": 855,
    "start_time": "2024-09-24T17:14:01.159Z"
   },
   {
    "duration": 4,
    "start_time": "2024-09-24T17:14:02.016Z"
   },
   {
    "duration": 715,
    "start_time": "2024-09-24T17:14:02.022Z"
   },
   {
    "duration": 403,
    "start_time": "2024-09-24T17:14:02.739Z"
   },
   {
    "duration": 5,
    "start_time": "2024-09-24T17:14:03.144Z"
   },
   {
    "duration": 296,
    "start_time": "2024-09-24T17:14:03.150Z"
   },
   {
    "duration": 269,
    "start_time": "2024-09-24T17:14:03.447Z"
   },
   {
    "duration": 200,
    "start_time": "2024-09-24T17:14:03.717Z"
   },
   {
    "duration": 51,
    "start_time": "2024-09-24T17:14:03.919Z"
   },
   {
    "duration": 96,
    "start_time": "2024-09-24T17:14:03.972Z"
   },
   {
    "duration": 70,
    "start_time": "2024-09-24T17:14:04.070Z"
   },
   {
    "duration": 182,
    "start_time": "2024-09-24T17:14:04.142Z"
   },
   {
    "duration": 446,
    "start_time": "2024-09-24T17:14:04.326Z"
   },
   {
    "duration": 39,
    "start_time": "2024-09-24T17:14:04.773Z"
   },
   {
    "duration": 13,
    "start_time": "2024-09-24T17:14:04.813Z"
   },
   {
    "duration": 97,
    "start_time": "2024-09-24T17:14:04.827Z"
   },
   {
    "duration": 68,
    "start_time": "2024-09-24T17:14:04.926Z"
   },
   {
    "duration": 27,
    "start_time": "2024-09-24T17:14:04.995Z"
   },
   {
    "duration": 124,
    "start_time": "2024-09-24T17:14:05.023Z"
   },
   {
    "duration": 90,
    "start_time": "2024-09-24T17:14:05.148Z"
   },
   {
    "duration": 43,
    "start_time": "2024-09-24T17:14:05.240Z"
   },
   {
    "duration": 47,
    "start_time": "2024-09-24T17:14:05.284Z"
   },
   {
    "duration": 58,
    "start_time": "2024-09-24T17:14:05.332Z"
   },
   {
    "duration": 18,
    "start_time": "2024-09-24T17:14:05.391Z"
   },
   {
    "duration": 922,
    "start_time": "2024-09-24T17:14:05.411Z"
   },
   {
    "duration": 36,
    "start_time": "2024-09-24T17:14:06.335Z"
   },
   {
    "duration": 38,
    "start_time": "2024-09-24T17:14:06.372Z"
   },
   {
    "duration": 85,
    "start_time": "2024-09-24T17:14:06.412Z"
   },
   {
    "duration": 20,
    "start_time": "2024-09-24T17:14:06.499Z"
   },
   {
    "duration": 5082,
    "start_time": "2024-09-24T17:14:06.521Z"
   },
   {
    "duration": 61,
    "start_time": "2024-09-24T17:17:46.160Z"
   },
   {
    "duration": 7,
    "start_time": "2024-09-24T17:18:48.801Z"
   },
   {
    "duration": 64,
    "start_time": "2024-09-24T17:19:25.331Z"
   },
   {
    "duration": 13,
    "start_time": "2024-09-24T17:20:38.533Z"
   },
   {
    "duration": 127081,
    "start_time": "2024-09-24T18:09:11.266Z"
   },
   {
    "duration": 31220,
    "start_time": "2024-09-24T18:12:06.943Z"
   },
   {
    "duration": 244159,
    "start_time": "2024-09-24T18:12:38.165Z"
   },
   {
    "duration": 11790,
    "start_time": "2024-09-24T18:16:42.326Z"
   },
   {
    "duration": 29171,
    "start_time": "2024-09-24T18:16:54.208Z"
   },
   {
    "duration": 7,
    "start_time": "2024-09-24T18:17:47.864Z"
   },
   {
    "duration": 52,
    "start_time": "2024-09-24T18:21:56.095Z"
   },
   {
    "duration": 54,
    "start_time": "2024-09-24T18:23:32.400Z"
   },
   {
    "duration": 5309,
    "start_time": "2024-09-24T18:24:42.904Z"
   },
   {
    "duration": 1447,
    "start_time": "2024-09-24T18:24:48.216Z"
   },
   {
    "duration": 830,
    "start_time": "2024-09-24T18:24:49.665Z"
   },
   {
    "duration": 4,
    "start_time": "2024-09-24T18:24:50.497Z"
   },
   {
    "duration": 724,
    "start_time": "2024-09-24T18:24:50.502Z"
   },
   {
    "duration": 479,
    "start_time": "2024-09-24T18:24:51.233Z"
   },
   {
    "duration": 5,
    "start_time": "2024-09-24T18:24:51.714Z"
   },
   {
    "duration": 248,
    "start_time": "2024-09-24T18:24:51.721Z"
   },
   {
    "duration": 276,
    "start_time": "2024-09-24T18:24:51.971Z"
   },
   {
    "duration": 265,
    "start_time": "2024-09-24T18:24:52.249Z"
   },
   {
    "duration": 58,
    "start_time": "2024-09-24T18:24:52.516Z"
   },
   {
    "duration": 187,
    "start_time": "2024-09-24T18:24:52.575Z"
   },
   {
    "duration": 44,
    "start_time": "2024-09-24T18:24:52.764Z"
   },
   {
    "duration": 190,
    "start_time": "2024-09-24T18:24:52.810Z"
   },
   {
    "duration": 446,
    "start_time": "2024-09-24T18:24:53.002Z"
   },
   {
    "duration": 39,
    "start_time": "2024-09-24T18:24:53.449Z"
   },
   {
    "duration": 21,
    "start_time": "2024-09-24T18:24:53.489Z"
   },
   {
    "duration": 37,
    "start_time": "2024-09-24T18:24:53.511Z"
   },
   {
    "duration": 17,
    "start_time": "2024-09-24T18:24:53.549Z"
   },
   {
    "duration": 25,
    "start_time": "2024-09-24T18:24:53.567Z"
   },
   {
    "duration": 20,
    "start_time": "2024-09-24T18:24:53.593Z"
   },
   {
    "duration": 22,
    "start_time": "2024-09-24T18:24:53.614Z"
   },
   {
    "duration": 31,
    "start_time": "2024-09-24T18:24:53.637Z"
   },
   {
    "duration": 16,
    "start_time": "2024-09-24T18:24:53.670Z"
   },
   {
    "duration": 23,
    "start_time": "2024-09-24T18:24:53.687Z"
   },
   {
    "duration": 3,
    "start_time": "2024-09-24T18:24:53.711Z"
   },
   {
    "duration": 954,
    "start_time": "2024-09-24T18:24:53.715Z"
   },
   {
    "duration": 66,
    "start_time": "2024-09-24T18:24:54.673Z"
   },
   {
    "duration": 25,
    "start_time": "2024-09-24T18:24:54.740Z"
   },
   {
    "duration": 54,
    "start_time": "2024-09-24T18:24:54.767Z"
   },
   {
    "duration": 19,
    "start_time": "2024-09-24T18:24:54.823Z"
   },
   {
    "duration": 5076,
    "start_time": "2024-09-24T18:24:54.843Z"
   },
   {
    "duration": 52,
    "start_time": "2024-09-24T18:24:59.921Z"
   },
   {
    "duration": 124,
    "start_time": "2024-09-24T18:24:59.975Z"
   },
   {
    "duration": 0,
    "start_time": "2024-09-24T18:25:00.106Z"
   },
   {
    "duration": 0,
    "start_time": "2024-09-24T18:25:00.107Z"
   },
   {
    "duration": 0,
    "start_time": "2024-09-24T18:25:00.108Z"
   },
   {
    "duration": 0,
    "start_time": "2024-09-24T18:25:00.109Z"
   },
   {
    "duration": 0,
    "start_time": "2024-09-24T18:25:00.110Z"
   },
   {
    "duration": 0,
    "start_time": "2024-09-24T18:25:00.111Z"
   },
   {
    "duration": 0,
    "start_time": "2024-09-24T18:25:00.112Z"
   },
   {
    "duration": 0,
    "start_time": "2024-09-24T18:25:00.113Z"
   },
   {
    "duration": 0,
    "start_time": "2024-09-24T18:25:00.114Z"
   },
   {
    "duration": 0,
    "start_time": "2024-09-24T18:25:00.115Z"
   },
   {
    "duration": 0,
    "start_time": "2024-09-24T18:25:00.116Z"
   },
   {
    "duration": 0,
    "start_time": "2024-09-24T18:25:00.117Z"
   },
   {
    "duration": 0,
    "start_time": "2024-09-24T18:25:00.119Z"
   },
   {
    "duration": 0,
    "start_time": "2024-09-24T18:25:00.120Z"
   },
   {
    "duration": 0,
    "start_time": "2024-09-24T18:25:00.218Z"
   },
   {
    "duration": 0,
    "start_time": "2024-09-24T18:25:00.219Z"
   },
   {
    "duration": 0,
    "start_time": "2024-09-24T18:25:00.220Z"
   },
   {
    "duration": 4,
    "start_time": "2024-09-24T18:26:51.950Z"
   },
   {
    "duration": 126353,
    "start_time": "2024-09-24T18:27:01.909Z"
   },
   {
    "duration": 2,
    "start_time": "2024-09-24T18:29:08.264Z"
   },
   {
    "duration": 30,
    "start_time": "2024-09-24T18:29:08.268Z"
   },
   {
    "duration": 31291,
    "start_time": "2024-09-24T18:29:08.299Z"
   },
   {
    "duration": 2,
    "start_time": "2024-09-24T18:29:39.591Z"
   },
   {
    "duration": 4,
    "start_time": "2024-09-24T18:29:39.595Z"
   },
   {
    "duration": 5,
    "start_time": "2024-09-24T18:29:39.600Z"
   },
   {
    "duration": 231926,
    "start_time": "2024-09-24T18:29:39.606Z"
   },
   {
    "duration": 3,
    "start_time": "2024-09-24T18:33:31.533Z"
   },
   {
    "duration": 31,
    "start_time": "2024-09-24T18:33:31.538Z"
   },
   {
    "duration": 29,
    "start_time": "2024-09-24T18:33:31.571Z"
   },
   {
    "duration": 12711,
    "start_time": "2024-09-24T18:33:31.601Z"
   },
   {
    "duration": 3,
    "start_time": "2024-09-24T18:33:44.315Z"
   },
   {
    "duration": 3,
    "start_time": "2024-09-24T18:33:44.407Z"
   },
   {
    "duration": 16,
    "start_time": "2024-09-24T18:33:44.412Z"
   },
   {
    "duration": 5,
    "start_time": "2024-09-24T18:33:44.429Z"
   },
   {
    "duration": 29445,
    "start_time": "2024-09-24T18:33:44.436Z"
   },
   {
    "duration": 2,
    "start_time": "2024-09-24T18:34:13.882Z"
   },
   {
    "duration": 110750,
    "start_time": "2024-09-24T18:35:59.689Z"
   },
   {
    "duration": 28862,
    "start_time": "2024-09-24T18:38:35.028Z"
   },
   {
    "duration": 10512,
    "start_time": "2024-09-25T14:35:25.705Z"
   },
   {
    "duration": 1762,
    "start_time": "2024-09-25T14:35:36.220Z"
   },
   {
    "duration": 1245,
    "start_time": "2024-09-25T14:35:37.984Z"
   },
   {
    "duration": 4,
    "start_time": "2024-09-25T14:35:39.230Z"
   },
   {
    "duration": 830,
    "start_time": "2024-09-25T14:35:39.236Z"
   },
   {
    "duration": 560,
    "start_time": "2024-09-25T14:35:40.068Z"
   },
   {
    "duration": 7,
    "start_time": "2024-09-25T14:35:40.630Z"
   },
   {
    "duration": 291,
    "start_time": "2024-09-25T14:35:40.638Z"
   },
   {
    "duration": 315,
    "start_time": "2024-09-25T14:35:40.931Z"
   },
   {
    "duration": 287,
    "start_time": "2024-09-25T14:35:41.248Z"
   },
   {
    "duration": 54,
    "start_time": "2024-09-25T14:35:41.537Z"
   },
   {
    "duration": 125,
    "start_time": "2024-09-25T14:35:41.593Z"
   },
   {
    "duration": 52,
    "start_time": "2024-09-25T14:35:41.719Z"
   },
   {
    "duration": 226,
    "start_time": "2024-09-25T14:35:41.775Z"
   },
   {
    "duration": 498,
    "start_time": "2024-09-25T14:35:42.003Z"
   },
   {
    "duration": 45,
    "start_time": "2024-09-25T14:35:42.502Z"
   },
   {
    "duration": 29,
    "start_time": "2024-09-25T14:35:42.549Z"
   },
   {
    "duration": 20,
    "start_time": "2024-09-25T14:35:42.580Z"
   },
   {
    "duration": 23,
    "start_time": "2024-09-25T14:35:42.601Z"
   },
   {
    "duration": 29,
    "start_time": "2024-09-25T14:35:42.626Z"
   },
   {
    "duration": 19,
    "start_time": "2024-09-25T14:35:42.658Z"
   },
   {
    "duration": 46,
    "start_time": "2024-09-25T14:35:42.679Z"
   },
   {
    "duration": 46,
    "start_time": "2024-09-25T14:35:42.726Z"
   },
   {
    "duration": 84,
    "start_time": "2024-09-25T14:35:42.774Z"
   },
   {
    "duration": 20,
    "start_time": "2024-09-25T14:35:42.860Z"
   },
   {
    "duration": 10,
    "start_time": "2024-09-25T14:35:42.883Z"
   },
   {
    "duration": 1120,
    "start_time": "2024-09-25T14:35:42.895Z"
   },
   {
    "duration": 37,
    "start_time": "2024-09-25T14:35:44.016Z"
   },
   {
    "duration": 24,
    "start_time": "2024-09-25T14:35:44.055Z"
   },
   {
    "duration": 58,
    "start_time": "2024-09-25T14:35:44.081Z"
   },
   {
    "duration": 20,
    "start_time": "2024-09-25T14:35:44.140Z"
   },
   {
    "duration": 5914,
    "start_time": "2024-09-25T14:35:44.162Z"
   },
   {
    "duration": 60,
    "start_time": "2024-09-25T14:35:50.077Z"
   },
   {
    "duration": 3,
    "start_time": "2024-09-25T14:35:50.139Z"
   },
   {
    "duration": 221891,
    "start_time": "2024-09-25T14:35:50.143Z"
   },
   {
    "duration": 2,
    "start_time": "2024-09-25T14:39:32.036Z"
   },
   {
    "duration": 18,
    "start_time": "2024-09-25T14:39:32.039Z"
   },
   {
    "duration": 158414,
    "start_time": "2024-09-25T14:39:32.059Z"
   },
   {
    "duration": 3,
    "start_time": "2024-09-25T14:42:10.475Z"
   },
   {
    "duration": 5,
    "start_time": "2024-09-25T14:42:10.481Z"
   },
   {
    "duration": 2,
    "start_time": "2024-09-25T14:42:10.491Z"
   },
   {
    "duration": 453924,
    "start_time": "2024-09-25T14:42:10.495Z"
   },
   {
    "duration": 1,
    "start_time": "2024-09-25T14:49:44.421Z"
   },
   {
    "duration": 0,
    "start_time": "2024-09-25T14:49:44.423Z"
   },
   {
    "duration": 0,
    "start_time": "2024-09-25T14:49:44.424Z"
   },
   {
    "duration": 0,
    "start_time": "2024-09-25T14:49:44.425Z"
   },
   {
    "duration": 0,
    "start_time": "2024-09-25T14:49:44.426Z"
   },
   {
    "duration": 0,
    "start_time": "2024-09-25T14:49:44.427Z"
   },
   {
    "duration": 0,
    "start_time": "2024-09-25T14:49:44.429Z"
   },
   {
    "duration": 0,
    "start_time": "2024-09-25T14:49:44.430Z"
   },
   {
    "duration": 0,
    "start_time": "2024-09-25T14:49:44.431Z"
   },
   {
    "duration": 0,
    "start_time": "2024-09-25T14:49:44.432Z"
   },
   {
    "duration": 36527,
    "start_time": "2024-09-25T14:50:04.204Z"
   },
   {
    "duration": 12,
    "start_time": "2024-09-25T14:51:43.653Z"
   },
   {
    "duration": 255019,
    "start_time": "2024-09-25T14:52:21.402Z"
   },
   {
    "duration": 3,
    "start_time": "2024-09-25T15:09:49.131Z"
   },
   {
    "duration": 16,
    "start_time": "2024-09-25T15:09:49.135Z"
   },
   {
    "duration": 11,
    "start_time": "2024-09-25T15:09:49.153Z"
   },
   {
    "duration": 8,
    "start_time": "2024-09-25T15:09:49.166Z"
   },
   {
    "duration": 46859,
    "start_time": "2024-09-25T15:09:49.176Z"
   },
   {
    "duration": 3,
    "start_time": "2024-09-25T15:10:36.116Z"
   },
   {
    "duration": 43,
    "start_time": "2024-09-25T15:10:36.121Z"
   },
   {
    "duration": 47,
    "start_time": "2024-09-25T15:10:36.165Z"
   },
   {
    "duration": 26,
    "start_time": "2024-09-25T15:10:36.214Z"
   },
   {
    "duration": 25,
    "start_time": "2024-09-25T15:10:36.242Z"
   },
   {
    "duration": 42176,
    "start_time": "2024-09-25T15:10:36.268Z"
   },
   {
    "duration": 3,
    "start_time": "2024-09-25T15:11:18.446Z"
   },
   {
    "duration": 5,
    "start_time": "2024-09-25T15:13:17.704Z"
   },
   {
    "duration": 10,
    "start_time": "2024-09-25T15:13:29.674Z"
   },
   {
    "duration": 10,
    "start_time": "2024-09-25T15:13:57.610Z"
   },
   {
    "duration": 10,
    "start_time": "2024-09-25T15:14:13.707Z"
   },
   {
    "duration": 271,
    "start_time": "2024-09-25T15:15:19.948Z"
   },
   {
    "duration": 276,
    "start_time": "2024-09-25T15:16:14.466Z"
   },
   {
    "duration": 213,
    "start_time": "2024-09-25T15:18:30.611Z"
   },
   {
    "duration": 501,
    "start_time": "2024-09-25T15:19:00.227Z"
   },
   {
    "duration": 124,
    "start_time": "2024-09-25T15:19:39.525Z"
   },
   {
    "duration": 277247,
    "start_time": "2024-09-25T15:26:54.595Z"
   },
   {
    "duration": 0,
    "start_time": "2024-09-25T15:31:31.844Z"
   },
   {
    "duration": 4911,
    "start_time": "2024-09-25T15:31:43.188Z"
   },
   {
    "duration": 1568,
    "start_time": "2024-09-25T15:31:48.101Z"
   },
   {
    "duration": 917,
    "start_time": "2024-09-25T15:31:49.670Z"
   },
   {
    "duration": 3,
    "start_time": "2024-09-25T15:31:50.588Z"
   },
   {
    "duration": 820,
    "start_time": "2024-09-25T15:31:50.593Z"
   },
   {
    "duration": 557,
    "start_time": "2024-09-25T15:31:51.415Z"
   },
   {
    "duration": 6,
    "start_time": "2024-09-25T15:31:51.974Z"
   },
   {
    "duration": 281,
    "start_time": "2024-09-25T15:31:51.981Z"
   },
   {
    "duration": 325,
    "start_time": "2024-09-25T15:31:52.264Z"
   },
   {
    "duration": 305,
    "start_time": "2024-09-25T15:31:52.591Z"
   },
   {
    "duration": 70,
    "start_time": "2024-09-25T15:31:52.898Z"
   },
   {
    "duration": 116,
    "start_time": "2024-09-25T15:31:52.970Z"
   },
   {
    "duration": 59,
    "start_time": "2024-09-25T15:31:53.088Z"
   },
   {
    "duration": 229,
    "start_time": "2024-09-25T15:31:53.151Z"
   },
   {
    "duration": 517,
    "start_time": "2024-09-25T15:31:53.382Z"
   },
   {
    "duration": 41,
    "start_time": "2024-09-25T15:31:53.900Z"
   },
   {
    "duration": 17,
    "start_time": "2024-09-25T15:31:53.943Z"
   },
   {
    "duration": 26,
    "start_time": "2024-09-25T15:31:53.962Z"
   },
   {
    "duration": 30,
    "start_time": "2024-09-25T15:31:53.989Z"
   },
   {
    "duration": 18,
    "start_time": "2024-09-25T15:31:54.021Z"
   },
   {
    "duration": 17,
    "start_time": "2024-09-25T15:31:54.041Z"
   },
   {
    "duration": 21,
    "start_time": "2024-09-25T15:31:54.059Z"
   },
   {
    "duration": 58,
    "start_time": "2024-09-25T15:31:54.082Z"
   },
   {
    "duration": 17,
    "start_time": "2024-09-25T15:31:54.142Z"
   },
   {
    "duration": 26,
    "start_time": "2024-09-25T15:31:54.161Z"
   },
   {
    "duration": 2,
    "start_time": "2024-09-25T15:31:54.189Z"
   },
   {
    "duration": 1099,
    "start_time": "2024-09-25T15:31:54.193Z"
   },
   {
    "duration": 51,
    "start_time": "2024-09-25T15:31:55.294Z"
   },
   {
    "duration": 26,
    "start_time": "2024-09-25T15:31:55.346Z"
   },
   {
    "duration": 59,
    "start_time": "2024-09-25T15:31:55.374Z"
   },
   {
    "duration": 20,
    "start_time": "2024-09-25T15:31:55.435Z"
   },
   {
    "duration": 5875,
    "start_time": "2024-09-25T15:31:55.457Z"
   },
   {
    "duration": 62,
    "start_time": "2024-09-25T15:32:01.334Z"
   },
   {
    "duration": 3,
    "start_time": "2024-09-25T15:32:01.398Z"
   },
   {
    "duration": 239730,
    "start_time": "2024-09-25T15:32:01.402Z"
   },
   {
    "duration": 2,
    "start_time": "2024-09-25T15:36:01.134Z"
   },
   {
    "duration": 47,
    "start_time": "2024-09-25T15:36:01.138Z"
   },
   {
    "duration": 159493,
    "start_time": "2024-09-25T15:36:01.186Z"
   },
   {
    "duration": 2,
    "start_time": "2024-09-25T15:38:40.681Z"
   },
   {
    "duration": 19,
    "start_time": "2024-09-25T15:38:40.685Z"
   },
   {
    "duration": 11,
    "start_time": "2024-09-25T15:38:40.708Z"
   },
   {
    "duration": 189998,
    "start_time": "2024-09-25T15:38:40.721Z"
   },
   {
    "duration": 2,
    "start_time": "2024-09-25T15:41:50.721Z"
   },
   {
    "duration": 7,
    "start_time": "2024-09-25T15:41:50.725Z"
   },
   {
    "duration": 3,
    "start_time": "2024-09-25T15:41:50.734Z"
   },
   {
    "duration": 10,
    "start_time": "2024-09-25T15:41:50.738Z"
   },
   {
    "duration": 45172,
    "start_time": "2024-09-25T15:41:50.749Z"
   },
   {
    "duration": 3,
    "start_time": "2024-09-25T15:42:35.923Z"
   },
   {
    "duration": 28,
    "start_time": "2024-09-25T15:42:35.927Z"
   },
   {
    "duration": 8,
    "start_time": "2024-09-25T15:42:35.957Z"
   },
   {
    "duration": 6,
    "start_time": "2024-09-25T15:42:35.967Z"
   },
   {
    "duration": 130,
    "start_time": "2024-09-25T15:42:35.975Z"
   },
   {
    "duration": 0,
    "start_time": "2024-09-25T15:42:36.106Z"
   },
   {
    "duration": 1,
    "start_time": "2024-09-25T15:42:36.107Z"
   },
   {
    "duration": 0,
    "start_time": "2024-09-25T15:42:36.115Z"
   },
   {
    "duration": 0,
    "start_time": "2024-09-25T15:42:36.116Z"
   },
   {
    "duration": 11,
    "start_time": "2024-09-25T15:43:54.932Z"
   },
   {
    "duration": 281,
    "start_time": "2024-09-25T15:43:59.777Z"
   },
   {
    "duration": 133,
    "start_time": "2024-09-25T15:44:00.121Z"
   },
   {
    "duration": 55,
    "start_time": "2024-09-25T15:46:14.017Z"
   },
   {
    "duration": 9968,
    "start_time": "2024-09-26T10:43:52.315Z"
   },
   {
    "duration": 1806,
    "start_time": "2024-09-26T10:44:02.285Z"
   },
   {
    "duration": 1170,
    "start_time": "2024-09-26T10:44:04.092Z"
   },
   {
    "duration": 3,
    "start_time": "2024-09-26T10:44:05.264Z"
   },
   {
    "duration": 753,
    "start_time": "2024-09-26T10:44:05.268Z"
   },
   {
    "duration": 509,
    "start_time": "2024-09-26T10:44:06.022Z"
   },
   {
    "duration": 6,
    "start_time": "2024-09-26T10:44:06.533Z"
   },
   {
    "duration": 260,
    "start_time": "2024-09-26T10:44:06.540Z"
   },
   {
    "duration": 285,
    "start_time": "2024-09-26T10:44:06.808Z"
   },
   {
    "duration": 276,
    "start_time": "2024-09-26T10:44:07.096Z"
   },
   {
    "duration": 58,
    "start_time": "2024-09-26T10:44:07.373Z"
   },
   {
    "duration": 108,
    "start_time": "2024-09-26T10:44:07.432Z"
   },
   {
    "duration": 47,
    "start_time": "2024-09-26T10:44:07.542Z"
   },
   {
    "duration": 210,
    "start_time": "2024-09-26T10:44:07.591Z"
   },
   {
    "duration": 478,
    "start_time": "2024-09-26T10:44:07.808Z"
   },
   {
    "duration": 41,
    "start_time": "2024-09-26T10:44:08.287Z"
   },
   {
    "duration": 16,
    "start_time": "2024-09-26T10:44:08.329Z"
   },
   {
    "duration": 34,
    "start_time": "2024-09-26T10:44:08.347Z"
   },
   {
    "duration": 27,
    "start_time": "2024-09-26T10:44:08.383Z"
   },
   {
    "duration": 28,
    "start_time": "2024-09-26T10:44:08.411Z"
   },
   {
    "duration": 26,
    "start_time": "2024-09-26T10:44:08.441Z"
   },
   {
    "duration": 37,
    "start_time": "2024-09-26T10:44:08.469Z"
   },
   {
    "duration": 36,
    "start_time": "2024-09-26T10:44:08.507Z"
   },
   {
    "duration": 21,
    "start_time": "2024-09-26T10:44:08.545Z"
   },
   {
    "duration": 36,
    "start_time": "2024-09-26T10:44:08.568Z"
   },
   {
    "duration": 3,
    "start_time": "2024-09-26T10:44:08.605Z"
   },
   {
    "duration": 1010,
    "start_time": "2024-09-26T10:44:08.609Z"
   },
   {
    "duration": 46,
    "start_time": "2024-09-26T10:44:09.623Z"
   },
   {
    "duration": 30,
    "start_time": "2024-09-26T10:44:09.670Z"
   },
   {
    "duration": 42,
    "start_time": "2024-09-26T10:44:09.709Z"
   },
   {
    "duration": 18,
    "start_time": "2024-09-26T10:44:09.753Z"
   },
   {
    "duration": 5445,
    "start_time": "2024-09-26T10:44:09.773Z"
   },
   {
    "duration": 58,
    "start_time": "2024-09-26T10:44:15.219Z"
   },
   {
    "duration": 66,
    "start_time": "2024-09-26T10:44:15.278Z"
   },
   {
    "duration": 232555,
    "start_time": "2024-09-26T10:44:15.345Z"
   },
   {
    "duration": 151056,
    "start_time": "2024-09-26T10:48:07.902Z"
   },
   {
    "duration": 401932,
    "start_time": "2024-09-26T10:50:38.960Z"
   },
   {
    "duration": 0,
    "start_time": "2024-09-26T10:57:20.894Z"
   },
   {
    "duration": 0,
    "start_time": "2024-09-26T10:57:20.895Z"
   },
   {
    "duration": 0,
    "start_time": "2024-09-26T10:57:20.895Z"
   },
   {
    "duration": 0,
    "start_time": "2024-09-26T10:57:20.896Z"
   },
   {
    "duration": 0,
    "start_time": "2024-09-26T10:57:20.898Z"
   },
   {
    "duration": 4511,
    "start_time": "2024-09-26T10:57:53.362Z"
   },
   {
    "duration": 5,
    "start_time": "2024-09-26T10:57:57.876Z"
   },
   {
    "duration": 870,
    "start_time": "2024-09-26T10:57:57.882Z"
   },
   {
    "duration": 3,
    "start_time": "2024-09-26T10:57:58.754Z"
   },
   {
    "duration": 679,
    "start_time": "2024-09-26T10:57:58.759Z"
   },
   {
    "duration": 427,
    "start_time": "2024-09-26T10:57:59.439Z"
   },
   {
    "duration": 6,
    "start_time": "2024-09-26T10:57:59.868Z"
   },
   {
    "duration": 250,
    "start_time": "2024-09-26T10:57:59.875Z"
   },
   {
    "duration": 288,
    "start_time": "2024-09-26T10:58:00.126Z"
   },
   {
    "duration": 214,
    "start_time": "2024-09-26T10:58:00.416Z"
   },
   {
    "duration": 43,
    "start_time": "2024-09-26T10:58:00.632Z"
   },
   {
    "duration": 118,
    "start_time": "2024-09-26T10:58:00.677Z"
   },
   {
    "duration": 53,
    "start_time": "2024-09-26T10:58:00.797Z"
   },
   {
    "duration": 203,
    "start_time": "2024-09-26T10:58:00.853Z"
   },
   {
    "duration": 501,
    "start_time": "2024-09-26T10:58:01.057Z"
   },
   {
    "duration": 37,
    "start_time": "2024-09-26T10:58:01.559Z"
   },
   {
    "duration": 25,
    "start_time": "2024-09-26T10:58:01.597Z"
   },
   {
    "duration": 22,
    "start_time": "2024-09-26T10:58:01.623Z"
   },
   {
    "duration": 17,
    "start_time": "2024-09-26T10:58:01.647Z"
   },
   {
    "duration": 77,
    "start_time": "2024-09-26T10:58:01.665Z"
   },
   {
    "duration": 20,
    "start_time": "2024-09-26T10:58:01.744Z"
   },
   {
    "duration": 40,
    "start_time": "2024-09-26T10:58:01.765Z"
   },
   {
    "duration": 46,
    "start_time": "2024-09-26T10:58:01.807Z"
   },
   {
    "duration": 47,
    "start_time": "2024-09-26T10:58:01.854Z"
   },
   {
    "duration": 40,
    "start_time": "2024-09-26T10:58:01.902Z"
   },
   {
    "duration": 2,
    "start_time": "2024-09-26T10:58:01.944Z"
   },
   {
    "duration": 1287,
    "start_time": "2024-09-26T10:58:01.948Z"
   },
   {
    "duration": 79,
    "start_time": "2024-09-26T10:58:03.237Z"
   },
   {
    "duration": 79,
    "start_time": "2024-09-26T10:58:03.317Z"
   },
   {
    "duration": 72,
    "start_time": "2024-09-26T10:58:03.398Z"
   },
   {
    "duration": 26,
    "start_time": "2024-09-26T10:58:03.472Z"
   },
   {
    "duration": 5279,
    "start_time": "2024-09-26T10:58:03.500Z"
   },
   {
    "duration": 76,
    "start_time": "2024-09-26T10:58:08.781Z"
   },
   {
    "duration": 3,
    "start_time": "2024-09-26T10:58:08.858Z"
   },
   {
    "duration": 4536,
    "start_time": "2024-09-26T10:58:12.883Z"
   },
   {
    "duration": 1411,
    "start_time": "2024-09-26T10:58:17.421Z"
   },
   {
    "duration": 850,
    "start_time": "2024-09-26T10:58:18.834Z"
   },
   {
    "duration": 4,
    "start_time": "2024-09-26T10:58:19.686Z"
   },
   {
    "duration": 779,
    "start_time": "2024-09-26T10:58:19.692Z"
   },
   {
    "duration": 504,
    "start_time": "2024-09-26T10:58:20.472Z"
   },
   {
    "duration": 6,
    "start_time": "2024-09-26T10:58:20.977Z"
   },
   {
    "duration": 249,
    "start_time": "2024-09-26T10:58:20.984Z"
   },
   {
    "duration": 284,
    "start_time": "2024-09-26T10:58:21.235Z"
   },
   {
    "duration": 273,
    "start_time": "2024-09-26T10:58:21.520Z"
   },
   {
    "duration": 60,
    "start_time": "2024-09-26T10:58:21.794Z"
   },
   {
    "duration": 119,
    "start_time": "2024-09-26T10:58:21.855Z"
   },
   {
    "duration": 63,
    "start_time": "2024-09-26T10:58:21.975Z"
   },
   {
    "duration": 208,
    "start_time": "2024-09-26T10:58:22.041Z"
   },
   {
    "duration": 473,
    "start_time": "2024-09-26T10:58:22.250Z"
   },
   {
    "duration": 38,
    "start_time": "2024-09-26T10:58:22.724Z"
   },
   {
    "duration": 16,
    "start_time": "2024-09-26T10:58:22.764Z"
   },
   {
    "duration": 38,
    "start_time": "2024-09-26T10:58:22.782Z"
   },
   {
    "duration": 16,
    "start_time": "2024-09-26T10:58:22.821Z"
   },
   {
    "duration": 26,
    "start_time": "2024-09-26T10:58:22.838Z"
   },
   {
    "duration": 30,
    "start_time": "2024-09-26T10:58:22.865Z"
   },
   {
    "duration": 23,
    "start_time": "2024-09-26T10:58:22.897Z"
   },
   {
    "duration": 44,
    "start_time": "2024-09-26T10:58:22.921Z"
   },
   {
    "duration": 19,
    "start_time": "2024-09-26T10:58:22.966Z"
   },
   {
    "duration": 19,
    "start_time": "2024-09-26T10:58:22.987Z"
   },
   {
    "duration": 3,
    "start_time": "2024-09-26T10:58:23.009Z"
   },
   {
    "duration": 1006,
    "start_time": "2024-09-26T10:58:23.013Z"
   },
   {
    "duration": 47,
    "start_time": "2024-09-26T10:58:24.020Z"
   },
   {
    "duration": 24,
    "start_time": "2024-09-26T10:58:24.069Z"
   },
   {
    "duration": 61,
    "start_time": "2024-09-26T10:58:24.108Z"
   },
   {
    "duration": 18,
    "start_time": "2024-09-26T10:58:24.170Z"
   },
   {
    "duration": 5276,
    "start_time": "2024-09-26T10:58:24.189Z"
   },
   {
    "duration": 56,
    "start_time": "2024-09-26T10:58:29.467Z"
   },
   {
    "duration": 2,
    "start_time": "2024-09-26T10:58:29.525Z"
   },
   {
    "duration": 232980,
    "start_time": "2024-09-26T10:58:29.529Z"
   },
   {
    "duration": 148422,
    "start_time": "2024-09-26T11:02:22.511Z"
   },
   {
    "duration": 3,
    "start_time": "2024-09-26T11:04:50.935Z"
   },
   {
    "duration": 203387,
    "start_time": "2024-09-26T11:04:50.940Z"
   },
   {
    "duration": 81,
    "start_time": "2024-09-26T11:08:14.328Z"
   },
   {
    "duration": 46609,
    "start_time": "2024-09-26T11:08:14.411Z"
   },
   {
    "duration": 10,
    "start_time": "2024-09-26T11:09:01.024Z"
   },
   {
    "duration": 336,
    "start_time": "2024-09-26T11:09:01.036Z"
   },
   {
    "duration": 353899,
    "start_time": "2024-09-26T11:12:48.120Z"
   },
   {
    "duration": 10,
    "start_time": "2024-09-26T11:20:25.369Z"
   },
   {
    "duration": 230490,
    "start_time": "2024-09-26T12:19:32.446Z"
   },
   {
    "duration": 23943,
    "start_time": "2024-09-26T12:23:27.397Z"
   },
   {
    "duration": 165848,
    "start_time": "2024-09-26T12:24:03.973Z"
   },
   {
    "duration": 9,
    "start_time": "2024-09-26T12:28:46.600Z"
   },
   {
    "duration": 11,
    "start_time": "2024-09-26T12:31:30.413Z"
   },
   {
    "duration": 256,
    "start_time": "2024-09-26T12:31:38.956Z"
   },
   {
    "duration": 54,
    "start_time": "2024-09-26T12:32:34.089Z"
   },
   {
    "duration": 4652,
    "start_time": "2024-09-26T12:33:07.482Z"
   },
   {
    "duration": 1521,
    "start_time": "2024-09-26T12:33:12.136Z"
   },
   {
    "duration": 882,
    "start_time": "2024-09-26T12:33:13.658Z"
   },
   {
    "duration": 3,
    "start_time": "2024-09-26T12:33:14.541Z"
   },
   {
    "duration": 770,
    "start_time": "2024-09-26T12:33:14.545Z"
   },
   {
    "duration": 520,
    "start_time": "2024-09-26T12:33:15.317Z"
   },
   {
    "duration": 6,
    "start_time": "2024-09-26T12:33:15.838Z"
   },
   {
    "duration": 251,
    "start_time": "2024-09-26T12:33:15.846Z"
   },
   {
    "duration": 310,
    "start_time": "2024-09-26T12:33:16.099Z"
   },
   {
    "duration": 275,
    "start_time": "2024-09-26T12:33:16.412Z"
   },
   {
    "duration": 60,
    "start_time": "2024-09-26T12:33:16.689Z"
   },
   {
    "duration": 110,
    "start_time": "2024-09-26T12:33:16.751Z"
   },
   {
    "duration": 56,
    "start_time": "2024-09-26T12:33:16.863Z"
   },
   {
    "duration": 209,
    "start_time": "2024-09-26T12:33:16.920Z"
   },
   {
    "duration": 485,
    "start_time": "2024-09-26T12:33:17.130Z"
   },
   {
    "duration": 39,
    "start_time": "2024-09-26T12:33:17.617Z"
   },
   {
    "duration": 17,
    "start_time": "2024-09-26T12:33:17.657Z"
   },
   {
    "duration": 47,
    "start_time": "2024-09-26T12:33:17.675Z"
   },
   {
    "duration": 18,
    "start_time": "2024-09-26T12:33:17.723Z"
   },
   {
    "duration": 17,
    "start_time": "2024-09-26T12:33:17.742Z"
   },
   {
    "duration": 25,
    "start_time": "2024-09-26T12:33:17.761Z"
   },
   {
    "duration": 22,
    "start_time": "2024-09-26T12:33:17.787Z"
   },
   {
    "duration": 32,
    "start_time": "2024-09-26T12:33:17.810Z"
   },
   {
    "duration": 25,
    "start_time": "2024-09-26T12:33:17.844Z"
   },
   {
    "duration": 19,
    "start_time": "2024-09-26T12:33:17.871Z"
   },
   {
    "duration": 19,
    "start_time": "2024-09-26T12:33:17.891Z"
   },
   {
    "duration": 980,
    "start_time": "2024-09-26T12:33:17.912Z"
   },
   {
    "duration": 61,
    "start_time": "2024-09-26T12:33:18.895Z"
   },
   {
    "duration": 24,
    "start_time": "2024-09-26T12:33:18.958Z"
   },
   {
    "duration": 56,
    "start_time": "2024-09-26T12:33:18.983Z"
   },
   {
    "duration": 20,
    "start_time": "2024-09-26T12:33:19.041Z"
   },
   {
    "duration": 5535,
    "start_time": "2024-09-26T12:33:19.062Z"
   },
   {
    "duration": 60,
    "start_time": "2024-09-26T12:33:24.599Z"
   },
   {
    "duration": 3,
    "start_time": "2024-09-26T12:33:24.661Z"
   },
   {
    "duration": 217906,
    "start_time": "2024-09-26T12:33:24.666Z"
   },
   {
    "duration": 150820,
    "start_time": "2024-09-26T12:37:02.574Z"
   },
   {
    "duration": 194224,
    "start_time": "2024-09-26T12:39:33.396Z"
   },
   {
    "duration": 2,
    "start_time": "2024-09-26T12:42:47.622Z"
   },
   {
    "duration": 5,
    "start_time": "2024-09-26T12:42:47.626Z"
   }
  ],
  "kernelspec": {
   "display_name": "Python 3 (ipykernel)",
   "language": "python",
   "name": "python3"
  },
  "language_info": {
   "codemirror_mode": {
    "name": "ipython",
    "version": 3
   },
   "file_extension": ".py",
   "mimetype": "text/x-python",
   "name": "python",
   "nbconvert_exporter": "python",
   "pygments_lexer": "ipython3",
   "version": "3.9.21"
  },
  "toc": {
   "base_numbering": 1,
   "nav_menu": {},
   "number_sections": true,
   "sideBar": true,
   "skip_h1_title": true,
   "title_cell": "Table of Contents",
   "title_sidebar": "Contents",
   "toc_cell": false,
   "toc_position": {},
   "toc_section_display": true,
   "toc_window_display": false
  }
 },
 "nbformat": 4,
 "nbformat_minor": 4
}
