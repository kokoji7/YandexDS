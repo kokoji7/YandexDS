{
 "cells": [
  {
   "cell_type": "markdown",
   "metadata": {
    "toc": true
   },
   "source": [
    "<h1>Содержание<span class=\"tocSkip\"></span></h1>\n",
    "<div class=\"toc\"><ul class=\"toc-item\"><li><span><a href=\"#Подготовка\" data-toc-modified-id=\"Подготовка-1\"><span class=\"toc-item-num\">1&nbsp;&nbsp;</span>Подготовка</a></span></li><li><span><a href=\"#Анализ\" data-toc-modified-id=\"Анализ-2\"><span class=\"toc-item-num\">2&nbsp;&nbsp;</span>Анализ</a></span></li><li><span><a href=\"#Обучение\" data-toc-modified-id=\"Обучение-3\"><span class=\"toc-item-num\">3&nbsp;&nbsp;</span>Обучение</a></span></li><li><span><a href=\"#Тестирование\" data-toc-modified-id=\"Тестирование-4\"><span class=\"toc-item-num\">4&nbsp;&nbsp;</span>Тестирование</a></span></li><li><span><a href=\"#Чек-лист-проверки\" data-toc-modified-id=\"Чек-лист-проверки-5\"><span class=\"toc-item-num\">5&nbsp;&nbsp;</span>Чек-лист проверки</a></span></li></ul></div>"
   ]
  },
  {
   "cell_type": "markdown",
   "metadata": {},
   "source": [
    "#  Прогнозирование заказов такси"
   ]
  },
  {
   "cell_type": "markdown",
   "metadata": {},
   "source": [
    "Компания «Чётенькое такси» собрала исторические данные о заказах такси в аэропортах. Чтобы привлекать больше водителей в период пиковой нагрузки, нужно спрогнозировать количество заказов такси на следующий час. Постройте модель для такого предсказания.\n",
    "\n",
    "Значение метрики *RMSE* на тестовой выборке должно быть не больше 48.\n",
    "\n",
    "Вам нужно:\n",
    "\n",
    "1. Загрузить данные и выполнить их ресемплирование по одному часу.\n",
    "2. Проанализировать данные.\n",
    "3. Обучить разные модели с различными гиперпараметрами. Сделать тестовую выборку размером 10% от исходных данных.\n",
    "4. Проверить данные на тестовой выборке и сделать выводы.\n",
    "\n",
    "\n",
    "Данные лежат в файле `taxi.csv`. Количество заказов находится в столбце `num_orders` (от англ. *number of orders*, «число заказов»)."
   ]
  },
  {
   "cell_type": "code",
   "execution_count": 3,
   "metadata": {},
   "outputs": [],
   "source": [
    "#!pip install scikit-learn==1.0.2\n",
    "#!pip install catboost"
   ]
  },
  {
   "cell_type": "code",
   "execution_count": 4,
   "metadata": {},
   "outputs": [],
   "source": [
    "import pandas as pd\n",
    "import numpy as np\n",
    "import numpy.matlib\n",
    "import os\n",
    "import re\n",
    "import matplotlib.pyplot as plt\n",
    "import seaborn as sns\n",
    "import itertools\n",
    "import warnings\n",
    "from sklearn.model_selection import train_test_split, TimeSeriesSplit, GridSearchCV, RandomizedSearchCV, cross_val_score\n",
    "from sklearn.pipeline import Pipeline\n",
    "from sklearn.linear_model import LinearRegression\n",
    "from sklearn.metrics import mean_squared_error, make_scorer\n",
    "from sklearn.ensemble import RandomForestRegressor\n",
    "from catboost import CatBoostRegressor\n",
    "from sklearn.preprocessing import StandardScaler\n",
    "from statsmodels.tsa.seasonal import seasonal_decompose"
   ]
  },
  {
   "cell_type": "markdown",
   "metadata": {},
   "source": [
    "## Подготовка"
   ]
  },
  {
   "cell_type": "code",
   "execution_count": 5,
   "metadata": {},
   "outputs": [],
   "source": [
    "pth1 = r'C:\\Users\\dinos\\Downloads\\taxi.csv'\n",
    "pth2 = '/datasets/taxi.csv'\n",
    "\n",
    "if os.path.exists(pth1):\n",
    "    data = pd.read_csv(pth1,  index_col=[0], parse_dates=[0])\n",
    "elif os.path.exists(pth2):\n",
    "    data = pd.read_csv(pth2,  index_col=[0], parse_dates=[0])\n",
    "else:\n",
    "    print('Something is wrong')"
   ]
  },
  {
   "cell_type": "code",
   "execution_count": 5,
   "metadata": {},
   "outputs": [],
   "source": [
    "def info(df):\n",
    "    display(df.head(5))\n",
    "    display(df.info()) \n",
    "    print(f'Количество дубликатов: {df.duplicated().sum()}')\n",
    "    print(f'Количество пропусков: {df.isna().sum()}')"
   ]
  },
  {
   "cell_type": "code",
   "execution_count": 6,
   "metadata": {},
   "outputs": [
    {
     "data": {
      "text/html": [
       "<div>\n",
       "<style scoped>\n",
       "    .dataframe tbody tr th:only-of-type {\n",
       "        vertical-align: middle;\n",
       "    }\n",
       "\n",
       "    .dataframe tbody tr th {\n",
       "        vertical-align: top;\n",
       "    }\n",
       "\n",
       "    .dataframe thead th {\n",
       "        text-align: right;\n",
       "    }\n",
       "</style>\n",
       "<table border=\"1\" class=\"dataframe\">\n",
       "  <thead>\n",
       "    <tr style=\"text-align: right;\">\n",
       "      <th></th>\n",
       "      <th>num_orders</th>\n",
       "    </tr>\n",
       "    <tr>\n",
       "      <th>datetime</th>\n",
       "      <th></th>\n",
       "    </tr>\n",
       "  </thead>\n",
       "  <tbody>\n",
       "    <tr>\n",
       "      <th>2018-03-01 00:00:00</th>\n",
       "      <td>9</td>\n",
       "    </tr>\n",
       "    <tr>\n",
       "      <th>2018-03-01 00:10:00</th>\n",
       "      <td>14</td>\n",
       "    </tr>\n",
       "    <tr>\n",
       "      <th>2018-03-01 00:20:00</th>\n",
       "      <td>28</td>\n",
       "    </tr>\n",
       "    <tr>\n",
       "      <th>2018-03-01 00:30:00</th>\n",
       "      <td>20</td>\n",
       "    </tr>\n",
       "    <tr>\n",
       "      <th>2018-03-01 00:40:00</th>\n",
       "      <td>32</td>\n",
       "    </tr>\n",
       "  </tbody>\n",
       "</table>\n",
       "</div>"
      ],
      "text/plain": [
       "                     num_orders\n",
       "datetime                       \n",
       "2018-03-01 00:00:00           9\n",
       "2018-03-01 00:10:00          14\n",
       "2018-03-01 00:20:00          28\n",
       "2018-03-01 00:30:00          20\n",
       "2018-03-01 00:40:00          32"
      ]
     },
     "metadata": {},
     "output_type": "display_data"
    },
    {
     "name": "stdout",
     "output_type": "stream",
     "text": [
      "<class 'pandas.core.frame.DataFrame'>\n",
      "DatetimeIndex: 26496 entries, 2018-03-01 00:00:00 to 2018-08-31 23:50:00\n",
      "Data columns (total 1 columns):\n",
      " #   Column      Non-Null Count  Dtype\n",
      "---  ------      --------------  -----\n",
      " 0   num_orders  26496 non-null  int64\n",
      "dtypes: int64(1)\n",
      "memory usage: 414.0 KB\n"
     ]
    },
    {
     "data": {
      "text/plain": [
       "None"
      ]
     },
     "metadata": {},
     "output_type": "display_data"
    },
    {
     "name": "stdout",
     "output_type": "stream",
     "text": [
      "Количество дубликатов: 26415\n",
      "Количество пропусков: num_orders    0\n",
      "dtype: int64\n"
     ]
    }
   ],
   "source": [
    "info(data)"
   ]
  },
  {
   "cell_type": "code",
   "execution_count": 7,
   "metadata": {},
   "outputs": [
    {
     "data": {
      "text/plain": [
       "datetime\n",
       "2018-04-29 06:30:00      0\n",
       "2018-05-31 07:00:00      0\n",
       "2018-04-25 06:40:00      0\n",
       "2018-04-13 07:10:00      0\n",
       "2018-04-01 06:20:00      0\n",
       "                      ... \n",
       "2018-08-30 17:50:00     95\n",
       "2018-08-27 02:00:00     98\n",
       "2018-08-13 02:30:00     99\n",
       "2018-08-13 02:20:00    119\n",
       "2018-08-27 02:10:00    119\n",
       "Name: num_orders, Length: 26496, dtype: int64"
      ]
     },
     "execution_count": 7,
     "metadata": {},
     "output_type": "execute_result"
    }
   ],
   "source": [
    "data['num_orders'].sort_values()"
   ]
  },
  {
   "cell_type": "code",
   "execution_count": 8,
   "metadata": {},
   "outputs": [],
   "source": [
    "data.sort_index(inplace=True)"
   ]
  },
  {
   "cell_type": "code",
   "execution_count": 9,
   "metadata": {},
   "outputs": [],
   "source": [
    "data = data.resample('1H').sum()"
   ]
  },
  {
   "cell_type": "markdown",
   "metadata": {},
   "source": [
    "## Анализ"
   ]
  },
  {
   "cell_type": "code",
   "execution_count": 10,
   "metadata": {},
   "outputs": [],
   "source": [
    "decomposed = seasonal_decompose(data)"
   ]
  },
  {
   "cell_type": "code",
   "execution_count": 13,
   "metadata": {},
   "outputs": [
    {
     "data": {
      "image/png": "[encoded data removed]",
      "text/plain": [
       "<Figure size 432x288 with 1 Axes>"
      ]
     },
     "metadata": {
      "needs_background": "light"
     },
     "output_type": "display_data"
    }
   ],
   "source": [
    "data['rolling_mean'] = data.rolling(50).mean() \n",
    "data.plot()\n",
    "plt.title(f\"Распределение скользящего среднего\")\n",
    "plt.ylabel(\"Количество\")\n",
    "plt.xlabel('Дата')\n",
    "plt.show()"
   ]
  },
  {
   "cell_type": "code",
   "execution_count": 14,
   "metadata": {
    "scrolled": true
   },
   "outputs": [
    {
     "data": {
      "text/plain": [
       "Text(0.5, 0, 'Дата')"
      ]
     },
     "execution_count": 14,
     "metadata": {},
     "output_type": "execute_result"
    },
    {
     "data": {
      "image/png": "[encoded data removed]",
      "text/plain": [
       "<Figure size 1080x288 with 1 Axes>"
      ]
     },
     "metadata": {
      "needs_background": "light"
     },
     "output_type": "display_data"
    }
   ],
   "source": [
    "plt.figure(figsize=(15,4))\n",
    "decomposed.seasonal.tail(24*7).plot(ax=plt.gca())\n",
    "plt.title('Сезон')\n",
    "plt.ylabel(\"Количество\")\n",
    "plt.xlabel('Дата')"
   ]
  },
  {
   "cell_type": "code",
   "execution_count": 15,
   "metadata": {},
   "outputs": [
    {
     "data": {
      "text/plain": [
       "Text(0.5, 0, 'Дата')"
      ]
     },
     "execution_count": 15,
     "metadata": {},
     "output_type": "execute_result"
    },
    {
     "data": {
      "image/png": "[encoded data removed]",
      "text/plain": [
       "<Figure size 1080x288 with 1 Axes>"
      ]
     },
     "metadata": {
      "needs_background": "light"
     },
     "output_type": "display_data"
    }
   ],
   "source": [
    "plt.figure(figsize=(15, 4))\n",
    "decomposed.trend.plot(ax=plt.gca())\n",
    "plt.title('Тренд')\n",
    "plt.ylabel(\"Количество\")\n",
    "plt.xlabel('Дата')"
   ]
  },
  {
   "cell_type": "code",
   "execution_count": 16,
   "metadata": {},
   "outputs": [
    {
     "data": {
      "text/plain": [
       "Text(0.5, 0, 'Дата')"
      ]
     },
     "execution_count": 16,
     "metadata": {},
     "output_type": "execute_result"
    },
    {
     "data": {
      "image/png": "[encoded data removed]",
      "text/plain": [
       "<Figure size 1080x288 with 1 Axes>"
      ]
     },
     "metadata": {
      "needs_background": "light"
     },
     "output_type": "display_data"
    }
   ],
   "source": [
    "plt.figure(figsize=(15, 4))\n",
    "decomposed.resid.plot(ax=plt.gca())\n",
    "plt.title('Шумы')\n",
    "plt.ylabel(\"Количество\")\n",
    "plt.xlabel('Дата')"
   ]
  },
  {
   "cell_type": "markdown",
   "metadata": {},
   "source": [
    "Выводы:\n",
    "\n",
    "* Отмечается устойчивая тенденция равномерного увеличения количества заказов с редкими незначительными снижениями. \n",
    "* Наблюдается суточная сезонность: спад в ночное время, увеличение утром и днем, с пиковыми значениями к вечеру."
   ]
  },
  {
   "cell_type": "markdown",
   "metadata": {},
   "source": [
    "## Обучение"
   ]
  },
  {
   "cell_type": "code",
   "execution_count": 14,
   "metadata": {
    "scrolled": true
   },
   "outputs": [],
   "source": [
    "# Создадим функцию, которая добавляет признаки для обучения модели \n",
    "def make_features(df, max_lag, rolling_mean_size):\n",
    "    \"\"\"\n",
    "    Функция получает на вход оригинальный датафрейм и возвращает датафрейм с новыми признаками\n",
    "    \n",
    "    :param data (pd.DataFrame): Оригинальный датафрейм \n",
    "    :param max_lag(int): Максимальное предыдущее значение временного ряда\n",
    "    :param rolling_mean_size(int): Значение ширины скользящего окна\n",
    "    :return(pd.DataFrame): Датафрейм с новыми признаками \n",
    "    \"\"\"\n",
    "    data_copy = df.copy(deep=True)\n",
    "    data_copy['month'] = data_copy.index.month\n",
    "    data_copy['day'] = data_copy.index.day\n",
    "    data_copy['dayofweek'] = data_copy.index.dayofweek\n",
    "    data_copy['hour'] = data_copy.index.hour\n",
    "\n",
    "    for lag in range(1, max_lag + 1):\n",
    "        data_copy['lag_{}'.format(lag)] = data_copy['num_orders'].shift(lag)\n",
    "\n",
    "    data_copy['rolling_mean'] = data_copy['num_orders'].shift().rolling(rolling_mean_size).mean()\n",
    "    data_copy.dropna(inplace=True)\n",
    "\n",
    "    return data_copy"
   ]
  },
  {
   "cell_type": "code",
   "execution_count": 15,
   "metadata": {},
   "outputs": [
    {
     "name": "stdout",
     "output_type": "stream",
     "text": [
      "Размер оригинального датасета: (4416, 2)\n",
      "Размер обновленного датасета: (4236, 186)\n"
     ]
    }
   ],
   "source": [
    "# Создадим датасет для обучения моделей\n",
    "data_ml = make_features(data, 180, 180)\n",
    "print(f'Размер оригинального датасета: {data.shape}')\n",
    "print(f'Размер обновленного датасета: {data_ml.shape}')"
   ]
  },
  {
   "cell_type": "code",
   "execution_count": 16,
   "metadata": {},
   "outputs": [],
   "source": [
    "RANDOM_STATE = 42\n",
    "TEST_SIZE = 0.1\n",
    "\n",
    "# Разбиваем фичи и таргет\n",
    "X = data_ml.drop('num_orders', axis=1)\n",
    "y = data_ml['num_orders']\n",
    "\n",
    "# Разбиваем выборку на тренировочную и тестовую\n",
    "X_train, X_test, y_train, y_test = train_test_split(\n",
    "    X, y, shuffle=False, test_size=TEST_SIZE, random_state=RANDOM_STATE\n",
    ")"
   ]
  },
  {
   "cell_type": "code",
   "execution_count": 17,
   "metadata": {},
   "outputs": [],
   "source": [
    "# Настройка пайплайна для моделей\n",
    "lin_reg_pipe = Pipeline([\n",
    "    ('scaler', StandardScaler()), \n",
    "    ('regressor', LinearRegression())\n",
    "])\n",
    "\n",
    "rf_pipe = Pipeline([\n",
    "    ('scaler', StandardScaler()), \n",
    "    ('regressor', RandomForestRegressor(random_state=RANDOM_STATE))\n",
    "])\n",
    "\n",
    "catboost_pipe = Pipeline([\n",
    "    ('scaler', StandardScaler()), \n",
    "    ('regressor', CatBoostRegressor(random_state=RANDOM_STATE, verbose=False))\n",
    "])"
   ]
  },
  {
   "cell_type": "code",
   "execution_count": 18,
   "metadata": {},
   "outputs": [],
   "source": [
    "# Кросс-валидация с TimeSeriesSplit\n",
    "cv = TimeSeriesSplit(n_splits=5)\n",
    "\n",
    "# Список моделей для обучения\n",
    "models_pipes = [lin_reg_pipe, rf_pipe, catboost_pipe]\n",
    "model_names = ['LinearRegression', 'RandomForest', 'CatBoost']\n",
    "\n",
    "# Список для результатов\n",
    "models = []"
   ]
  },
  {
   "cell_type": "code",
   "execution_count": 19,
   "metadata": {},
   "outputs": [
    {
     "name": "stdout",
     "output_type": "stream",
     "text": [
      "RMSE LinearRegression на кросс-валидации: 22.830278734417416\n",
      "RMSE LinearRegression на тренировочной выборке: 20.325982019769143\n",
      "---\n",
      "RMSE RandomForest на кросс-валидации: 23.032472178617905\n",
      "RMSE RandomForest на тренировочной выборке: 8.073464833491785\n",
      "---\n",
      "RMSE CatBoost на кросс-валидации: 22.82939052677035\n",
      "RMSE CatBoost на тренировочной выборке: 8.624900193963626\n",
      "---\n"
     ]
    }
   ],
   "source": [
    "for model, name in zip(models_pipes, model_names):\n",
    "    scores = cross_val_score(\n",
    "        model, \n",
    "        X_train, \n",
    "        y_train, \n",
    "        cv=cv, \n",
    "        n_jobs=-1, \n",
    "        scoring='neg_root_mean_squared_error'\n",
    "    )\n",
    "    rmse_cv = (-1) * (sum(scores) / len(scores))\n",
    "    print(f'RMSE {name} на кросс-валидации: {rmse_cv}')\n",
    "    \n",
    "    model.fit(X_train, y_train)\n",
    "    y_pred_train = model.predict(X_train)\n",
    "    rmse_train = mean_squared_error(y_train, y_pred_train, squared=False)\n",
    "    print(f'RMSE {name} на тренировочной выборке: {rmse_train}')\n",
    "    print('---')\n",
    "    \n",
    "    models.append([model, rmse_cv, rmse_train])"
   ]
  },
  {
   "cell_type": "code",
   "execution_count": 20,
   "metadata": {},
   "outputs": [],
   "source": [
    "# Сортировка по лучшему RMSE\n",
    "models_analysis = pd.DataFrame(models, columns=['model', 'RMSE_cv', 'RMSE_train'])\n",
    "models_analysis.sort_values('RMSE_cv', inplace=True)"
   ]
  },
  {
   "cell_type": "markdown",
   "metadata": {},
   "source": [
    "## Тестирование"
   ]
  },
  {
   "cell_type": "code",
   "execution_count": 21,
   "metadata": {},
   "outputs": [
    {
     "name": "stdout",
     "output_type": "stream",
     "text": [
      "Лучшая модель: CatBoostRegressor\n",
      "Параметры модели: {'loss_function': 'RMSE', 'verbose': False, 'random_state': 42}\n",
      "RMSE лучшей модели на тестовой выборке: 36.80958977673447\n"
     ]
    }
   ],
   "source": [
    "# Лучшая модель на тестовой выборке\n",
    "best_model_info = models_analysis.iloc[0]\n",
    "best_model = best_model_info['model']\n",
    "\n",
    "# Предсказания на тестовой выборке\n",
    "y_pred = best_model.predict(X_test)\n",
    "\n",
    "# Вычисляем RMSE на тестовой выборке\n",
    "best_rmse = mean_squared_error(y_test, y_pred, squared=False)\n",
    "\n",
    "# Выводим информацию о лучшей модели, её параметры и RMSE\n",
    "print(f'Лучшая модель: {type(best_model.named_steps[\"regressor\"]).__name__}')\n",
    "print(f'Параметры модели: {best_model.named_steps[\"regressor\"].get_params()}')\n",
    "print(f'RMSE лучшей модели на тестовой выборке: {best_rmse}')"
   ]
  },
  {
   "cell_type": "code",
   "execution_count": 22,
   "metadata": {},
   "outputs": [],
   "source": [
    "def display_result(target, pred, rmse):\n",
    "    \"\"\"\n",
    "    Функция отображает график реальных значений и предсказаний модели.\n",
    "    \n",
    "    :param target: Реальные значения\n",
    "    :param pred: Предсказанные значения\n",
    "    :param rmse: Значение метрики RMSE\n",
    "    :return: График\n",
    "    \"\"\"\n",
    "    result = target.to_frame().reset_index()\n",
    "    result['prediction'] = pd.Series(pred)\n",
    "    result.set_index('datetime', inplace=True)\n",
    "    \n",
    "    plt.figure(figsize=(12, 6))\n",
    "    plt.plot(result.index, result['num_orders'], label='Actual')\n",
    "    plt.plot(result.index, result['prediction'], label='Prediction', linestyle='--')\n",
    "    plt.title(f'Actual vs Predicted (RMSE={rmse:.2f})')\n",
    "    plt.xlabel('Date')\n",
    "    plt.ylabel('Number of Orders')\n",
    "    plt.legend()\n",
    "    plt.grid(True)\n",
    "    plt.show()"
   ]
  },
  {
   "cell_type": "code",
   "execution_count": 23,
   "metadata": {
    "scrolled": false
   },
   "outputs": [
    {
     "data": {
      "image/png": "[encoded data removed]",
      "text/plain": [
       "<Figure size 864x432 with 1 Axes>"
      ]
     },
     "metadata": {
      "needs_background": "light"
     },
     "output_type": "display_data"
    }
   ],
   "source": [
    "display_result(y_test, y_pred, best_rmse)"
   ]
  },
  {
   "cell_type": "markdown",
   "metadata": {},
   "source": [
    "В ходе работы над исследованием была обучена, выбрана и протестирована лучшая модель машинного обучения CatBoostRegressor, прогнозирующая количество заказов такси в следующий час. Финальное качество модели на тестовой выборке: RMSE = 36.80958977673447"
   ]
  }
 ],
 "metadata": {
  "ExecuteTimeLog": [
   {
    "duration": 74,
    "start_time": "2024-09-27T18:14:22.962Z"
   },
   {
    "duration": 102,
    "start_time": "2024-09-27T18:14:46.925Z"
   },
   {
    "duration": 1329,
    "start_time": "2024-09-27T18:15:11.007Z"
   },
   {
    "duration": 3,
    "start_time": "2024-09-27T18:15:19.833Z"
   },
   {
    "duration": 1218,
    "start_time": "2024-09-27T18:15:22.867Z"
   },
   {
    "duration": 31,
    "start_time": "2024-09-27T18:15:33.944Z"
   },
   {
    "duration": 194,
    "start_time": "2024-09-27T18:15:50.962Z"
   },
   {
    "duration": 9,
    "start_time": "2024-09-27T18:15:54.829Z"
   },
   {
    "duration": 7,
    "start_time": "2024-09-27T18:16:14.506Z"
   },
   {
    "duration": 75,
    "start_time": "2024-09-27T18:17:02.767Z"
   },
   {
    "duration": 6,
    "start_time": "2024-09-27T18:17:02.989Z"
   },
   {
    "duration": 160,
    "start_time": "2024-09-27T18:17:21.940Z"
   },
   {
    "duration": 7,
    "start_time": "2024-09-27T18:17:51.450Z"
   },
   {
    "duration": 18,
    "start_time": "2024-09-27T18:18:28.901Z"
   },
   {
    "duration": 18,
    "start_time": "2024-09-27T18:19:13.202Z"
   },
   {
    "duration": 15,
    "start_time": "2024-09-27T18:19:19.148Z"
   },
   {
    "duration": 3,
    "start_time": "2024-09-27T18:20:21.365Z"
   },
   {
    "duration": 27,
    "start_time": "2024-09-27T18:20:36.104Z"
   },
   {
    "duration": 17,
    "start_time": "2024-09-27T18:24:45.246Z"
   },
   {
    "duration": 942,
    "start_time": "2024-09-27T18:26:11.711Z"
   },
   {
    "duration": 8,
    "start_time": "2024-09-27T18:26:24.414Z"
   },
   {
    "duration": 9,
    "start_time": "2024-09-27T18:29:50.959Z"
   },
   {
    "duration": 739,
    "start_time": "2024-09-27T18:30:31.033Z"
   },
   {
    "duration": 7,
    "start_time": "2024-09-27T18:30:35.756Z"
   },
   {
    "duration": 12,
    "start_time": "2024-09-27T18:30:45.525Z"
   },
   {
    "duration": 10,
    "start_time": "2024-09-27T18:31:01.465Z"
   },
   {
    "duration": 3,
    "start_time": "2024-09-27T18:31:16.349Z"
   },
   {
    "duration": 78,
    "start_time": "2024-09-27T18:32:47.250Z"
   },
   {
    "duration": 6,
    "start_time": "2024-09-27T18:32:49.257Z"
   },
   {
    "duration": 7,
    "start_time": "2024-09-27T18:32:57.210Z"
   },
   {
    "duration": 3,
    "start_time": "2024-09-27T18:33:19.123Z"
   },
   {
    "duration": 17,
    "start_time": "2024-09-27T18:33:31.042Z"
   },
   {
    "duration": 3,
    "start_time": "2024-09-27T18:34:00.386Z"
   },
   {
    "duration": 40,
    "start_time": "2024-09-28T07:21:29.856Z"
   },
   {
    "duration": 1188,
    "start_time": "2024-09-28T07:21:34.653Z"
   },
   {
    "duration": 133,
    "start_time": "2024-09-28T07:21:35.843Z"
   },
   {
    "duration": 3,
    "start_time": "2024-09-28T07:21:35.978Z"
   },
   {
    "duration": 134,
    "start_time": "2024-09-28T07:21:35.983Z"
   },
   {
    "duration": 7,
    "start_time": "2024-09-28T07:21:36.119Z"
   },
   {
    "duration": 12,
    "start_time": "2024-09-28T07:21:36.128Z"
   },
   {
    "duration": 10,
    "start_time": "2024-09-28T07:21:36.141Z"
   },
   {
    "duration": 3,
    "start_time": "2024-09-28T07:23:40.980Z"
   },
   {
    "duration": 81,
    "start_time": "2024-09-28T07:23:40.985Z"
   },
   {
    "duration": 3,
    "start_time": "2024-09-28T07:23:41.067Z"
   },
   {
    "duration": 17,
    "start_time": "2024-09-28T07:23:41.071Z"
   },
   {
    "duration": 5,
    "start_time": "2024-09-28T07:23:41.090Z"
   },
   {
    "duration": 2,
    "start_time": "2024-09-28T07:23:41.096Z"
   },
   {
    "duration": 5,
    "start_time": "2024-09-28T07:23:41.099Z"
   },
   {
    "duration": 53,
    "start_time": "2024-09-28T13:40:03.591Z"
   },
   {
    "duration": 1458,
    "start_time": "2024-09-28T13:40:07.640Z"
   },
   {
    "duration": 132,
    "start_time": "2024-09-28T13:40:09.100Z"
   },
   {
    "duration": 3,
    "start_time": "2024-09-28T13:40:09.234Z"
   },
   {
    "duration": 41,
    "start_time": "2024-09-28T13:40:09.238Z"
   },
   {
    "duration": 7,
    "start_time": "2024-09-28T13:40:09.280Z"
   },
   {
    "duration": 17,
    "start_time": "2024-09-28T13:40:09.288Z"
   },
   {
    "duration": 17,
    "start_time": "2024-09-28T13:40:09.306Z"
   },
   {
    "duration": 276,
    "start_time": "2024-09-28T13:40:09.325Z"
   },
   {
    "duration": 242,
    "start_time": "2024-09-28T13:40:23.142Z"
   },
   {
    "duration": 229,
    "start_time": "2024-09-28T13:40:33.251Z"
   },
   {
    "duration": 66,
    "start_time": "2024-09-28T14:26:59.305Z"
   },
   {
    "duration": 47,
    "start_time": "2024-09-28T14:27:15.807Z"
   },
   {
    "duration": 2,
    "start_time": "2024-09-28T14:27:34.170Z"
   },
   {
    "duration": 96,
    "start_time": "2024-09-28T14:27:34.174Z"
   },
   {
    "duration": 3,
    "start_time": "2024-09-28T14:27:34.272Z"
   },
   {
    "duration": 39,
    "start_time": "2024-09-28T14:27:34.276Z"
   },
   {
    "duration": 7,
    "start_time": "2024-09-28T14:27:34.317Z"
   },
   {
    "duration": 3,
    "start_time": "2024-09-28T14:27:34.326Z"
   },
   {
    "duration": 13,
    "start_time": "2024-09-28T14:27:34.330Z"
   },
   {
    "duration": 334,
    "start_time": "2024-09-28T14:27:34.344Z"
   },
   {
    "duration": 9,
    "start_time": "2024-09-28T14:27:34.679Z"
   },
   {
    "duration": 3,
    "start_time": "2024-09-28T14:28:24.612Z"
   },
   {
    "duration": 79,
    "start_time": "2024-09-28T14:28:24.617Z"
   },
   {
    "duration": 4,
    "start_time": "2024-09-28T14:28:24.697Z"
   },
   {
    "duration": 21,
    "start_time": "2024-09-28T14:28:24.702Z"
   },
   {
    "duration": 7,
    "start_time": "2024-09-28T14:28:24.725Z"
   },
   {
    "duration": 87,
    "start_time": "2024-09-28T14:28:24.733Z"
   },
   {
    "duration": 72,
    "start_time": "2024-09-28T14:28:24.822Z"
   },
   {
    "duration": 11,
    "start_time": "2024-09-28T14:28:24.896Z"
   },
   {
    "duration": 9,
    "start_time": "2024-09-28T14:28:24.909Z"
   },
   {
    "duration": 228,
    "start_time": "2024-09-28T14:29:35.915Z"
   },
   {
    "duration": 395,
    "start_time": "2024-09-28T14:29:48.296Z"
   },
   {
    "duration": 310,
    "start_time": "2024-09-28T14:32:18.547Z"
   },
   {
    "duration": 306,
    "start_time": "2024-09-28T14:32:37.688Z"
   },
   {
    "duration": 240,
    "start_time": "2024-09-28T14:36:11.028Z"
   },
   {
    "duration": 151,
    "start_time": "2024-09-28T14:36:49.565Z"
   },
   {
    "duration": 326,
    "start_time": "2024-09-28T14:38:31.366Z"
   },
   {
    "duration": 259,
    "start_time": "2024-09-28T14:38:39.900Z"
   },
   {
    "duration": 11,
    "start_time": "2024-09-28T14:45:37.822Z"
   },
   {
    "duration": 4,
    "start_time": "2024-09-28T14:45:40.142Z"
   },
   {
    "duration": 1082,
    "start_time": "2024-09-28T14:45:41.397Z"
   },
   {
    "duration": 4,
    "start_time": "2024-09-28T14:46:18.325Z"
   },
   {
    "duration": 15,
    "start_time": "2024-09-28T14:46:18.605Z"
   },
   {
    "duration": 17,
    "start_time": "2024-09-28T14:46:25.392Z"
   },
   {
    "duration": 10,
    "start_time": "2024-09-28T14:51:22.551Z"
   },
   {
    "duration": 9,
    "start_time": "2024-09-28T14:51:38.985Z"
   },
   {
    "duration": 284,
    "start_time": "2024-09-28T14:52:56.530Z"
   },
   {
    "duration": 3,
    "start_time": "2024-09-28T14:54:21.272Z"
   },
   {
    "duration": 86,
    "start_time": "2024-09-28T14:54:21.277Z"
   },
   {
    "duration": 3,
    "start_time": "2024-09-28T14:54:21.364Z"
   },
   {
    "duration": 22,
    "start_time": "2024-09-28T14:54:21.368Z"
   },
   {
    "duration": 7,
    "start_time": "2024-09-28T14:54:21.392Z"
   },
   {
    "duration": 4,
    "start_time": "2024-09-28T14:54:21.401Z"
   },
   {
    "duration": 9,
    "start_time": "2024-09-28T14:54:21.407Z"
   },
   {
    "duration": 25,
    "start_time": "2024-09-28T14:54:21.418Z"
   },
   {
    "duration": 253,
    "start_time": "2024-09-28T14:54:21.445Z"
   },
   {
    "duration": 168,
    "start_time": "2024-09-28T14:54:21.700Z"
   },
   {
    "duration": 242,
    "start_time": "2024-09-28T14:54:21.870Z"
   },
   {
    "duration": 362,
    "start_time": "2024-09-28T14:54:22.113Z"
   },
   {
    "duration": 4,
    "start_time": "2024-09-28T14:54:22.477Z"
   },
   {
    "duration": 71,
    "start_time": "2024-09-28T14:54:22.483Z"
   },
   {
    "duration": 3,
    "start_time": "2024-09-28T14:54:22.556Z"
   },
   {
    "duration": 3,
    "start_time": "2024-09-28T14:54:57.012Z"
   },
   {
    "duration": 81,
    "start_time": "2024-09-28T14:54:57.016Z"
   },
   {
    "duration": 3,
    "start_time": "2024-09-28T14:54:57.098Z"
   },
   {
    "duration": 22,
    "start_time": "2024-09-28T14:54:57.103Z"
   },
   {
    "duration": 7,
    "start_time": "2024-09-28T14:54:57.127Z"
   },
   {
    "duration": 9,
    "start_time": "2024-09-28T14:54:57.135Z"
   },
   {
    "duration": 10,
    "start_time": "2024-09-28T14:54:57.146Z"
   },
   {
    "duration": 20,
    "start_time": "2024-09-28T14:54:57.157Z"
   },
   {
    "duration": 245,
    "start_time": "2024-09-28T14:54:57.178Z"
   },
   {
    "duration": 170,
    "start_time": "2024-09-28T14:54:57.425Z"
   },
   {
    "duration": 236,
    "start_time": "2024-09-28T14:54:57.597Z"
   },
   {
    "duration": 239,
    "start_time": "2024-09-28T14:54:57.835Z"
   },
   {
    "duration": 1391,
    "start_time": "2024-09-28T14:55:05.555Z"
   },
   {
    "duration": 80,
    "start_time": "2024-09-28T14:55:06.948Z"
   },
   {
    "duration": 3,
    "start_time": "2024-09-28T14:55:07.030Z"
   },
   {
    "duration": 28,
    "start_time": "2024-09-28T14:55:07.034Z"
   },
   {
    "duration": 8,
    "start_time": "2024-09-28T14:55:07.064Z"
   },
   {
    "duration": 22,
    "start_time": "2024-09-28T14:55:07.073Z"
   },
   {
    "duration": 20,
    "start_time": "2024-09-28T14:55:07.097Z"
   },
   {
    "duration": 43,
    "start_time": "2024-09-28T14:55:07.118Z"
   },
   {
    "duration": 259,
    "start_time": "2024-09-28T14:55:07.162Z"
   },
   {
    "duration": 178,
    "start_time": "2024-09-28T14:55:07.423Z"
   },
   {
    "duration": 291,
    "start_time": "2024-09-28T14:55:07.603Z"
   },
   {
    "duration": 240,
    "start_time": "2024-09-28T14:55:07.896Z"
   },
   {
    "duration": 6,
    "start_time": "2024-09-28T14:55:08.137Z"
   },
   {
    "duration": 31,
    "start_time": "2024-09-28T14:55:08.146Z"
   },
   {
    "duration": 25,
    "start_time": "2024-09-28T14:55:08.180Z"
   },
   {
    "duration": 12,
    "start_time": "2024-09-28T14:55:08.207Z"
   },
   {
    "duration": 1464,
    "start_time": "2024-09-28T14:55:28.318Z"
   },
   {
    "duration": 77,
    "start_time": "2024-09-28T14:55:29.784Z"
   },
   {
    "duration": 3,
    "start_time": "2024-09-28T14:55:29.863Z"
   },
   {
    "duration": 36,
    "start_time": "2024-09-28T14:55:29.867Z"
   },
   {
    "duration": 7,
    "start_time": "2024-09-28T14:55:29.905Z"
   },
   {
    "duration": 3,
    "start_time": "2024-09-28T14:55:29.914Z"
   },
   {
    "duration": 25,
    "start_time": "2024-09-28T14:55:29.918Z"
   },
   {
    "duration": 34,
    "start_time": "2024-09-28T14:55:29.945Z"
   },
   {
    "duration": 281,
    "start_time": "2024-09-28T14:55:29.981Z"
   },
   {
    "duration": 179,
    "start_time": "2024-09-28T14:55:30.264Z"
   },
   {
    "duration": 301,
    "start_time": "2024-09-28T14:55:30.445Z"
   },
   {
    "duration": 234,
    "start_time": "2024-09-28T14:55:30.748Z"
   },
   {
    "duration": 4,
    "start_time": "2024-09-28T14:55:30.984Z"
   },
   {
    "duration": 36,
    "start_time": "2024-09-28T14:55:30.991Z"
   },
   {
    "duration": 20,
    "start_time": "2024-09-28T14:55:31.029Z"
   },
   {
    "duration": 4,
    "start_time": "2024-09-28T14:55:31.051Z"
   },
   {
    "duration": 5,
    "start_time": "2024-09-28T14:56:14.013Z"
   },
   {
    "duration": 9,
    "start_time": "2024-09-28T16:09:21.714Z"
   },
   {
    "duration": 115,
    "start_time": "2024-09-28T16:09:23.441Z"
   },
   {
    "duration": 24,
    "start_time": "2024-09-28T16:09:55.013Z"
   },
   {
    "duration": 13,
    "start_time": "2024-09-28T16:09:58.883Z"
   },
   {
    "duration": 3,
    "start_time": "2024-09-28T16:10:28.319Z"
   },
   {
    "duration": 10,
    "start_time": "2024-09-28T16:10:29.510Z"
   },
   {
    "duration": 4,
    "start_time": "2024-09-28T16:11:10.706Z"
   },
   {
    "duration": 19,
    "start_time": "2024-09-28T16:11:13.301Z"
   },
   {
    "duration": 4,
    "start_time": "2024-09-28T16:25:16.406Z"
   },
   {
    "duration": 98,
    "start_time": "2024-09-28T16:25:16.412Z"
   },
   {
    "duration": 3,
    "start_time": "2024-09-28T16:25:16.511Z"
   },
   {
    "duration": 32,
    "start_time": "2024-09-28T16:25:16.515Z"
   },
   {
    "duration": 6,
    "start_time": "2024-09-28T16:25:16.549Z"
   },
   {
    "duration": 3,
    "start_time": "2024-09-28T16:25:16.556Z"
   },
   {
    "duration": 25,
    "start_time": "2024-09-28T16:25:16.560Z"
   },
   {
    "duration": 10,
    "start_time": "2024-09-28T16:25:16.586Z"
   },
   {
    "duration": 240,
    "start_time": "2024-09-28T16:25:16.597Z"
   },
   {
    "duration": 160,
    "start_time": "2024-09-28T16:25:16.839Z"
   },
   {
    "duration": 232,
    "start_time": "2024-09-28T16:25:17.001Z"
   },
   {
    "duration": 243,
    "start_time": "2024-09-28T16:25:17.235Z"
   },
   {
    "duration": 3,
    "start_time": "2024-09-28T16:25:17.480Z"
   },
   {
    "duration": 14,
    "start_time": "2024-09-28T16:25:17.486Z"
   },
   {
    "duration": 23,
    "start_time": "2024-09-28T16:25:17.502Z"
   },
   {
    "duration": 4,
    "start_time": "2024-09-28T16:25:17.526Z"
   },
   {
    "duration": 9,
    "start_time": "2024-09-28T16:25:17.543Z"
   },
   {
    "duration": 12,
    "start_time": "2024-09-28T16:25:17.553Z"
   },
   {
    "duration": 206,
    "start_time": "2024-09-28T16:25:17.567Z"
   },
   {
    "duration": 3,
    "start_time": "2024-09-28T16:27:29.688Z"
   },
   {
    "duration": 16,
    "start_time": "2024-09-28T16:27:33.112Z"
   },
   {
    "duration": 18,
    "start_time": "2024-09-28T16:28:11.957Z"
   },
   {
    "duration": 11,
    "start_time": "2024-09-28T16:28:42.055Z"
   },
   {
    "duration": 10,
    "start_time": "2024-09-28T16:40:26.806Z"
   },
   {
    "duration": 22,
    "start_time": "2024-09-28T16:40:48.336Z"
   },
   {
    "duration": 14,
    "start_time": "2024-09-28T16:40:51.362Z"
   },
   {
    "duration": 10,
    "start_time": "2024-09-28T16:41:27.583Z"
   },
   {
    "duration": 3,
    "start_time": "2024-09-28T16:41:35.313Z"
   },
   {
    "duration": 211,
    "start_time": "2024-09-28T16:41:38.749Z"
   },
   {
    "duration": 201,
    "start_time": "2024-09-28T16:42:34.498Z"
   },
   {
    "duration": 177,
    "start_time": "2024-09-28T16:42:36.184Z"
   },
   {
    "duration": 48,
    "start_time": "2024-09-28T16:43:14.193Z"
   },
   {
    "duration": 13,
    "start_time": "2024-09-28T16:43:15.829Z"
   },
   {
    "duration": 9,
    "start_time": "2024-09-28T16:43:43.971Z"
   },
   {
    "duration": 2601,
    "start_time": "2024-09-28T16:43:51.122Z"
   },
   {
    "duration": 808,
    "start_time": "2024-09-28T16:44:57.540Z"
   },
   {
    "duration": 11,
    "start_time": "2024-09-28T16:51:07.099Z"
   },
   {
    "duration": 4,
    "start_time": "2024-09-28T16:51:16.187Z"
   },
   {
    "duration": 124,
    "start_time": "2024-09-28T16:51:16.193Z"
   },
   {
    "duration": 3,
    "start_time": "2024-09-28T16:51:16.319Z"
   },
   {
    "duration": 29,
    "start_time": "2024-09-28T16:51:16.324Z"
   },
   {
    "duration": 12,
    "start_time": "2024-09-28T16:51:16.356Z"
   },
   {
    "duration": 25,
    "start_time": "2024-09-28T16:51:16.369Z"
   },
   {
    "duration": 83,
    "start_time": "2024-09-28T16:51:16.396Z"
   },
   {
    "duration": 13,
    "start_time": "2024-09-28T16:51:16.480Z"
   },
   {
    "duration": 254,
    "start_time": "2024-09-28T16:51:16.495Z"
   },
   {
    "duration": 174,
    "start_time": "2024-09-28T16:51:16.751Z"
   },
   {
    "duration": 234,
    "start_time": "2024-09-28T16:51:16.927Z"
   },
   {
    "duration": 250,
    "start_time": "2024-09-28T16:51:17.163Z"
   },
   {
    "duration": 4,
    "start_time": "2024-09-28T16:51:17.414Z"
   },
   {
    "duration": 32,
    "start_time": "2024-09-28T16:51:17.420Z"
   },
   {
    "duration": 57,
    "start_time": "2024-09-28T16:51:17.453Z"
   },
   {
    "duration": 52,
    "start_time": "2024-09-28T16:51:17.511Z"
   },
   {
    "duration": 57,
    "start_time": "2024-09-28T16:51:17.565Z"
   },
   {
    "duration": 56,
    "start_time": "2024-09-28T16:51:17.624Z"
   },
   {
    "duration": 336,
    "start_time": "2024-09-28T16:51:17.682Z"
   },
   {
    "duration": 2389,
    "start_time": "2024-09-28T16:51:18.020Z"
   },
   {
    "duration": 935,
    "start_time": "2024-09-28T16:51:20.411Z"
   },
   {
    "duration": 9,
    "start_time": "2024-09-28T16:51:21.347Z"
   },
   {
    "duration": 0,
    "start_time": "2024-09-28T16:51:21.358Z"
   },
   {
    "duration": 1127,
    "start_time": "2024-09-28T16:51:39.520Z"
   },
   {
    "duration": 8,
    "start_time": "2024-09-28T16:51:40.702Z"
   },
   {
    "duration": 8,
    "start_time": "2024-09-28T16:52:04.677Z"
   },
   {
    "duration": 1442,
    "start_time": "2024-09-28T19:46:50.279Z"
   },
   {
    "duration": 86,
    "start_time": "2024-09-28T19:46:51.723Z"
   },
   {
    "duration": 3,
    "start_time": "2024-09-28T19:46:51.810Z"
   },
   {
    "duration": 22,
    "start_time": "2024-09-28T19:46:51.815Z"
   },
   {
    "duration": 8,
    "start_time": "2024-09-28T19:46:51.839Z"
   },
   {
    "duration": 3,
    "start_time": "2024-09-28T19:46:51.849Z"
   },
   {
    "duration": 11,
    "start_time": "2024-09-28T19:46:51.853Z"
   },
   {
    "duration": 29,
    "start_time": "2024-09-28T19:46:51.866Z"
   },
   {
    "duration": 278,
    "start_time": "2024-09-28T19:46:51.897Z"
   },
   {
    "duration": 181,
    "start_time": "2024-09-28T19:46:52.176Z"
   },
   {
    "duration": 305,
    "start_time": "2024-09-28T19:46:52.359Z"
   },
   {
    "duration": 258,
    "start_time": "2024-09-28T19:46:52.665Z"
   },
   {
    "duration": 4,
    "start_time": "2024-09-28T19:46:52.924Z"
   },
   {
    "duration": 23,
    "start_time": "2024-09-28T19:46:52.930Z"
   },
   {
    "duration": 25,
    "start_time": "2024-09-28T19:46:52.958Z"
   },
   {
    "duration": 4,
    "start_time": "2024-09-28T19:46:52.985Z"
   },
   {
    "duration": 10,
    "start_time": "2024-09-28T19:46:52.990Z"
   },
   {
    "duration": 151,
    "start_time": "2024-09-28T19:46:53.002Z"
   },
   {
    "duration": 235,
    "start_time": "2024-09-28T19:46:53.155Z"
   },
   {
    "duration": 118,
    "start_time": "2024-09-28T19:46:53.392Z"
   },
   {
    "duration": 0,
    "start_time": "2024-09-28T19:46:53.512Z"
   },
   {
    "duration": 0,
    "start_time": "2024-09-28T19:46:53.513Z"
   },
   {
    "duration": 0,
    "start_time": "2024-09-28T19:46:53.514Z"
   },
   {
    "duration": 50,
    "start_time": "2024-09-28T19:46:58.255Z"
   },
   {
    "duration": 4231,
    "start_time": "2024-09-28T19:47:00.429Z"
   },
   {
    "duration": 16895,
    "start_time": "2024-09-28T19:47:04.662Z"
   },
   {
    "duration": 0,
    "start_time": "2024-09-28T19:47:21.559Z"
   },
   {
    "duration": 11187,
    "start_time": "2024-09-28T19:47:37.480Z"
   },
   {
    "duration": 9,
    "start_time": "2024-09-28T19:47:48.669Z"
   },
   {
    "duration": 5,
    "start_time": "2024-09-28T20:26:50.913Z"
   },
   {
    "duration": 86,
    "start_time": "2024-09-28T20:26:50.920Z"
   },
   {
    "duration": 4,
    "start_time": "2024-09-28T20:26:51.007Z"
   },
   {
    "duration": 30,
    "start_time": "2024-09-28T20:26:51.013Z"
   },
   {
    "duration": 11,
    "start_time": "2024-09-28T20:26:51.045Z"
   },
   {
    "duration": 13,
    "start_time": "2024-09-28T20:26:51.057Z"
   },
   {
    "duration": 37,
    "start_time": "2024-09-28T20:26:51.071Z"
   },
   {
    "duration": 16,
    "start_time": "2024-09-28T20:26:51.109Z"
   },
   {
    "duration": 243,
    "start_time": "2024-09-28T20:26:51.127Z"
   },
   {
    "duration": 155,
    "start_time": "2024-09-28T20:26:51.372Z"
   },
   {
    "duration": 220,
    "start_time": "2024-09-28T20:26:51.528Z"
   },
   {
    "duration": 356,
    "start_time": "2024-09-28T20:26:51.749Z"
   },
   {
    "duration": 4,
    "start_time": "2024-09-28T20:26:52.107Z"
   },
   {
    "duration": 4,
    "start_time": "2024-09-28T20:26:53.515Z"
   },
   {
    "duration": 4,
    "start_time": "2024-09-28T20:26:54.034Z"
   },
   {
    "duration": 24,
    "start_time": "2024-09-28T20:26:55.426Z"
   },
   {
    "duration": 6,
    "start_time": "2024-09-28T20:27:41.047Z"
   },
   {
    "duration": 3,
    "start_time": "2024-09-28T20:27:47.303Z"
   },
   {
    "duration": 78,
    "start_time": "2024-09-28T20:27:47.308Z"
   },
   {
    "duration": 3,
    "start_time": "2024-09-28T20:27:47.388Z"
   },
   {
    "duration": 17,
    "start_time": "2024-09-28T20:27:47.392Z"
   },
   {
    "duration": 7,
    "start_time": "2024-09-28T20:27:47.411Z"
   },
   {
    "duration": 3,
    "start_time": "2024-09-28T20:27:47.419Z"
   },
   {
    "duration": 6,
    "start_time": "2024-09-28T20:27:47.424Z"
   },
   {
    "duration": 15,
    "start_time": "2024-09-28T20:27:47.432Z"
   },
   {
    "duration": 241,
    "start_time": "2024-09-28T20:27:47.448Z"
   },
   {
    "duration": 157,
    "start_time": "2024-09-28T20:27:47.691Z"
   },
   {
    "duration": 223,
    "start_time": "2024-09-28T20:27:47.850Z"
   },
   {
    "duration": 225,
    "start_time": "2024-09-28T20:27:48.075Z"
   },
   {
    "duration": 4,
    "start_time": "2024-09-28T20:27:48.302Z"
   },
   {
    "duration": 8,
    "start_time": "2024-09-28T20:27:48.308Z"
   },
   {
    "duration": 39,
    "start_time": "2024-09-28T20:27:48.318Z"
   },
   {
    "duration": 4,
    "start_time": "2024-09-28T20:27:48.358Z"
   },
   {
    "duration": 6,
    "start_time": "2024-09-28T20:27:48.363Z"
   },
   {
    "duration": 6,
    "start_time": "2024-09-28T20:28:00.483Z"
   },
   {
    "duration": 6,
    "start_time": "2024-09-28T20:28:17.329Z"
   },
   {
    "duration": 6,
    "start_time": "2024-09-28T20:29:06.025Z"
   },
   {
    "duration": 20,
    "start_time": "2024-09-28T20:31:48.740Z"
   },
   {
    "duration": 12,
    "start_time": "2024-09-28T20:32:05.947Z"
   },
   {
    "duration": 9,
    "start_time": "2024-09-28T20:32:23.666Z"
   },
   {
    "duration": 8,
    "start_time": "2024-09-28T20:32:32.654Z"
   },
   {
    "duration": 47,
    "start_time": "2024-09-28T20:35:27.699Z"
   },
   {
    "duration": 12,
    "start_time": "2024-09-28T20:36:23.347Z"
   },
   {
    "duration": 4,
    "start_time": "2024-09-28T20:36:40.951Z"
   },
   {
    "duration": 23,
    "start_time": "2024-09-28T20:36:56.226Z"
   },
   {
    "duration": 9,
    "start_time": "2024-09-28T20:37:19.703Z"
   },
   {
    "duration": 54,
    "start_time": "2024-09-28T20:37:43.215Z"
   },
   {
    "duration": 3,
    "start_time": "2024-09-28T20:37:45.159Z"
   },
   {
    "duration": 9,
    "start_time": "2024-09-28T20:38:54.524Z"
   },
   {
    "duration": 6,
    "start_time": "2024-09-28T20:39:22.179Z"
   },
   {
    "duration": 3,
    "start_time": "2024-09-28T20:39:36.410Z"
   },
   {
    "duration": 6,
    "start_time": "2024-09-28T20:39:44.783Z"
   },
   {
    "duration": 38,
    "start_time": "2024-09-28T20:40:01.167Z"
   },
   {
    "duration": 3,
    "start_time": "2024-09-28T20:40:02.257Z"
   },
   {
    "duration": 7,
    "start_time": "2024-09-28T20:40:02.989Z"
   },
   {
    "duration": 6,
    "start_time": "2024-09-28T20:40:04.562Z"
   },
   {
    "duration": 251,
    "start_time": "2024-09-28T20:40:50.900Z"
   },
   {
    "duration": 3,
    "start_time": "2024-09-28T20:40:52.147Z"
   },
   {
    "duration": 6,
    "start_time": "2024-09-28T20:40:57.299Z"
   },
   {
    "duration": 7,
    "start_time": "2024-09-28T20:40:57.910Z"
   },
   {
    "duration": 471,
    "start_time": "2024-09-28T20:41:13.214Z"
   },
   {
    "duration": 4,
    "start_time": "2024-09-28T20:41:14.836Z"
   },
   {
    "duration": 6,
    "start_time": "2024-09-28T20:41:15.651Z"
   },
   {
    "duration": 6,
    "start_time": "2024-09-28T20:41:16.216Z"
   },
   {
    "duration": 246,
    "start_time": "2024-09-28T20:41:20.559Z"
   },
   {
    "duration": 3,
    "start_time": "2024-09-28T20:41:21.374Z"
   },
   {
    "duration": 7,
    "start_time": "2024-09-28T20:41:21.620Z"
   },
   {
    "duration": 6,
    "start_time": "2024-09-28T20:41:23.233Z"
   },
   {
    "duration": 12,
    "start_time": "2024-09-28T20:46:05.069Z"
   },
   {
    "duration": 3,
    "start_time": "2024-09-28T20:46:22.403Z"
   },
   {
    "duration": 11,
    "start_time": "2024-09-28T20:46:30.221Z"
   },
   {
    "duration": 10,
    "start_time": "2024-09-28T20:46:52.217Z"
   },
   {
    "duration": 11,
    "start_time": "2024-09-28T20:46:55.875Z"
   },
   {
    "duration": 11,
    "start_time": "2024-09-28T20:46:59.521Z"
   },
   {
    "duration": 11,
    "start_time": "2024-09-28T20:47:25.791Z"
   },
   {
    "duration": 19316,
    "start_time": "2024-09-28T20:48:06.945Z"
   },
   {
    "duration": 9,
    "start_time": "2024-09-28T20:48:26.263Z"
   },
   {
    "duration": 19037,
    "start_time": "2024-09-28T20:48:47.626Z"
   },
   {
    "duration": 6,
    "start_time": "2024-09-28T20:49:06.749Z"
   },
   {
    "duration": 12,
    "start_time": "2024-09-28T20:49:06.757Z"
   },
   {
    "duration": 77,
    "start_time": "2024-09-28T20:49:06.771Z"
   },
   {
    "duration": 11919,
    "start_time": "2024-09-29T05:47:44.332Z"
   },
   {
    "duration": 1435,
    "start_time": "2024-09-29T05:47:56.254Z"
   },
   {
    "duration": 195,
    "start_time": "2024-09-29T05:47:57.691Z"
   },
   {
    "duration": 4,
    "start_time": "2024-09-29T05:47:57.888Z"
   },
   {
    "duration": 21,
    "start_time": "2024-09-29T05:47:57.894Z"
   },
   {
    "duration": 8,
    "start_time": "2024-09-29T05:47:57.916Z"
   },
   {
    "duration": 3,
    "start_time": "2024-09-29T05:47:57.925Z"
   },
   {
    "duration": 9,
    "start_time": "2024-09-29T05:47:57.929Z"
   },
   {
    "duration": 48,
    "start_time": "2024-09-29T05:47:57.939Z"
   },
   {
    "duration": 288,
    "start_time": "2024-09-29T05:47:57.989Z"
   },
   {
    "duration": 170,
    "start_time": "2024-09-29T05:47:58.279Z"
   },
   {
    "duration": 344,
    "start_time": "2024-09-29T05:47:58.451Z"
   },
   {
    "duration": 265,
    "start_time": "2024-09-29T05:47:58.797Z"
   },
   {
    "duration": 11,
    "start_time": "2024-09-29T05:47:59.065Z"
   },
   {
    "duration": 554,
    "start_time": "2024-09-29T05:47:59.078Z"
   },
   {
    "duration": 121,
    "start_time": "2024-09-29T05:47:59.633Z"
   },
   {
    "duration": 4,
    "start_time": "2024-09-29T05:47:59.756Z"
   },
   {
    "duration": 6,
    "start_time": "2024-09-29T05:47:59.762Z"
   },
   {
    "duration": 6,
    "start_time": "2024-09-29T05:47:59.770Z"
   },
   {
    "duration": 6,
    "start_time": "2024-09-29T05:47:59.777Z"
   },
   {
    "duration": 193,
    "start_time": "2024-09-29T05:47:59.786Z"
   },
   {
    "duration": 93,
    "start_time": "2024-09-29T05:47:59.982Z"
   },
   {
    "duration": 6920,
    "start_time": "2024-09-29T05:48:00.078Z"
   },
   {
    "duration": 0,
    "start_time": "2024-09-29T05:48:07.000Z"
   },
   {
    "duration": 0,
    "start_time": "2024-09-29T05:48:07.001Z"
   },
   {
    "duration": 0,
    "start_time": "2024-09-29T05:48:07.003Z"
   },
   {
    "duration": 0,
    "start_time": "2024-09-29T05:48:07.004Z"
   },
   {
    "duration": 0,
    "start_time": "2024-09-29T05:48:07.005Z"
   },
   {
    "duration": 0,
    "start_time": "2024-09-29T05:48:07.007Z"
   },
   {
    "duration": 0,
    "start_time": "2024-09-29T05:48:07.008Z"
   },
   {
    "duration": 19106,
    "start_time": "2024-09-29T05:48:10.685Z"
   },
   {
    "duration": 4,
    "start_time": "2024-09-29T05:48:29.793Z"
   },
   {
    "duration": 11,
    "start_time": "2024-09-29T05:48:29.799Z"
   },
   {
    "duration": 101,
    "start_time": "2024-09-29T05:48:29.878Z"
   },
   {
    "duration": 55,
    "start_time": "2024-09-29T05:50:29.547Z"
   },
   {
    "duration": 11,
    "start_time": "2024-09-29T05:50:40.514Z"
   },
   {
    "duration": 45,
    "start_time": "2024-09-29T05:50:47.214Z"
   },
   {
    "duration": 3,
    "start_time": "2024-09-29T05:50:51.243Z"
   },
   {
    "duration": 13,
    "start_time": "2024-09-29T05:50:55.178Z"
   },
   {
    "duration": 10,
    "start_time": "2024-09-29T05:51:14.572Z"
   },
   {
    "duration": 12,
    "start_time": "2024-09-29T07:58:57.162Z"
   },
   {
    "duration": 10,
    "start_time": "2024-09-29T08:01:20.360Z"
   },
   {
    "duration": 11,
    "start_time": "2024-09-29T08:01:34.694Z"
   },
   {
    "duration": 12,
    "start_time": "2024-09-29T08:03:00.639Z"
   },
   {
    "duration": 10,
    "start_time": "2024-09-29T08:03:19.767Z"
   },
   {
    "duration": 165289,
    "start_time": "2024-09-29T08:05:10.446Z"
   },
   {
    "duration": 10,
    "start_time": "2024-09-29T08:08:18.089Z"
   },
   {
    "duration": 9,
    "start_time": "2024-09-29T08:09:03.809Z"
   },
   {
    "duration": 12,
    "start_time": "2024-09-29T08:09:28.492Z"
   },
   {
    "duration": 12,
    "start_time": "2024-09-29T08:09:40.802Z"
   },
   {
    "duration": 21,
    "start_time": "2024-09-29T08:09:56.088Z"
   },
   {
    "duration": 4,
    "start_time": "2024-09-29T08:10:38.984Z"
   },
   {
    "duration": 9,
    "start_time": "2024-09-29T08:16:55.443Z"
   },
   {
    "duration": 20,
    "start_time": "2024-09-29T08:18:08.548Z"
   },
   {
    "duration": 21,
    "start_time": "2024-09-29T08:18:20.848Z"
   },
   {
    "duration": 55,
    "start_time": "2024-09-29T12:22:53.091Z"
   },
   {
    "duration": 10,
    "start_time": "2024-09-29T12:23:10.485Z"
   },
   {
    "duration": 12975,
    "start_time": "2024-09-29T12:23:28.061Z"
   },
   {
    "duration": 1523,
    "start_time": "2024-09-29T12:23:41.038Z"
   },
   {
    "duration": 129,
    "start_time": "2024-09-29T12:23:42.563Z"
   },
   {
    "duration": 3,
    "start_time": "2024-09-29T12:23:42.694Z"
   },
   {
    "duration": 26,
    "start_time": "2024-09-29T12:23:42.699Z"
   },
   {
    "duration": 9,
    "start_time": "2024-09-29T12:23:42.727Z"
   },
   {
    "duration": 3,
    "start_time": "2024-09-29T12:23:42.738Z"
   },
   {
    "duration": 11,
    "start_time": "2024-09-29T12:23:42.742Z"
   },
   {
    "duration": 29,
    "start_time": "2024-09-29T12:23:42.755Z"
   },
   {
    "duration": 301,
    "start_time": "2024-09-29T12:23:42.785Z"
   },
   {
    "duration": 187,
    "start_time": "2024-09-29T12:23:43.088Z"
   },
   {
    "duration": 331,
    "start_time": "2024-09-29T12:23:43.277Z"
   },
   {
    "duration": 272,
    "start_time": "2024-09-29T12:23:43.610Z"
   },
   {
    "duration": 102,
    "start_time": "2024-09-29T12:23:43.885Z"
   },
   {
    "duration": 89,
    "start_time": "2024-09-29T12:25:25.297Z"
   },
   {
    "duration": 11,
    "start_time": "2024-09-29T12:26:03.371Z"
   },
   {
    "duration": 47,
    "start_time": "2024-09-29T12:26:58.652Z"
   },
   {
    "duration": 102,
    "start_time": "2024-09-29T12:27:03.702Z"
   },
   {
    "duration": 4,
    "start_time": "2024-09-29T12:27:25.395Z"
   },
   {
    "duration": 3,
    "start_time": "2024-09-29T12:27:31.611Z"
   },
   {
    "duration": 3,
    "start_time": "2024-09-29T12:27:36.130Z"
   },
   {
    "duration": 325485,
    "start_time": "2024-09-29T12:28:47.826Z"
   },
   {
    "duration": 5,
    "start_time": "2024-09-29T12:34:13.313Z"
   },
   {
    "duration": 13,
    "start_time": "2024-09-29T12:34:13.320Z"
   },
   {
    "duration": 5,
    "start_time": "2024-09-29T12:35:04.622Z"
   },
   {
    "duration": 350,
    "start_time": "2024-09-29T12:35:13.997Z"
   },
   {
    "duration": 5,
    "start_time": "2024-09-29T12:43:50.541Z"
   },
   {
    "duration": 139,
    "start_time": "2024-09-29T12:43:54.200Z"
   },
   {
    "duration": 10,
    "start_time": "2024-09-29T12:44:27.198Z"
   },
   {
    "duration": 7692,
    "start_time": "2024-09-29T12:44:37.649Z"
   },
   {
    "duration": 1324,
    "start_time": "2024-09-29T12:44:45.344Z"
   },
   {
    "duration": 82,
    "start_time": "2024-09-29T12:44:46.670Z"
   },
   {
    "duration": 4,
    "start_time": "2024-09-29T12:44:46.754Z"
   },
   {
    "duration": 38,
    "start_time": "2024-09-29T12:44:46.760Z"
   },
   {
    "duration": 8,
    "start_time": "2024-09-29T12:44:46.800Z"
   },
   {
    "duration": 11,
    "start_time": "2024-09-29T12:44:46.810Z"
   },
   {
    "duration": 9,
    "start_time": "2024-09-29T12:44:46.822Z"
   },
   {
    "duration": 39,
    "start_time": "2024-09-29T12:44:46.833Z"
   },
   {
    "duration": 289,
    "start_time": "2024-09-29T12:44:46.873Z"
   },
   {
    "duration": 185,
    "start_time": "2024-09-29T12:44:47.164Z"
   },
   {
    "duration": 330,
    "start_time": "2024-09-29T12:44:47.350Z"
   },
   {
    "duration": 274,
    "start_time": "2024-09-29T12:44:47.682Z"
   },
   {
    "duration": 23,
    "start_time": "2024-09-29T12:44:47.960Z"
   },
   {
    "duration": 16,
    "start_time": "2024-09-29T12:44:47.985Z"
   },
   {
    "duration": 162,
    "start_time": "2024-09-29T12:44:48.003Z"
   },
   {
    "duration": 13,
    "start_time": "2024-09-29T12:44:48.167Z"
   },
   {
    "duration": 12,
    "start_time": "2024-09-29T12:44:48.182Z"
   },
   {
    "duration": 8,
    "start_time": "2024-09-29T12:44:48.195Z"
   },
   {
    "duration": 321793,
    "start_time": "2024-09-29T12:44:48.205Z"
   },
   {
    "duration": 4,
    "start_time": "2024-09-29T12:50:10.000Z"
   },
   {
    "duration": 24,
    "start_time": "2024-09-29T12:50:10.006Z"
   },
   {
    "duration": 17,
    "start_time": "2024-09-29T12:50:10.032Z"
   },
   {
    "duration": 342,
    "start_time": "2024-09-29T12:50:10.050Z"
   },
   {
    "duration": 134,
    "start_time": "2024-09-29T12:50:10.394Z"
   },
   {
    "duration": 0,
    "start_time": "2024-09-29T12:50:10.530Z"
   },
   {
    "duration": 0,
    "start_time": "2024-09-29T12:50:10.531Z"
   },
   {
    "duration": 0,
    "start_time": "2024-09-29T12:50:10.532Z"
   },
   {
    "duration": 0,
    "start_time": "2024-09-29T12:50:10.533Z"
   },
   {
    "duration": 0,
    "start_time": "2024-09-29T12:50:10.534Z"
   },
   {
    "duration": 0,
    "start_time": "2024-09-29T12:50:10.535Z"
   },
   {
    "duration": 0,
    "start_time": "2024-09-29T12:50:10.537Z"
   },
   {
    "duration": 0,
    "start_time": "2024-09-29T12:50:10.538Z"
   },
   {
    "duration": 0,
    "start_time": "2024-09-29T12:50:10.539Z"
   },
   {
    "duration": 0,
    "start_time": "2024-09-29T12:50:10.540Z"
   },
   {
    "duration": 0,
    "start_time": "2024-09-29T12:50:10.541Z"
   },
   {
    "duration": 13,
    "start_time": "2024-09-29T12:56:03.218Z"
   },
   {
    "duration": 5121,
    "start_time": "2024-09-29T13:05:03.079Z"
   },
   {
    "duration": 1373,
    "start_time": "2024-09-29T13:05:08.203Z"
   },
   {
    "duration": 95,
    "start_time": "2024-09-29T13:05:09.578Z"
   },
   {
    "duration": 4,
    "start_time": "2024-09-29T13:05:09.674Z"
   },
   {
    "duration": 34,
    "start_time": "2024-09-29T13:05:09.680Z"
   },
   {
    "duration": 7,
    "start_time": "2024-09-29T13:05:09.716Z"
   },
   {
    "duration": 12,
    "start_time": "2024-09-29T13:05:09.725Z"
   },
   {
    "duration": 83,
    "start_time": "2024-09-29T13:05:09.739Z"
   },
   {
    "duration": 31,
    "start_time": "2024-09-29T13:05:09.824Z"
   },
   {
    "duration": 302,
    "start_time": "2024-09-29T13:05:09.857Z"
   },
   {
    "duration": 175,
    "start_time": "2024-09-29T13:05:10.161Z"
   },
   {
    "duration": 321,
    "start_time": "2024-09-29T13:05:10.337Z"
   },
   {
    "duration": 262,
    "start_time": "2024-09-29T13:05:10.660Z"
   },
   {
    "duration": 5,
    "start_time": "2024-09-29T13:05:10.925Z"
   },
   {
    "duration": 153,
    "start_time": "2024-09-29T13:05:10.931Z"
   },
   {
    "duration": 15,
    "start_time": "2024-09-29T13:05:11.088Z"
   },
   {
    "duration": 15,
    "start_time": "2024-09-29T13:05:11.105Z"
   },
   {
    "duration": 12,
    "start_time": "2024-09-29T13:05:11.122Z"
   },
   {
    "duration": 327843,
    "start_time": "2024-09-29T13:05:11.136Z"
   },
   {
    "duration": 5,
    "start_time": "2024-09-29T13:10:38.981Z"
   },
   {
    "duration": 14,
    "start_time": "2024-09-29T13:10:38.988Z"
   },
   {
    "duration": 6,
    "start_time": "2024-09-29T13:10:39.004Z"
   },
   {
    "duration": 348,
    "start_time": "2024-09-29T13:10:39.012Z"
   },
   {
    "duration": 9429,
    "start_time": "2024-09-30T06:50:47.371Z"
   },
   {
    "duration": 1522,
    "start_time": "2024-09-30T06:50:56.803Z"
   },
   {
    "duration": 0,
    "start_time": "2024-09-30T06:50:58.327Z"
   },
   {
    "duration": 0,
    "start_time": "2024-09-30T06:50:58.328Z"
   },
   {
    "duration": 0,
    "start_time": "2024-09-30T06:50:58.329Z"
   },
   {
    "duration": 0,
    "start_time": "2024-09-30T06:50:58.330Z"
   },
   {
    "duration": 0,
    "start_time": "2024-09-30T06:50:58.332Z"
   },
   {
    "duration": 0,
    "start_time": "2024-09-30T06:50:58.333Z"
   },
   {
    "duration": 0,
    "start_time": "2024-09-30T06:50:58.334Z"
   },
   {
    "duration": 0,
    "start_time": "2024-09-30T06:50:58.335Z"
   },
   {
    "duration": 74,
    "start_time": "2024-09-30T06:51:39.672Z"
   },
   {
    "duration": 207,
    "start_time": "2024-09-30T06:51:43.819Z"
   },
   {
    "duration": 3,
    "start_time": "2024-09-30T06:51:44.028Z"
   },
   {
    "duration": 23,
    "start_time": "2024-09-30T06:51:44.160Z"
   },
   {
    "duration": 8,
    "start_time": "2024-09-30T06:51:44.325Z"
   },
   {
    "duration": 3,
    "start_time": "2024-09-30T06:51:45.823Z"
   },
   {
    "duration": 9,
    "start_time": "2024-09-30T06:51:45.965Z"
   },
   {
    "duration": 7,
    "start_time": "2024-09-30T06:51:48.606Z"
   },
   {
    "duration": 383,
    "start_time": "2024-09-30T06:51:50.033Z"
   },
   {
    "duration": 326,
    "start_time": "2024-09-30T06:51:59.119Z"
   },
   {
    "duration": 263,
    "start_time": "2024-09-30T06:52:11.184Z"
   },
   {
    "duration": 168,
    "start_time": "2024-09-30T06:52:36.793Z"
   },
   {
    "duration": 253,
    "start_time": "2024-09-30T06:52:55.455Z"
   },
   {
    "duration": 241,
    "start_time": "2024-09-30T06:53:31.484Z"
   },
   {
    "duration": 57,
    "start_time": "2024-09-30T06:54:43.840Z"
   },
   {
    "duration": 9582,
    "start_time": "2024-12-24T07:04:37.542Z"
   },
   {
    "duration": 5220,
    "start_time": "2024-12-24T07:04:50.395Z"
   },
   {
    "duration": 2,
    "start_time": "2024-12-24T07:04:57.402Z"
   },
   {
    "duration": 1359,
    "start_time": "2024-12-24T07:04:59.408Z"
   },
   {
    "duration": 199,
    "start_time": "2024-12-24T07:05:07.443Z"
   }
  ],
  "kernelspec": {
   "display_name": "Python 3 (ipykernel)",
   "language": "python",
   "name": "python3"
  },
  "language_info": {
   "codemirror_mode": {
    "name": "ipython",
    "version": 3
   },
   "file_extension": ".py",
   "mimetype": "text/x-python",
   "name": "python",
   "nbconvert_exporter": "python",
   "pygments_lexer": "ipython3",
   "version": "3.9.5"
  },
  "toc": {
   "base_numbering": 1,
   "nav_menu": {},
   "number_sections": true,
   "sideBar": true,
   "skip_h1_title": true,
   "title_cell": "Содержание",
   "title_sidebar": "Contents",
   "toc_cell": true,
   "toc_position": {
    "height": "calc(100% - 180px)",
    "left": "10px",
    "top": "150px",
    "width": "165px"
   },
   "toc_section_display": true,
   "toc_window_display": false
  }
 },
 "nbformat": 4,
 "nbformat_minor": 2
}
